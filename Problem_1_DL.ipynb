{
  "nbformat": 4,
  "nbformat_minor": 0,
  "metadata": {
    "colab": {
      "name": "Copy of Problem_1_DL.ipynb",
      "provenance": []
    },
    "kernelspec": {
      "name": "python3",
      "display_name": "Python 3"
    },
    "accelerator": "GPU"
  },
  "cells": [
    {
      "cell_type": "code",
      "metadata": {
        "id": "kShSPl0zLcKU"
      },
      "source": [
        "def distribution1(x, batch_size=512):\n",
        "    # Distribution defined as (x, U(0,1)). Can be used for question 3\n",
        "    while True:\n",
        "        yield(np.array([(x, random.uniform(0, 1)) for _ in range(batch_size)]))\n",
        "\n",
        "\n",
        "def distribution2(batch_size=512):\n",
        "    # High dimension uniform distribution\n",
        "    while True:\n",
        "        yield(np.random.uniform(0, 1, (batch_size, 2)))\n",
        "\n",
        "\n",
        "def distribution3(batch_size=512):\n",
        "    # 1D gaussian distribution\n",
        "    while True:\n",
        "        yield(np.random.normal(0, 1, (batch_size, 1)))\n",
        "\n",
        "e = lambda x: np.exp(x)\n",
        "tanh = lambda x: (e(x) - e(-x)) / (e(x)+e(-x))\n",
        "def distribution4(batch_size=1):\n",
        "    # arbitrary sampler\n",
        "    f = lambda x: tanh(x*2+1) + x*0.75\n",
        "    while True:\n",
        "        yield(f(np.random.normal(0, 1, (batch_size, 1))))"
      ],
      "execution_count": null,
      "outputs": []
    },
    {
      "cell_type": "code",
      "metadata": {
        "id": "5CJYfj8HjjZf"
      },
      "source": [
        "#Importer les dossiers\n",
        "#import density_estimation as de\n",
        "#import samplers as sm\n",
        "\n",
        "#Importer les bibliothèques de python\n",
        "import numpy as np \n",
        "import matplotlib.pyplot as plt\n",
        "import torch\n",
        "import torch.nn as nn\n",
        "import torch.nn.functional as F\n",
        "import torch.optim as optim\n",
        "import random"
      ],
      "execution_count": null,
      "outputs": []
    },
    {
      "cell_type": "code",
      "metadata": {
        "id": "jG-I_rShj-yn"
      },
      "source": [
        "def xavier_init(m):\n",
        "    \"\"\" Xavier initialization \"\"\"\n",
        "    if type(m) == nn.Linear:\n",
        "        nn.init.xavier_uniform_(m.weight)\n",
        "        m.bias.data.fill_(0)\n",
        "\n",
        "class Net(nn.Module):\n",
        "    def __init__(self):\n",
        "        super(Net,self).__init__()\n",
        "        self.D = nn.Sequential(\n",
        "            nn.Linear(2, 32),\n",
        "            nn.ReLU(),\n",
        "            nn.Linear(32, 32),\n",
        "            nn.ReLU(),\n",
        "            nn.Linear(32,1),\n",
        "            nn.Sigmoid()\n",
        "        )\n",
        "        self.D.apply(xavier_init)\n",
        "    def forward(self,input):\n",
        "        return self.D(input)"
      ],
      "execution_count": null,
      "outputs": []
    },
    {
      "cell_type": "code",
      "metadata": {
        "id": "DIGjsyM6g2fw"
      },
      "source": [
        "def xavier_init(m):\n",
        "    \"\"\" Xavier initialization \"\"\"\n",
        "    if type(m) == nn.Linear:\n",
        "        nn.init.xavier_uniform_(m.weight)\n",
        "        m.bias.data.fill_(0)\n",
        "\n",
        "class WNet(nn.Module):\n",
        "    def __init__(self):\n",
        "        super(WNet,self).__init__()\n",
        "        self.D = nn.Sequential(\n",
        "            nn.Linear(2, 32),\n",
        "            nn.ReLU(),\n",
        "            nn.Linear(32, 32),\n",
        "            nn.ReLU(),\n",
        "            nn.Linear(32,1)\n",
        "        )\n",
        "        self.D.apply(xavier_init)\n",
        "    def forward(self,input):\n",
        "        return self.D(input)"
      ],
      "execution_count": null,
      "outputs": []
    },
    {
      "cell_type": "code",
      "metadata": {
        "id": "zgrpyotJkEdh"
      },
      "source": [
        "D = Net()\n",
        "T = Net()"
      ],
      "execution_count": null,
      "outputs": []
    },
    {
      "cell_type": "code",
      "metadata": {
        "id": "W8TcOlUWkJG3"
      },
      "source": [
        "def loss_fn1(Discriminator,x,y):\n",
        "    x = x.to('cuda')\n",
        "    y = y.to('cuda')\n",
        "    real_data = torch.mean(torch.log(Discriminator(x)))\n",
        "    fake_data = torch.mean(torch.log(1 - Discriminator(y)))\n",
        "    return -(real_data+fake_data)"
      ],
      "execution_count": null,
      "outputs": []
    },
    {
      "cell_type": "code",
      "metadata": {
        "id": "kvZVhjpXkNXJ"
      },
      "source": [
        "def loss_fn2(Discriminator,x,y,lamb=10):\n",
        "    x = x.to('cuda')\n",
        "    y = y.to('cuda')\n",
        "    real_data = torch.mean(Discriminator(x))\n",
        "    #print(\"D_real:\",real_data)\n",
        "    fake_data = torch.mean(Discriminator(y))\n",
        "    #print(\"D_fake:\",real_data)\n",
        "    a = torch.empty(512, 1).uniform_(0, 1).float().cuda()\n",
        "    #p = torch.from_numpy(next(sm.distribution1(0))).float()\n",
        "    #q = torch.from_numpy(next(sm.distribution1(-1))).float()\n",
        "    \n",
        "    z = a*x+(1-a)*y\n",
        "    input = torch.autograd.Variable(z,requires_grad= True)\n",
        "    output = Discriminator(input)\n",
        "    grad = torch.autograd.grad(output, input, grad_outputs=torch.ones(output.size()).cuda(),create_graph=True, only_inputs=True, \n",
        "    \t\t\t\t\t   retain_graph=True)[0]\n",
        "    grad = grad.view(512, -1)\n",
        "    grad = grad.norm(2,dim =1)\n",
        "    grad = grad - 1\n",
        "    grad = grad**2\n",
        "    #grad = torch.sqrt(grad)\n",
        "    return -(real_data-fake_data-lamb*grad.mean())"
      ],
      "execution_count": null,
      "outputs": []
    },
    {
      "cell_type": "code",
      "metadata": {
        "id": "yDRn6nBAkRMa",
        "outputId": "7c1e02c8-8f17-4339-9185-39a383bb4a25",
        "colab": {
          "base_uri": "https://localhost:8080/",
          "height": 2221
        }
      },
      "source": [
        "a,b,thet = [],[],[]\n",
        "cuda = torch.cuda.is_available();\n",
        "for i in range(21):\n",
        "    T = WNet().cuda()\n",
        "    theta = -1 + i*0.1\n",
        "    thet.append(theta)\n",
        "    p = distribution1(0, 512)\n",
        "    q = distribution1(theta,512)\n",
        "    dist_p = iter(p)\n",
        "    dist_q = iter(q)\n",
        "#\t\tdist_q = iter(q)\n",
        "    optimizer = optim.Adam(T.parameters(), lr=1e-3)\n",
        "    print('theta:', thet)\n",
        "    for i in range(5000):\n",
        "        T.train()\n",
        "        X = torch.from_numpy(next(dist_p)).float()\n",
        "        Y = torch.from_numpy(next(dist_q)).float()\n",
        "        loss = loss_fn2(T,X,Y)\n",
        "        if ( i%1000 == True):\n",
        "          print(-loss.data)\n",
        "        T.zero_grad()\n",
        "        loss.backward()\n",
        "        optimizer.step()\n",
        "    T.eval()\n",
        "    X = torch.from_numpy(next(dist_p)).float()\n",
        "    Y = torch.from_numpy(next(dist_q)).float()\n",
        "    b.append(-loss_fn2(T,X,Y))"
      ],
      "execution_count": null,
      "outputs": [
        {
          "output_type": "stream",
          "text": [
            "theta: [-1.0]\n",
            "tensor(-8.2364, device='cuda:0')\n",
            "tensor(1.0247, device='cuda:0')\n",
            "tensor(1.0249, device='cuda:0')\n",
            "tensor(1.0258, device='cuda:0')\n",
            "tensor(1.0258, device='cuda:0')\n",
            "theta: [-1.0, -0.9]\n",
            "tensor(-4.7980, device='cuda:0')\n",
            "tensor(0.9209, device='cuda:0')\n",
            "tensor(0.9213, device='cuda:0')\n",
            "tensor(0.9204, device='cuda:0')\n",
            "tensor(0.9206, device='cuda:0')\n",
            "theta: [-1.0, -0.9, -0.8]\n",
            "tensor(-4.6533, device='cuda:0')\n",
            "tensor(0.8162, device='cuda:0')\n",
            "tensor(0.8161, device='cuda:0')\n",
            "tensor(0.8163, device='cuda:0')\n",
            "tensor(0.8141, device='cuda:0')\n",
            "theta: [-1.0, -0.9, -0.8, -0.7]\n",
            "tensor(-6.0719, device='cuda:0')\n",
            "tensor(0.7122, device='cuda:0')\n",
            "tensor(0.7123, device='cuda:0')\n",
            "tensor(0.7126, device='cuda:0')\n",
            "tensor(0.7123, device='cuda:0')\n",
            "theta: [-1.0, -0.9, -0.8, -0.7, -0.6]\n",
            "tensor(-5.3287, device='cuda:0')\n",
            "tensor(0.6088, device='cuda:0')\n",
            "tensor(0.6089, device='cuda:0')\n",
            "tensor(0.6093, device='cuda:0')\n",
            "tensor(0.6093, device='cuda:0')\n",
            "theta: [-1.0, -0.9, -0.8, -0.7, -0.6, -0.5]\n",
            "tensor(-7.4934, device='cuda:0')\n",
            "tensor(0.5061, device='cuda:0')\n",
            "tensor(0.5061, device='cuda:0')\n",
            "tensor(0.5063, device='cuda:0')\n",
            "tensor(0.5063, device='cuda:0')\n",
            "theta: [-1.0, -0.9, -0.8, -0.7, -0.6, -0.5, -0.3999999999999999]\n",
            "tensor(-6.2270, device='cuda:0')\n",
            "tensor(0.4041, device='cuda:0')\n",
            "tensor(0.4041, device='cuda:0')\n",
            "tensor(0.4040, device='cuda:0')\n",
            "tensor(0.4038, device='cuda:0')\n",
            "theta: [-1.0, -0.9, -0.8, -0.7, -0.6, -0.5, -0.3999999999999999, -0.29999999999999993]\n",
            "tensor(-6.7209, device='cuda:0')\n",
            "tensor(0.3022, device='cuda:0')\n",
            "tensor(0.3022, device='cuda:0')\n",
            "tensor(0.3026, device='cuda:0')\n",
            "tensor(0.3023, device='cuda:0')\n",
            "theta: [-1.0, -0.9, -0.8, -0.7, -0.6, -0.5, -0.3999999999999999, -0.29999999999999993, -0.19999999999999996]\n",
            "tensor(-7.1010, device='cuda:0')\n",
            "tensor(0.2007, device='cuda:0')\n",
            "tensor(0.2011, device='cuda:0')\n",
            "tensor(0.2011, device='cuda:0')\n",
            "tensor(0.2011, device='cuda:0')\n",
            "theta: [-1.0, -0.9, -0.8, -0.7, -0.6, -0.5, -0.3999999999999999, -0.29999999999999993, -0.19999999999999996, -0.09999999999999998]\n",
            "tensor(-4.4009, device='cuda:0')\n",
            "tensor(0.1001, device='cuda:0')\n",
            "tensor(0.1003, device='cuda:0')\n",
            "tensor(0.1002, device='cuda:0')\n",
            "tensor(0.0991, device='cuda:0')\n",
            "theta: [-1.0, -0.9, -0.8, -0.7, -0.6, -0.5, -0.3999999999999999, -0.29999999999999993, -0.19999999999999996, -0.09999999999999998, 0.0]\n",
            "tensor(-6.3551, device='cuda:0')\n",
            "tensor(-0.0223, device='cuda:0')\n",
            "tensor(-1.2320e-05, device='cuda:0')\n",
            "tensor(-0.0051, device='cuda:0')\n",
            "tensor(0.0115, device='cuda:0')\n",
            "theta: [-1.0, -0.9, -0.8, -0.7, -0.6, -0.5, -0.3999999999999999, -0.29999999999999993, -0.19999999999999996, -0.09999999999999998, 0.0, 0.10000000000000009]\n",
            "tensor(-6.3773, device='cuda:0')\n",
            "tensor(0.1014, device='cuda:0')\n",
            "tensor(0.1002, device='cuda:0')\n",
            "tensor(0.1004, device='cuda:0')\n",
            "tensor(0.1001, device='cuda:0')\n",
            "theta: [-1.0, -0.9, -0.8, -0.7, -0.6, -0.5, -0.3999999999999999, -0.29999999999999993, -0.19999999999999996, -0.09999999999999998, 0.0, 0.10000000000000009, 0.20000000000000018]\n",
            "tensor(-9.1834, device='cuda:0')\n",
            "tensor(0.2000, device='cuda:0')\n",
            "tensor(0.2010, device='cuda:0')\n",
            "tensor(0.2010, device='cuda:0')\n",
            "tensor(0.2005, device='cuda:0')\n",
            "theta: [-1.0, -0.9, -0.8, -0.7, -0.6, -0.5, -0.3999999999999999, -0.29999999999999993, -0.19999999999999996, -0.09999999999999998, 0.0, 0.10000000000000009, 0.20000000000000018, 0.30000000000000004]\n",
            "tensor(-5.6765, device='cuda:0')\n",
            "tensor(0.3016, device='cuda:0')\n",
            "tensor(0.3025, device='cuda:0')\n",
            "tensor(0.3022, device='cuda:0')\n",
            "tensor(0.3020, device='cuda:0')\n",
            "theta: [-1.0, -0.9, -0.8, -0.7, -0.6, -0.5, -0.3999999999999999, -0.29999999999999993, -0.19999999999999996, -0.09999999999999998, 0.0, 0.10000000000000009, 0.20000000000000018, 0.30000000000000004, 0.40000000000000013]\n",
            "tensor(-5.3753, device='cuda:0')\n",
            "tensor(0.4035, device='cuda:0')\n",
            "tensor(0.4042, device='cuda:0')\n",
            "tensor(0.4041, device='cuda:0')\n",
            "tensor(0.4041, device='cuda:0')\n",
            "theta: [-1.0, -0.9, -0.8, -0.7, -0.6, -0.5, -0.3999999999999999, -0.29999999999999993, -0.19999999999999996, -0.09999999999999998, 0.0, 0.10000000000000009, 0.20000000000000018, 0.30000000000000004, 0.40000000000000013, 0.5]\n",
            "tensor(-7.2402, device='cuda:0')\n",
            "tensor(0.5065, device='cuda:0')\n",
            "tensor(0.5057, device='cuda:0')\n",
            "tensor(0.5063, device='cuda:0')\n",
            "tensor(0.5061, device='cuda:0')\n",
            "theta: [-1.0, -0.9, -0.8, -0.7, -0.6, -0.5, -0.3999999999999999, -0.29999999999999993, -0.19999999999999996, -0.09999999999999998, 0.0, 0.10000000000000009, 0.20000000000000018, 0.30000000000000004, 0.40000000000000013, 0.5, 0.6000000000000001]\n",
            "tensor(-8.1901, device='cuda:0')\n",
            "tensor(0.6089, device='cuda:0')\n",
            "tensor(0.6088, device='cuda:0')\n",
            "tensor(0.6090, device='cuda:0')\n",
            "tensor(0.6087, device='cuda:0')\n",
            "theta: [-1.0, -0.9, -0.8, -0.7, -0.6, -0.5, -0.3999999999999999, -0.29999999999999993, -0.19999999999999996, -0.09999999999999998, 0.0, 0.10000000000000009, 0.20000000000000018, 0.30000000000000004, 0.40000000000000013, 0.5, 0.6000000000000001, 0.7000000000000002]\n",
            "tensor(-7.6420, device='cuda:0')\n",
            "tensor(0.7122, device='cuda:0')\n",
            "tensor(0.7122, device='cuda:0')\n",
            "tensor(0.7122, device='cuda:0')\n",
            "tensor(0.7123, device='cuda:0')\n",
            "theta: [-1.0, -0.9, -0.8, -0.7, -0.6, -0.5, -0.3999999999999999, -0.29999999999999993, -0.19999999999999996, -0.09999999999999998, 0.0, 0.10000000000000009, 0.20000000000000018, 0.30000000000000004, 0.40000000000000013, 0.5, 0.6000000000000001, 0.7000000000000002, 0.8]\n",
            "tensor(-7.2160, device='cuda:0')\n",
            "tensor(0.8156, device='cuda:0')\n",
            "tensor(0.8162, device='cuda:0')\n",
            "tensor(0.8164, device='cuda:0')\n",
            "tensor(0.8161, device='cuda:0')\n",
            "theta: [-1.0, -0.9, -0.8, -0.7, -0.6, -0.5, -0.3999999999999999, -0.29999999999999993, -0.19999999999999996, -0.09999999999999998, 0.0, 0.10000000000000009, 0.20000000000000018, 0.30000000000000004, 0.40000000000000013, 0.5, 0.6000000000000001, 0.7000000000000002, 0.8, 0.9000000000000001]\n",
            "tensor(-4.0324, device='cuda:0')\n",
            "tensor(0.9202, device='cuda:0')\n",
            "tensor(0.9206, device='cuda:0')\n",
            "tensor(0.9201, device='cuda:0')\n",
            "tensor(0.9203, device='cuda:0')\n",
            "theta: [-1.0, -0.9, -0.8, -0.7, -0.6, -0.5, -0.3999999999999999, -0.29999999999999993, -0.19999999999999996, -0.09999999999999998, 0.0, 0.10000000000000009, 0.20000000000000018, 0.30000000000000004, 0.40000000000000013, 0.5, 0.6000000000000001, 0.7000000000000002, 0.8, 0.9000000000000001, 1.0]\n",
            "tensor(-4.4708, device='cuda:0')\n",
            "tensor(1.0247, device='cuda:0')\n",
            "tensor(1.0251, device='cuda:0')\n",
            "tensor(1.0245, device='cuda:0')\n",
            "tensor(1.0249, device='cuda:0')\n"
          ],
          "name": "stdout"
        }
      ]
    },
    {
      "cell_type": "code",
      "metadata": {
        "id": "He8jwm-lw8AV",
        "outputId": "446d2e5e-b56e-4152-fce2-93175271d86d",
        "colab": {
          "base_uri": "https://localhost:8080/",
          "height": 2221
        }
      },
      "source": [
        "a,thet = [],[]\n",
        "cuda = torch.cuda.is_available();\n",
        "for i in range(21):\n",
        "    D = Net().cuda()\n",
        "    theta = -1 + i*0.1\n",
        "    thet.append(theta)\n",
        "    p = distribution1(0, 512)\n",
        "    q = distribution1(theta,512)\n",
        "    dist_p = iter(p)\n",
        "    dist_q = iter(q)\n",
        "#\tdist_q = iter(q)\n",
        "    optimizer = optim.Adam(D.parameters(), lr=1e-3)\n",
        "    print(thet)\n",
        "    for i in range(5000):\n",
        "        D.train()\n",
        "        X = torch.from_numpy(next(dist_p)).float()\n",
        "        Y = torch.from_numpy(next(dist_q)).float()\n",
        "        loss = loss_fn1(D,X,Y)\n",
        "        \n",
        "        D.zero_grad()\n",
        "        if ( i%1000 == True):\n",
        "          print(-loss.data)\n",
        "        loss.backward()\n",
        "        optimizer.step()\n",
        "    D.eval()\n",
        "    X = torch.from_numpy(next(dist_p)).float()\n",
        "    Y = torch.from_numpy(next(dist_q)).float()\n",
        "    a.append(-loss_fn1(D,X,Y)/2+np.log(2))\n",
        "    #b.append(-loss_fn2(T,p,q))"
      ],
      "execution_count": null,
      "outputs": [
        {
          "output_type": "stream",
          "text": [
            "[-1.0]\n",
            "tensor(-1.2429, device='cuda:0')\n",
            "tensor(-0.0011, device='cuda:0')\n",
            "tensor(-0.0002, device='cuda:0')\n",
            "tensor(-6.6795e-05, device='cuda:0')\n",
            "tensor(-3.1449e-05, device='cuda:0')\n",
            "[-1.0, -0.9]\n",
            "tensor(-1.4331, device='cuda:0')\n",
            "tensor(-0.0012, device='cuda:0')\n",
            "tensor(-0.0002, device='cuda:0')\n",
            "tensor(-9.6545e-05, device='cuda:0')\n",
            "tensor(-4.0631e-05, device='cuda:0')\n",
            "[-1.0, -0.9, -0.8]\n",
            "tensor(-1.3432, device='cuda:0')\n",
            "tensor(-0.0009, device='cuda:0')\n",
            "tensor(-0.0002, device='cuda:0')\n",
            "tensor(-6.5357e-05, device='cuda:0')\n",
            "tensor(-2.9523e-05, device='cuda:0')\n",
            "[-1.0, -0.9, -0.8, -0.7]\n",
            "tensor(-1.4464, device='cuda:0')\n",
            "tensor(-0.0011, device='cuda:0')\n",
            "tensor(-0.0002, device='cuda:0')\n",
            "tensor(-8.2210e-05, device='cuda:0')\n",
            "tensor(-3.1516e-05, device='cuda:0')\n",
            "[-1.0, -0.9, -0.8, -0.7, -0.6]\n",
            "tensor(-1.3831, device='cuda:0')\n",
            "tensor(-0.0006, device='cuda:0')\n",
            "tensor(-9.6786e-05, device='cuda:0')\n",
            "tensor(-3.4195e-05, device='cuda:0')\n",
            "tensor(-1.5000e-05, device='cuda:0')\n",
            "[-1.0, -0.9, -0.8, -0.7, -0.6, -0.5]\n",
            "tensor(-1.3526, device='cuda:0')\n",
            "tensor(-0.0012, device='cuda:0')\n",
            "tensor(-0.0003, device='cuda:0')\n",
            "tensor(-9.4337e-05, device='cuda:0')\n",
            "tensor(-4.3566e-05, device='cuda:0')\n",
            "[-1.0, -0.9, -0.8, -0.7, -0.6, -0.5, -0.3999999999999999]\n",
            "tensor(-1.4053, device='cuda:0')\n",
            "tensor(-0.0015, device='cuda:0')\n",
            "tensor(-0.0003, device='cuda:0')\n",
            "tensor(-0.0001, device='cuda:0')\n",
            "tensor(-4.4086e-05, device='cuda:0')\n",
            "[-1.0, -0.9, -0.8, -0.7, -0.6, -0.5, -0.3999999999999999, -0.29999999999999993]\n",
            "tensor(-1.3894, device='cuda:0')\n",
            "tensor(-0.0015, device='cuda:0')\n",
            "tensor(-0.0002, device='cuda:0')\n",
            "tensor(-7.5989e-05, device='cuda:0')\n",
            "tensor(-3.2791e-05, device='cuda:0')\n",
            "[-1.0, -0.9, -0.8, -0.7, -0.6, -0.5, -0.3999999999999999, -0.29999999999999993, -0.19999999999999996]\n",
            "tensor(-1.3987, device='cuda:0')\n",
            "tensor(-0.0027, device='cuda:0')\n",
            "tensor(-0.0003, device='cuda:0')\n",
            "tensor(-9.7099e-05, device='cuda:0')\n",
            "tensor(-3.7411e-05, device='cuda:0')\n",
            "[-1.0, -0.9, -0.8, -0.7, -0.6, -0.5, -0.3999999999999999, -0.29999999999999993, -0.19999999999999996, -0.09999999999999998]\n",
            "tensor(-1.3793, device='cuda:0')\n",
            "tensor(-0.0038, device='cuda:0')\n",
            "tensor(-0.0006, device='cuda:0')\n",
            "tensor(-0.0002, device='cuda:0')\n",
            "tensor(-8.3205e-05, device='cuda:0')\n",
            "[-1.0, -0.9, -0.8, -0.7, -0.6, -0.5, -0.3999999999999999, -0.29999999999999993, -0.19999999999999996, -0.09999999999999998, 0.0]\n",
            "tensor(-1.3885, device='cuda:0')\n",
            "tensor(-1.3863, device='cuda:0')\n",
            "tensor(-1.3862, device='cuda:0')\n",
            "tensor(-1.3859, device='cuda:0')\n",
            "tensor(-1.3861, device='cuda:0')\n",
            "[-1.0, -0.9, -0.8, -0.7, -0.6, -0.5, -0.3999999999999999, -0.29999999999999993, -0.19999999999999996, -0.09999999999999998, 0.0, 0.10000000000000009]\n",
            "tensor(-1.3720, device='cuda:0')\n",
            "tensor(-0.0040, device='cuda:0')\n",
            "tensor(-0.0008, device='cuda:0')\n",
            "tensor(-0.0003, device='cuda:0')\n",
            "tensor(-0.0001, device='cuda:0')\n",
            "[-1.0, -0.9, -0.8, -0.7, -0.6, -0.5, -0.3999999999999999, -0.29999999999999993, -0.19999999999999996, -0.09999999999999998, 0.0, 0.10000000000000009, 0.20000000000000018]\n",
            "tensor(-1.3767, device='cuda:0')\n",
            "tensor(-0.0025, device='cuda:0')\n",
            "tensor(-0.0005, device='cuda:0')\n",
            "tensor(-0.0002, device='cuda:0')\n",
            "tensor(-8.1506e-05, device='cuda:0')\n",
            "[-1.0, -0.9, -0.8, -0.7, -0.6, -0.5, -0.3999999999999999, -0.29999999999999993, -0.19999999999999996, -0.09999999999999998, 0.0, 0.10000000000000009, 0.20000000000000018, 0.30000000000000004]\n",
            "tensor(-1.3995, device='cuda:0')\n",
            "tensor(-0.0018, device='cuda:0')\n",
            "tensor(-0.0004, device='cuda:0')\n",
            "tensor(-0.0001, device='cuda:0')\n",
            "tensor(-6.0818e-05, device='cuda:0')\n",
            "[-1.0, -0.9, -0.8, -0.7, -0.6, -0.5, -0.3999999999999999, -0.29999999999999993, -0.19999999999999996, -0.09999999999999998, 0.0, 0.10000000000000009, 0.20000000000000018, 0.30000000000000004, 0.40000000000000013]\n",
            "tensor(-1.3863, device='cuda:0')\n",
            "tensor(-0.0018, device='cuda:0')\n",
            "tensor(-0.0003, device='cuda:0')\n",
            "tensor(-0.0001, device='cuda:0')\n",
            "tensor(-5.3423e-05, device='cuda:0')\n",
            "[-1.0, -0.9, -0.8, -0.7, -0.6, -0.5, -0.3999999999999999, -0.29999999999999993, -0.19999999999999996, -0.09999999999999998, 0.0, 0.10000000000000009, 0.20000000000000018, 0.30000000000000004, 0.40000000000000013, 0.5]\n",
            "tensor(-1.3604, device='cuda:0')\n",
            "tensor(-0.0006, device='cuda:0')\n",
            "tensor(-0.0001, device='cuda:0')\n",
            "tensor(-4.1541e-05, device='cuda:0')\n",
            "tensor(-1.9066e-05, device='cuda:0')\n",
            "[-1.0, -0.9, -0.8, -0.7, -0.6, -0.5, -0.3999999999999999, -0.29999999999999993, -0.19999999999999996, -0.09999999999999998, 0.0, 0.10000000000000009, 0.20000000000000018, 0.30000000000000004, 0.40000000000000013, 0.5, 0.6000000000000001]\n",
            "tensor(-1.3874, device='cuda:0')\n",
            "tensor(-0.0010, device='cuda:0')\n",
            "tensor(-0.0002, device='cuda:0')\n",
            "tensor(-7.6306e-05, device='cuda:0')\n",
            "tensor(-3.3827e-05, device='cuda:0')\n",
            "[-1.0, -0.9, -0.8, -0.7, -0.6, -0.5, -0.3999999999999999, -0.29999999999999993, -0.19999999999999996, -0.09999999999999998, 0.0, 0.10000000000000009, 0.20000000000000018, 0.30000000000000004, 0.40000000000000013, 0.5, 0.6000000000000001, 0.7000000000000002]\n",
            "tensor(-1.3792, device='cuda:0')\n",
            "tensor(-0.0010, device='cuda:0')\n",
            "tensor(-0.0002, device='cuda:0')\n",
            "tensor(-7.8110e-05, device='cuda:0')\n",
            "tensor(-3.3970e-05, device='cuda:0')\n",
            "[-1.0, -0.9, -0.8, -0.7, -0.6, -0.5, -0.3999999999999999, -0.29999999999999993, -0.19999999999999996, -0.09999999999999998, 0.0, 0.10000000000000009, 0.20000000000000018, 0.30000000000000004, 0.40000000000000013, 0.5, 0.6000000000000001, 0.7000000000000002, 0.8]\n",
            "tensor(-1.3784, device='cuda:0')\n",
            "tensor(-0.0012, device='cuda:0')\n",
            "tensor(-0.0002, device='cuda:0')\n",
            "tensor(-7.9010e-05, device='cuda:0')\n",
            "tensor(-2.3407e-05, device='cuda:0')\n",
            "[-1.0, -0.9, -0.8, -0.7, -0.6, -0.5, -0.3999999999999999, -0.29999999999999993, -0.19999999999999996, -0.09999999999999998, 0.0, 0.10000000000000009, 0.20000000000000018, 0.30000000000000004, 0.40000000000000013, 0.5, 0.6000000000000001, 0.7000000000000002, 0.8, 0.9000000000000001]\n",
            "tensor(-1.3692, device='cuda:0')\n",
            "tensor(-0.0011, device='cuda:0')\n",
            "tensor(-0.0002, device='cuda:0')\n",
            "tensor(-7.6775e-05, device='cuda:0')\n",
            "tensor(-3.5471e-05, device='cuda:0')\n",
            "[-1.0, -0.9, -0.8, -0.7, -0.6, -0.5, -0.3999999999999999, -0.29999999999999993, -0.19999999999999996, -0.09999999999999998, 0.0, 0.10000000000000009, 0.20000000000000018, 0.30000000000000004, 0.40000000000000013, 0.5, 0.6000000000000001, 0.7000000000000002, 0.8, 0.9000000000000001, 1.0]\n",
            "tensor(-1.4149, device='cuda:0')\n",
            "tensor(-0.0008, device='cuda:0')\n",
            "tensor(-0.0002, device='cuda:0')\n",
            "tensor(-6.2923e-05, device='cuda:0')\n",
            "tensor(-2.7475e-05, device='cuda:0')\n"
          ],
          "name": "stdout"
        }
      ]
    },
    {
      "cell_type": "code",
      "metadata": {
        "id": "cKmOqnC0kdHL",
        "outputId": "867d81d3-464d-42a9-a06a-9d901ecc3ede",
        "colab": {
          "base_uri": "https://localhost:8080/",
          "height": 269
        }
      },
      "source": [
        "#plt.plot(thet,a)\n",
        "plt.plot(thet,b)\n",
        "plt.show()"
      ],
      "execution_count": null,
      "outputs": [
        {
          "output_type": "display_data",
          "data": {
            "image/png": "[encoded data removed]",
            "text/plain": [
              "<Figure size 432x288 with 1 Axes>"
            ]
          },
          "metadata": {
            "tags": []
          }
        }
      ]
    },
    {
      "cell_type": "code",
      "metadata": {
        "id": "3Cpxu5SXlLQd",
        "outputId": "aa5afa48-5a04-4ee9-9ff8-e7d5237a16f6",
        "colab": {
          "base_uri": "https://localhost:8080/",
          "height": 374
        }
      },
      "source": [
        "import numpy as np\n",
        "import matplotlib.pyplot as plt\n",
        "import torch\n",
        "from torch.autograd import Variable\n",
        "import torch.nn as nn\n",
        "import torch.nn.functional as F\n",
        "import torch.optim as optim\n",
        "from torch.autograd import grad as torch_grad\n",
        "import samplers as samplers\n",
        "\n",
        "cuda = torch.cuda.is_available();\n",
        "\n",
        "class Net(nn.Module):\n",
        "    def __init__(self, X_dim=2, h_dim= 32):\n",
        "        super(Net, self).__init__()\n",
        "        self.X_dim = X_dim\n",
        "        self.h_dim = h_dim\n",
        "        self.D = torch.nn.Sequential(\n",
        "\t\t\t    torch.nn.Linear(X_dim, h_dim),\n",
        "\t\t\t    torch.nn.ReLU(),\n",
        "\t\t\t    torch.nn.Linear(h_dim, h_dim),\n",
        "\t\t\t    torch.nn.ReLU(),\n",
        "\t\t\t    torch.nn.Linear(h_dim, 1),\n",
        "\t\t\t)\n",
        "        self.D.apply(self.init_weights)\t\n",
        "\n",
        "    def init_weights(self, m):\n",
        "        if type(m) == nn.Linear:\n",
        "            nn.init.xavier_uniform_(m.weight)\n",
        "\n",
        "    def forward(self, x):\n",
        "        return self.D(x)\n",
        "\n",
        "def loss_WD(Discriminator, X, Y):\n",
        "\tlam = 10\n",
        "\tD_loss_real = torch.mean(Discriminator(X))\n",
        "\tD_loss_fake = torch.mean(Discriminator(Y))\n",
        "\tregularizer = gradient_penalty(Discriminator, X, Y)\n",
        "\tregularizer = lam * (regularizer)\n",
        "\tD_loss = -(D_loss_real - D_loss_fake - (regularizer))\n",
        "\treturn D_loss\n",
        "\n",
        "def gradient_penalty(Discriminator, X, Y):\n",
        "\tbatch_size = X.size()[0]\n",
        "\ta = torch.empty(512,1).uniform_(0,1).cuda()\n",
        "\tz = a * X + (1-a) * Y\n",
        "\tz = Variable(z, requires_grad= True)\n",
        "\n",
        "\tprob_z = Discriminator(z)\n",
        "\n",
        "\t# Calculate gradients of probabilities with respect to examples\n",
        "\tgradients = torch_grad(outputs=prob_z, inputs=z, \n",
        "\t\t\t\t\t\t\tgrad_outputs=torch.ones(prob_z.size()).cuda() if cuda else torch.ones(prob_z.size()),\n",
        "\t\t                   create_graph=True, only_inputs=True, \n",
        "    \t\t\t\t\t   retain_graph=True)[0]\n",
        "\tgradients = gradients.view(batch_size, -1)\n",
        "\treturn ((gradients.norm(2, dim=1)-1) **2).mean()\n",
        "\n",
        "\n",
        "## ----------------\n",
        "## Training \n",
        "## ----------------\n",
        "\n",
        "\n",
        "def train_WD():\n",
        "\tlosses = []\n",
        "\tthetas = np.array(range(-10, 11))/10\n",
        "\tp = samplers.distribution1(0, 512)\n",
        "\n",
        "\tfor i in range(len(thetas)):\n",
        "\t\tif cuda:\n",
        "\t\t\tDiscriminator = Net().cuda()\n",
        "\t\telse:\n",
        "\t\t\tDiscriminator = Net()\n",
        "\n",
        "\t\tp = samplers.distribution1(0, 512)\n",
        "\t\tq = samplers.distribution1(thetas[i], 512)\n",
        "\t\tdist_p = iter(p)\n",
        "\t\tdist_q = iter(q)\t\t\n",
        "\t\toptimizer = optim.Adam(Discriminator.parameters(), lr = 1e-3)\n",
        "\n",
        "\t\tprint('theta:', thetas[i])\n",
        "\t\t\n",
        "\t\t#  training stage\n",
        "\t\tfor e in range(5000):\n",
        "\t\t\tDiscriminator.train()\n",
        "\t\t\tX = torch.from_numpy(next(dist_p)).float()\n",
        "\t\t\tY = torch.from_numpy(next(dist_q)).float()\n",
        "\n",
        "\t\t\tif cuda:\n",
        "\t\t\t\tX = X.cuda()\n",
        "\t\t\t\tY = Y.cuda()\n",
        "\n",
        "\t\t\toptimizer.zero_grad()\n",
        "\n",
        "\t\t\tloss = loss_WD(Discriminator, X,Y)\n",
        "\t\t\tif ( e%1000 == True):\n",
        "\t\t\t\tprint(-loss.data)\n",
        "\n",
        "\t\t\tloss.backward()\n",
        "\t\t\toptimizer.step()\n",
        "\n",
        "\t\t# testing the values\n",
        "\t\tDiscriminator.eval()\n",
        "\n",
        "\t\tX = torch.from_numpy(next(dist_p)).float()\n",
        "\t\tY = torch.from_numpy(next(dist_q)).float()\n",
        "\n",
        "\t\tif cuda:\n",
        "\t\t\tX = X.cuda()\n",
        "\t\t\tY = Y.cuda()\n",
        "\n",
        "\t\tloss = loss_WD(Discriminator, X,Y)\n",
        "\n",
        "\t\tprint (-loss.data)\n",
        "\t\tlosses.append(-loss)\n",
        "\tprint(losses)\n",
        "\tprint ('Done...')\n",
        "\n",
        "\tplt.figure()\n",
        "\tplt.plot(thetas,losses)\n",
        "\tplt.title('Wasserstein GAN')\n",
        "  #plt.show()\n",
        "\n",
        "train_WD()"
      ],
      "execution_count": null,
      "outputs": [
        {
          "output_type": "error",
          "ename": "ModuleNotFoundError",
          "evalue": "ignored",
          "traceback": [
            "\u001b[0;31m---------------------------------------------------------------------------\u001b[0m",
            "\u001b[0;31mModuleNotFoundError\u001b[0m                       Traceback (most recent call last)",
            "\u001b[0;32m<ipython-input-21-d3d63d0658e7>\u001b[0m in \u001b[0;36m<module>\u001b[0;34m()\u001b[0m\n\u001b[1;32m      7\u001b[0m \u001b[0;32mimport\u001b[0m \u001b[0mtorch\u001b[0m\u001b[0;34m.\u001b[0m\u001b[0moptim\u001b[0m \u001b[0;32mas\u001b[0m \u001b[0moptim\u001b[0m\u001b[0;34m\u001b[0m\u001b[0;34m\u001b[0m\u001b[0m\n\u001b[1;32m      8\u001b[0m \u001b[0;32mfrom\u001b[0m \u001b[0mtorch\u001b[0m\u001b[0;34m.\u001b[0m\u001b[0mautograd\u001b[0m \u001b[0;32mimport\u001b[0m \u001b[0mgrad\u001b[0m \u001b[0;32mas\u001b[0m \u001b[0mtorch_grad\u001b[0m\u001b[0;34m\u001b[0m\u001b[0;34m\u001b[0m\u001b[0m\n\u001b[0;32m----> 9\u001b[0;31m \u001b[0;32mimport\u001b[0m \u001b[0msamplers\u001b[0m \u001b[0;32mas\u001b[0m \u001b[0msamplers\u001b[0m\u001b[0;34m\u001b[0m\u001b[0;34m\u001b[0m\u001b[0m\n\u001b[0m\u001b[1;32m     10\u001b[0m \u001b[0;34m\u001b[0m\u001b[0m\n\u001b[1;32m     11\u001b[0m \u001b[0mcuda\u001b[0m \u001b[0;34m=\u001b[0m \u001b[0mtorch\u001b[0m\u001b[0;34m.\u001b[0m\u001b[0mcuda\u001b[0m\u001b[0;34m.\u001b[0m\u001b[0mis_available\u001b[0m\u001b[0;34m(\u001b[0m\u001b[0;34m)\u001b[0m\u001b[0;34m;\u001b[0m\u001b[0;34m\u001b[0m\u001b[0;34m\u001b[0m\u001b[0m\n",
            "\u001b[0;31mModuleNotFoundError\u001b[0m: No module named 'samplers'",
            "",
            "\u001b[0;31m---------------------------------------------------------------------------\u001b[0;32m\nNOTE: If your import is failing due to a missing package, you can\nmanually install dependencies using either !pip or !apt.\n\nTo view examples of installing some common dependencies, click the\n\"Open Examples\" button below.\n\u001b[0;31m---------------------------------------------------------------------------\u001b[0m\n"
          ]
        }
      ]
    },
    {
      "cell_type": "code",
      "metadata": {
        "id": "veTt0WIkAg9N",
        "outputId": "7539e1e3-298e-4971-808f-f5fcee8acb60",
        "colab": {
          "base_uri": "https://localhost:8080/",
          "height": 118
        }
      },
      "source": [
        "for i in range(1):\n",
        "    D = Net().cuda()\n",
        "    thet\n",
        "    thet.append(theta)\n",
        "    p = sm.distribution3()\n",
        "    q = sm.distribution4(batch_size = 512)\n",
        "    dist_p = iter(p)\n",
        "    dist_q = iter(q)\n",
        "#\tdist_q = iter(q)\n",
        "    optimizer = optim.Adam(D.parameters(), lr=1e-3)\n",
        "    print(thet)\n",
        "    for i in range(5000):\n",
        "        D.train()\n",
        "        X = torch.from_numpy(next(dist_p)).float()\n",
        "        Y = torch.from_numpy(next(dist_q)).float()\n",
        "        loss = loss_fn1(D,X,Y)\n",
        "        \n",
        "        D.zero_grad()\n",
        "        if ( i%1000 == True):\n",
        "          print(-loss.data)\n",
        "        loss.backward()\n",
        "        optimizer.step()\n",
        "    D.eval()"
      ],
      "execution_count": null,
      "outputs": [
        {
          "output_type": "stream",
          "text": [
            "[-1.0, -0.9, -0.8, -0.7, -0.6, -1.0, -1.0]\n",
            "tensor(-1.3257, device='cuda:0')\n",
            "tensor(-1.1943, device='cuda:0')\n",
            "tensor(-1.2063, device='cuda:0')\n",
            "tensor(-1.2284, device='cuda:0')\n",
            "tensor(-1.1918, device='cuda:0')\n"
          ],
          "name": "stdout"
        }
      ]
    },
    {
      "cell_type": "code",
      "metadata": {
        "id": "tZR02ALitNuQ",
        "outputId": "18b4dd83-d567-483a-e210-0091a99a077b",
        "colab": {
          "base_uri": "https://localhost:8080/",
          "height": 353
        }
      },
      "source": [
        "from __future__ import print_function\n",
        "import numpy as np\n",
        "import torch \n",
        "import matplotlib.pyplot as plt\n",
        "import samplers as sm\n",
        "import torch\n",
        "import torch.nn as nn\n",
        "import torch.nn.functional as F\n",
        "import torch.optim as optim\n",
        "cuda = torch.cuda.is_available()\n",
        "cuda = False\n",
        "# plot p0 and p1\n",
        "plt.figure()\n",
        "\n",
        "# empirical\n",
        "xx = torch.randn(10000)\n",
        "f = lambda x: torch.tanh(x*2+1) + x*0.75\n",
        "d = lambda x: (1-torch.tanh(x*2+1)**2)*2+0.75\n",
        "plt.hist(f(xx), 100, alpha=0.5, density=1)\n",
        "plt.hist(xx, 100, alpha=0.5, density=1)\n",
        "plt.xlim(-5,5)\n",
        "# exact\n",
        "xx = np.linspace(-5,5,1000)\n",
        "N = lambda x: np.exp(-x**2/2.)/((2*np.pi)**0.5)\n",
        "plt.plot(f(torch.from_numpy(xx)).numpy(), d(torch.from_numpy(xx)).numpy()**(-1)*N(xx))\n",
        "plt.plot(xx, N(xx))\n",
        "\n",
        "\n",
        "############### import the sampler ``samplers.distribution4'' \n",
        "############### train a discriminator on distribution4 and standard gaussian\n",
        "############### estimate the density of distribution4\n",
        "\n",
        "#######--- INSERT YOUR CODE BELOW ---#######\n",
        "def xavier_init(m):\n",
        "    \"\"\" Xavier initialization \"\"\"\n",
        "    if type(m) == nn.Linear:\n",
        "        nn.init.xavier_uniform_(m.weight)\n",
        "        m.bias.data.fill_(0)\n",
        "\n",
        "class WNet(nn.Module):\n",
        "    def __init__(self):\n",
        "        super(WNet,self).__init__()\n",
        "        self.D = nn.Sequential(\n",
        "            nn.Linear(1, 64),\n",
        "            nn.ReLU(),\n",
        "            nn.Linear(64, 32),\n",
        "            nn.ReLU(),\n",
        "            nn.Linear(32,1),\n",
        "            nn.Sigmoid(),\n",
        "        )\n",
        "        self.D.apply(xavier_init)\n",
        "    def forward(self,input):\n",
        "        return self.D(input)\n",
        "D = WNet()\n",
        "p = sm.distribution3()\n",
        "q = sm.distribution4(batch_size=512)\n",
        "dist_p = iter(p)\n",
        "dist_q = iter(q)\n",
        "\n",
        "def loss_fn1(Discriminator,x,y):\n",
        "    x = x.to('cpu')\n",
        "    y = y.to('cpu')\n",
        "    real_data = torch.mean(torch.log(Discriminator(x)))\n",
        "    fake_data = torch.mean(torch.log(1 - Discriminator(y)))\n",
        "    return -(real_data+fake_data)\n",
        "\n",
        "optimizer = optim.Adam(D.parameters(), lr=1e-3)\n",
        "\n",
        "for i in range(5000):\n",
        "    D.train()\n",
        "    X = torch.from_numpy(next(dist_p)).float()\n",
        "    Y = torch.from_numpy(next(dist_q)).float()\n",
        "    loss = loss_fn1(D,X,Y)\n",
        "    D.zero_grad()\n",
        "    if ( i%1000 == True):\n",
        "        print(-loss.data)\n",
        "    loss.backward()\n",
        "    optimizer.step()\n",
        "\n"
      ],
      "execution_count": null,
      "outputs": [
        {
          "output_type": "stream",
          "text": [
            "tensor(-1.3588)\n",
            "tensor(-1.2446)\n",
            "tensor(-1.2007)\n",
            "tensor(-1.2364)\n",
            "tensor(-1.2073)\n"
          ],
          "name": "stdout"
        },
        {
          "output_type": "display_data",
          "data": {
            "image/png": "[encoded data removed]",
            "text/plain": [
              "<Figure size 432x288 with 1 Axes>"
            ]
          },
          "metadata": {
            "tags": []
          }
        }
      ]
    },
    {
      "cell_type": "code",
      "metadata": {
        "id": "JFwbw8YztONC"
      },
      "source": [
        "from torch.autograd import Variable\n",
        "D.eval()\n",
        "sm.distribution3()\n",
        "xx = np.linspace(-5,5,1000)\n",
        "N = lambda x: np.exp(-x**2/2.)/((2*np.pi)**0.5)\n",
        "f0_x_tensor = Variable(torch.from_numpy(np.float32(xx.reshape(1000, 1))))\n",
        "#X = torch.from_numpy(next(sm.distribution3(1000))).float().to('cuda')\n",
        "#print(np.size(np.float32(xx)))\n",
        "D_x = D(f0_x_tensor)\n",
        "f1_est = (N(f0_x_tensor) * D_x) / (1 - D_x)"
      ],
      "execution_count": null,
      "outputs": []
    },
    {
      "cell_type": "code",
      "metadata": {
        "id": "Xy4bz4VVwWrA",
        "outputId": "49272122-e22d-4b1a-b2d7-f2fd3560fc6e",
        "colab": {
          "base_uri": "https://localhost:8080/",
          "height": 300
        }
      },
      "source": [
        "# Plot the discriminator output.\n",
        "r = D_x.detach().numpy() \n",
        "plt.figure(figsize=(8,4))\n",
        "plt.subplot(1,2,1)\n",
        "plt.plot(xx,r)\n",
        "plt.title(r'$D(x)$')\n"
      ],
      "execution_count": null,
      "outputs": [
        {
          "output_type": "execute_result",
          "data": {
            "text/plain": [
              "Text(0.5, 1.0, '$D(x)$')"
            ]
          },
          "metadata": {
            "tags": []
          },
          "execution_count": 69
        },
        {
          "output_type": "display_data",
          "data": {
            "image/png": "[encoded data removed]",
            "text/plain": [
              "<Figure size 576x288 with 1 Axes>"
            ]
          },
          "metadata": {
            "tags": []
          }
        }
      ]
    },
    {
      "cell_type": "code",
      "metadata": {
        "id": "UhnDhuE7vspE",
        "outputId": "33f3825a-210c-48d9-f1f4-f1bffbcb09a5",
        "colab": {
          "base_uri": "https://localhost:8080/",
          "height": 281
        }
      },
      "source": [
        "estimate = f1_est.detach().numpy() \n",
        "plt.subplot(1,2,2)\n",
        "plt.plot(xx,estimate)\n",
        "plt.plot(f(torch.from_numpy(xx)).numpy(), d(torch.from_numpy(xx)).numpy()**(-1)*N(xx))\n",
        "plt.legend(['Estimated','True'])\n",
        "plt.title('Estimated vs True')\n",
        "plt.savefig('Estimated_vs_Exact.png') \n",
        "plt.show()\n"
      ],
      "execution_count": null,
      "outputs": [
        {
          "output_type": "display_data",
          "data": {
            "image/png": "[encoded data removed]",
            "text/plain": [
              "<Figure size 432x288 with 1 Axes>"
            ]
          },
          "metadata": {
            "tags": []
          }
        }
      ]
    },
    {
      "cell_type": "code",
      "metadata": {
        "id": "JJz_W3LJczoL"
      },
      "source": [
        ""
      ],
      "execution_count": null,
      "outputs": []
    }
  ]
}
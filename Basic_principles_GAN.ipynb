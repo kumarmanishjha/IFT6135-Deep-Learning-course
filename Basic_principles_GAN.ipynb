{
  "nbformat": 4,
  "nbformat_minor": 0,
  "metadata": {
    "colab": {
      "name": "Basic_principles_GAN.ipynb",
      "provenance": [],
      "collapsed_sections": []
    },
    "kernelspec": {
      "name": "python3",
      "display_name": "Python 3"
    },
    "accelerator": "GPU"
  },
  "cells": [
    {
      "cell_type": "code",
      "metadata": {
        "id": "5CJYfj8HjjZf"
      },
      "source": [
        "#Importer les dossiers\n",
        "#import density_estimation as de\n",
        "import samplers as sm\n",
        "\n",
        "#Importer les bibliothèques de python\n",
        "import numpy as np \n",
        "import matplotlib.pyplot as plt\n",
        "import torch\n",
        "import torch.nn as nn\n",
        "import torch.nn.functional as F\n",
        "import torch.optim as optim"
      ],
      "execution_count": null,
      "outputs": []
    },
    {
      "cell_type": "code",
      "metadata": {
        "id": "jG-I_rShj-yn"
      },
      "source": [
        "def xavier_init(m):\n",
        "    \"\"\" Xavier initialization \"\"\"\n",
        "    if type(m) == nn.Linear:\n",
        "        nn.init.xavier_uniform_(m.weight)\n",
        "        m.bias.data.fill_(0)\n",
        "\n",
        "class Net(nn.Module):\n",
        "    def __init__(self):\n",
        "        super(Net,self).__init__()\n",
        "        self.D = nn.Sequential(\n",
        "            nn.Linear(2, 32),\n",
        "            nn.ReLU(),\n",
        "            #nn.Linear(32, 32),\n",
        "            #nn.ReLU(),\n",
        "            nn.Linear(32,1),\n",
        "            nn.Sigmoid()\n",
        "        )\n",
        "        self.D.apply(xavier_init)\n",
        "    def forward(self,input):\n",
        "        return self.D(input)"
      ],
      "execution_count": null,
      "outputs": []
    },
    {
      "cell_type": "code",
      "metadata": {
        "id": "DIGjsyM6g2fw"
      },
      "source": [
        "def xavier_init(m):\n",
        "    \"\"\" Xavier initialization \"\"\"\n",
        "    if type(m) == nn.Linear:\n",
        "        nn.init.xavier_uniform_(m.weight)\n",
        "        m.bias.data.fill_(0)\n",
        "\n",
        "class WNet(nn.Module):\n",
        "    def __init__(self):\n",
        "        super(WNet,self).__init__()\n",
        "        self.D = nn.Sequential(\n",
        "            nn.Linear(2, 32),\n",
        "            nn.ReLU(),\n",
        "            #nn.Linear(32, 32),\n",
        "            #nn.ReLU(),\n",
        "            nn.Linear(32,1)\n",
        "        )\n",
        "        self.D.apply(xavier_init)\n",
        "    def forward(self,input):\n",
        "        return self.D(input)"
      ],
      "execution_count": null,
      "outputs": []
    },
    {
      "cell_type": "code",
      "metadata": {
        "id": "zgrpyotJkEdh"
      },
      "source": [
        "D = Net()\n",
        "T = Net()"
      ],
      "execution_count": null,
      "outputs": []
    },
    {
      "cell_type": "code",
      "metadata": {
        "id": "W8TcOlUWkJG3"
      },
      "source": [
        "def loss_fn1(Discriminator,x,y):\n",
        "    x = x.to('cuda')\n",
        "    y = y.to('cuda')\n",
        "    real_data = torch.mean(torch.log(Discriminator(x)))\n",
        "    fake_data = torch.mean(torch.log(1 - Discriminator(y)))\n",
        "    return -(real_data+fake_data)"
      ],
      "execution_count": null,
      "outputs": []
    },
    {
      "cell_type": "code",
      "metadata": {
        "id": "kvZVhjpXkNXJ"
      },
      "source": [
        "def loss_fn2(Discriminator,x,y,lamb=10):\n",
        "    x = x.to('cuda')\n",
        "    y = y.to('cuda')\n",
        "    real_data = torch.mean(Discriminator(x))\n",
        "    #print(\"D_real:\",real_data)\n",
        "    fake_data = torch.mean(Discriminator(y))\n",
        "    #print(\"D_fake:\",real_data)\n",
        "    a = torch.empty(512, 1).uniform_(0, 1).float().cuda()\n",
        "    #p = torch.from_numpy(next(sm.distribution1(0))).float()\n",
        "    #q = torch.from_numpy(next(sm.distribution1(-1))).float()\n",
        "    \n",
        "    z = a*x+(1-a)*y\n",
        "    input = torch.autograd.Variable(z,requires_grad= True)\n",
        "    output = Discriminator(input)\n",
        "    grad = torch.autograd.grad(output, input, grad_outputs=torch.ones(output.size()).cuda(),create_graph=True, only_inputs=True, \n",
        "    \t\t\t\t\t   retain_graph=True)[0]\n",
        "    grad = grad.view(512, -1)\n",
        "    grad = grad.norm(2,dim =1)\n",
        "    grad = grad - 1\n",
        "    grad = grad**2\n",
        "    #grad = torch.sqrt(grad)\n",
        "    return -(real_data-fake_data-lamb*grad.mean())"
      ],
      "execution_count": null,
      "outputs": []
    },
    {
      "cell_type": "code",
      "metadata": {
        "id": "yDRn6nBAkRMa",
        "outputId": "6f87bbe5-9d0b-41a3-a4bb-3b4fc36ef597",
        "colab": {
          "base_uri": "https://localhost:8080/",
          "height": 2154
        }
      },
      "source": [
        "a,b,thet = [],[],[]\n",
        "cuda = torch.cuda.is_available();\n",
        "for i in range(21):\n",
        "    T = WNet().cuda()\n",
        "    theta = -1 + i*0.1\n",
        "    thet.append(theta)\n",
        "    p = sm.distribution1(0, 512)\n",
        "    q = sm.distribution1(theta,512)\n",
        "    dist_p = iter(p)\n",
        "    dist_q = iter(q)\n",
        "#\t\tdist_q = iter(q)\n",
        "    optimizer = optim.Adam(T.parameters(), lr=1e-3)\n",
        "    print('theta:', thet)\n",
        "    for i in range(5000):\n",
        "        T.train()\n",
        "        X = torch.from_numpy(next(dist_p)).float()\n",
        "        Y = torch.from_numpy(next(dist_q)).float()\n",
        "        loss = loss_fn2(T,X,Y)\n",
        "        if ( i%1000 == True):\n",
        "          print(-loss.data)\n",
        "        T.zero_grad()\n",
        "        loss.backward()\n",
        "        optimizer.step()\n",
        "    T.eval()\n",
        "    X = torch.from_numpy(next(dist_p)).float()\n",
        "    Y = torch.from_numpy(next(dist_q)).float()\n",
        "    b.append(-loss_fn2(T,X,Y))"
      ],
      "execution_count": null,
      "outputs": [
        {
          "output_type": "stream",
          "text": [
            "theta: [-1.0]\n",
            "tensor(-4.1895, device='cuda:0')\n",
            "tensor(1.0251, device='cuda:0')\n",
            "tensor(1.0250, device='cuda:0')\n",
            "tensor(1.0250, device='cuda:0')\n",
            "tensor(1.0248, device='cuda:0')\n",
            "theta: [-1.0, -0.9]\n",
            "tensor(-4.3690, device='cuda:0')\n",
            "tensor(0.9151, device='cuda:0')\n",
            "tensor(0.9202, device='cuda:0')\n",
            "tensor(0.9202, device='cuda:0')\n",
            "tensor(0.9203, device='cuda:0')\n",
            "theta: [-1.0, -0.9, -0.8]\n",
            "tensor(-6.8510, device='cuda:0')\n",
            "tensor(0.8152, device='cuda:0')\n",
            "tensor(0.8160, device='cuda:0')\n",
            "tensor(0.8160, device='cuda:0')\n",
            "tensor(0.8160, device='cuda:0')\n",
            "theta: [-1.0, -0.9, -0.8, -0.7]\n",
            "tensor(-4.1822, device='cuda:0')\n",
            "tensor(0.7122, device='cuda:0')\n",
            "tensor(0.7123, device='cuda:0')\n",
            "tensor(0.7123, device='cuda:0')\n",
            "tensor(0.7123, device='cuda:0')\n",
            "theta: [-1.0, -0.9, -0.8, -0.7, -0.6]\n",
            "tensor(-7.6271, device='cuda:0')\n",
            "tensor(0.6087, device='cuda:0')\n",
            "tensor(0.6090, device='cuda:0')\n",
            "tensor(0.6090, device='cuda:0')\n",
            "tensor(0.6090, device='cuda:0')\n",
            "theta: [-1.0, -0.9, -0.8, -0.7, -0.6, -0.5]\n",
            "tensor(-3.1271, device='cuda:0')\n",
            "tensor(0.5066, device='cuda:0')\n",
            "tensor(0.5063, device='cuda:0')\n",
            "tensor(0.5061, device='cuda:0')\n",
            "tensor(0.5066, device='cuda:0')\n",
            "theta: [-1.0, -0.9, -0.8, -0.7, -0.6, -0.5, -0.3999999999999999]\n",
            "tensor(-4.3406, device='cuda:0')\n",
            "tensor(0.3994, device='cuda:0')\n",
            "tensor(0.4037, device='cuda:0')\n",
            "tensor(0.4041, device='cuda:0')\n",
            "tensor(0.4039, device='cuda:0')\n",
            "theta: [-1.0, -0.9, -0.8, -0.7, -0.6, -0.5, -0.3999999999999999, -0.29999999999999993]\n",
            "tensor(-3.4052, device='cuda:0')\n",
            "tensor(0.3022, device='cuda:0')\n",
            "tensor(0.3023, device='cuda:0')\n",
            "tensor(0.3019, device='cuda:0')\n",
            "tensor(0.3023, device='cuda:0')\n",
            "theta: [-1.0, -0.9, -0.8, -0.7, -0.6, -0.5, -0.3999999999999999, -0.29999999999999993, -0.19999999999999996]\n",
            "tensor(-5.0835, device='cuda:0')\n",
            "tensor(0.1382, device='cuda:0')\n",
            "tensor(0.1888, device='cuda:0')\n",
            "tensor(0.2001, device='cuda:0')\n",
            "tensor(0.2010, device='cuda:0')\n",
            "theta: [-1.0, -0.9, -0.8, -0.7, -0.6, -0.5, -0.3999999999999999, -0.29999999999999993, -0.19999999999999996, -0.09999999999999998]\n",
            "tensor(-5.6799, device='cuda:0')\n",
            "tensor(0.0906, device='cuda:0')\n",
            "tensor(0.1000, device='cuda:0')\n",
            "tensor(0.1008, device='cuda:0')\n",
            "tensor(0.0997, device='cuda:0')\n",
            "theta: [-1.0, -0.9, -0.8, -0.7, -0.6, -0.5, -0.3999999999999999, -0.29999999999999993, -0.19999999999999996, -0.09999999999999998, 0.0]\n",
            "tensor(-8.8270, device='cuda:0')\n",
            "tensor(0.0189, device='cuda:0')\n",
            "tensor(-0.0105, device='cuda:0')\n",
            "tensor(0.0230, device='cuda:0')\n",
            "tensor(0.0005, device='cuda:0')\n",
            "theta: [-1.0, -0.9, -0.8, -0.7, -0.6, -0.5, -0.3999999999999999, -0.29999999999999993, -0.19999999999999996, -0.09999999999999998, 0.0, 0.10000000000000009]\n",
            "tensor(-5.4354, device='cuda:0')\n",
            "tensor(0.1048, device='cuda:0')\n",
            "tensor(0.1003, device='cuda:0')\n",
            "tensor(0.1003, device='cuda:0')\n",
            "tensor(0.1004, device='cuda:0')\n",
            "theta: [-1.0, -0.9, -0.8, -0.7, -0.6, -0.5, -0.3999999999999999, -0.29999999999999993, -0.19999999999999996, -0.09999999999999998, 0.0, 0.10000000000000009, 0.20000000000000018]\n",
            "tensor(-5.0647, device='cuda:0')\n",
            "tensor(0.2029, device='cuda:0')\n",
            "tensor(0.2010, device='cuda:0')\n",
            "tensor(0.2012, device='cuda:0')\n",
            "tensor(0.2010, device='cuda:0')\n",
            "theta: [-1.0, -0.9, -0.8, -0.7, -0.6, -0.5, -0.3999999999999999, -0.29999999999999993, -0.19999999999999996, -0.09999999999999998, 0.0, 0.10000000000000009, 0.20000000000000018, 0.30000000000000004]\n",
            "tensor(-4.7523, device='cuda:0')\n",
            "tensor(0.2987, device='cuda:0')\n",
            "tensor(0.3022, device='cuda:0')\n",
            "tensor(0.3022, device='cuda:0')\n",
            "tensor(0.3022, device='cuda:0')\n",
            "theta: [-1.0, -0.9, -0.8, -0.7, -0.6, -0.5, -0.3999999999999999, -0.29999999999999993, -0.19999999999999996, -0.09999999999999998, 0.0, 0.10000000000000009, 0.20000000000000018, 0.30000000000000004, 0.40000000000000013]\n",
            "tensor(-4.3268, device='cuda:0')\n",
            "tensor(0.4040, device='cuda:0')\n",
            "tensor(0.4040, device='cuda:0')\n",
            "tensor(0.4040, device='cuda:0')\n",
            "tensor(0.4040, device='cuda:0')\n",
            "theta: [-1.0, -0.9, -0.8, -0.7, -0.6, -0.5, -0.3999999999999999, -0.29999999999999993, -0.19999999999999996, -0.09999999999999998, 0.0, 0.10000000000000009, 0.20000000000000018, 0.30000000000000004, 0.40000000000000013, 0.5]\n",
            "tensor(-4.3482, device='cuda:0')\n",
            "tensor(0.4953, device='cuda:0')\n",
            "tensor(0.5064, device='cuda:0')\n",
            "tensor(0.5062, device='cuda:0')\n",
            "tensor(0.5061, device='cuda:0')\n",
            "theta: [-1.0, -0.9, -0.8, -0.7, -0.6, -0.5, -0.3999999999999999, -0.29999999999999993, -0.19999999999999996, -0.09999999999999998, 0.0, 0.10000000000000009, 0.20000000000000018, 0.30000000000000004, 0.40000000000000013, 0.5, 0.6000000000000001]\n",
            "tensor(-7.2368, device='cuda:0')\n",
            "tensor(0.6064, device='cuda:0')\n",
            "tensor(0.6091, device='cuda:0')\n",
            "tensor(0.6090, device='cuda:0')\n",
            "tensor(0.6089, device='cuda:0')\n",
            "theta: [-1.0, -0.9, -0.8, -0.7, -0.6, -0.5, -0.3999999999999999, -0.29999999999999993, -0.19999999999999996, -0.09999999999999998, 0.0, 0.10000000000000009, 0.20000000000000018, 0.30000000000000004, 0.40000000000000013, 0.5, 0.6000000000000001, 0.7000000000000002]\n",
            "tensor(-4.8525, device='cuda:0')\n",
            "tensor(0.7122, device='cuda:0')\n",
            "tensor(0.7122, device='cuda:0')\n",
            "tensor(0.7122, device='cuda:0')\n",
            "tensor(0.7122, device='cuda:0')\n",
            "theta: [-1.0, -0.9, -0.8, -0.7, -0.6, -0.5, -0.3999999999999999, -0.29999999999999993, -0.19999999999999996, -0.09999999999999998, 0.0, 0.10000000000000009, 0.20000000000000018, 0.30000000000000004, 0.40000000000000013, 0.5, 0.6000000000000001, 0.7000000000000002, 0.8]\n",
            "tensor(-4.2875, device='cuda:0')\n",
            "tensor(0.8160, device='cuda:0')\n",
            "tensor(0.8161, device='cuda:0')\n",
            "tensor(0.8160, device='cuda:0')\n",
            "tensor(0.8161, device='cuda:0')\n",
            "theta: [-1.0, -0.9, -0.8, -0.7, -0.6, -0.5, -0.3999999999999999, -0.29999999999999993, -0.19999999999999996, -0.09999999999999998, 0.0, 0.10000000000000009, 0.20000000000000018, 0.30000000000000004, 0.40000000000000013, 0.5, 0.6000000000000001, 0.7000000000000002, 0.8, 0.9000000000000001]\n",
            "tensor(-4.9660, device='cuda:0')\n",
            "tensor(0.9200, device='cuda:0')\n",
            "tensor(0.9202, device='cuda:0')\n",
            "tensor(0.9203, device='cuda:0')\n",
            "tensor(0.9201, device='cuda:0')\n",
            "theta: [-1.0, -0.9, -0.8, -0.7, -0.6, -0.5, -0.3999999999999999, -0.29999999999999993, -0.19999999999999996, -0.09999999999999998, 0.0, 0.10000000000000009, 0.20000000000000018, 0.30000000000000004, 0.40000000000000013, 0.5, 0.6000000000000001, 0.7000000000000002, 0.8, 0.9000000000000001, 1.0]\n",
            "tensor(-3.6870, device='cuda:0')\n",
            "tensor(0.3866, device='cuda:0')\n",
            "tensor(1.0250, device='cuda:0')\n",
            "tensor(1.0250, device='cuda:0')\n",
            "tensor(1.0250, device='cuda:0')\n"
          ],
          "name": "stdout"
        }
      ]
    },
    {
      "cell_type": "code",
      "metadata": {
        "id": "He8jwm-lw8AV",
        "outputId": "2c69efba-caf5-4888-81e6-e21ed4149786",
        "colab": {
          "base_uri": "https://localhost:8080/",
          "height": 2154
        }
      },
      "source": [
        "a,thet = [],[]\n",
        "cuda = torch.cuda.is_available();\n",
        "for i in range(21):\n",
        "    D = Net().cuda()\n",
        "    theta = -1 + i*0.1\n",
        "    thet.append(theta)\n",
        "    p = sm.distribution1(0, 512)\n",
        "    q = sm.distribution1(theta,512)\n",
        "    dist_p = iter(p)\n",
        "    dist_q = iter(q)\n",
        "#\tdist_q = iter(q)\n",
        "    optimizer = optim.Adam(D.parameters(), lr=1e-3)\n",
        "    print(thet)\n",
        "    for i in range(5000):\n",
        "        D.train()\n",
        "        X = torch.from_numpy(next(dist_p)).float()\n",
        "        Y = torch.from_numpy(next(dist_q)).float()\n",
        "        loss = loss_fn1(D,X,Y)\n",
        "        \n",
        "        D.zero_grad()\n",
        "        if ( i%1000 == True):\n",
        "          print(-loss.data)\n",
        "        loss.backward()\n",
        "        optimizer.step()\n",
        "    D.eval()\n",
        "    X = torch.from_numpy(next(dist_p)).float()\n",
        "    Y = torch.from_numpy(next(dist_q)).float()\n",
        "    a.append(-loss_fn1(D,X,Y)/2+np.log(2))\n",
        "    #b.append(-loss_fn2(T,p,q))"
      ],
      "execution_count": null,
      "outputs": [
        {
          "output_type": "stream",
          "text": [
            "[-1.0]\n",
            "tensor(-1.4217, device='cuda:0')\n",
            "tensor(-0.0215, device='cuda:0')\n",
            "tensor(-0.0038, device='cuda:0')\n",
            "tensor(-0.0012, device='cuda:0')\n",
            "tensor(-0.0005, device='cuda:0')\n",
            "[-1.0, -0.9]\n",
            "tensor(-1.3909, device='cuda:0')\n",
            "tensor(-0.0234, device='cuda:0')\n",
            "tensor(-0.0047, device='cuda:0')\n",
            "tensor(-0.0017, device='cuda:0')\n",
            "tensor(-0.0008, device='cuda:0')\n",
            "[-1.0, -0.9, -0.8]\n",
            "tensor(-1.1500, device='cuda:0')\n",
            "tensor(-0.0184, device='cuda:0')\n",
            "tensor(-0.0038, device='cuda:0')\n",
            "tensor(-0.0014, device='cuda:0')\n",
            "tensor(-0.0006, device='cuda:0')\n",
            "[-1.0, -0.9, -0.8, -0.7]\n",
            "tensor(-1.3675, device='cuda:0')\n",
            "tensor(-0.0303, device='cuda:0')\n",
            "tensor(-0.0059, device='cuda:0')\n",
            "tensor(-0.0021, device='cuda:0')\n",
            "tensor(-0.0009, device='cuda:0')\n",
            "[-1.0, -0.9, -0.8, -0.7, -0.6]\n",
            "tensor(-1.3863, device='cuda:0')\n",
            "tensor(-0.0399, device='cuda:0')\n",
            "tensor(-0.0076, device='cuda:0')\n",
            "tensor(-0.0027, device='cuda:0')\n",
            "tensor(-0.0012, device='cuda:0')\n",
            "[-1.0, -0.9, -0.8, -0.7, -0.6, -0.5]\n",
            "tensor(-1.3533, device='cuda:0')\n",
            "tensor(-0.0312, device='cuda:0')\n",
            "tensor(-0.0059, device='cuda:0')\n",
            "tensor(-0.0021, device='cuda:0')\n",
            "tensor(-0.0009, device='cuda:0')\n",
            "[-1.0, -0.9, -0.8, -0.7, -0.6, -0.5, -0.3999999999999999]\n",
            "tensor(-1.3426, device='cuda:0')\n",
            "tensor(-0.0420, device='cuda:0')\n",
            "tensor(-0.0075, device='cuda:0')\n",
            "tensor(-0.0026, device='cuda:0')\n",
            "tensor(-0.0011, device='cuda:0')\n",
            "[-1.0, -0.9, -0.8, -0.7, -0.6, -0.5, -0.3999999999999999, -0.29999999999999993]\n",
            "tensor(-1.3877, device='cuda:0')\n",
            "tensor(-0.0919, device='cuda:0')\n",
            "tensor(-0.0166, device='cuda:0')\n",
            "tensor(-0.0057, device='cuda:0')\n",
            "tensor(-0.0025, device='cuda:0')\n",
            "[-1.0, -0.9, -0.8, -0.7, -0.6, -0.5, -0.3999999999999999, -0.29999999999999993, -0.19999999999999996]\n",
            "tensor(-1.3789, device='cuda:0')\n",
            "tensor(-0.1408, device='cuda:0')\n",
            "tensor(-0.0241, device='cuda:0')\n",
            "tensor(-0.0080, device='cuda:0')\n",
            "tensor(-0.0034, device='cuda:0')\n",
            "[-1.0, -0.9, -0.8, -0.7, -0.6, -0.5, -0.3999999999999999, -0.29999999999999993, -0.19999999999999996, -0.09999999999999998]\n",
            "tensor(-1.3829, device='cuda:0')\n",
            "tensor(-0.3779, device='cuda:0')\n",
            "tensor(-0.0709, device='cuda:0')\n",
            "tensor(-0.0228, device='cuda:0')\n",
            "tensor(-0.0095, device='cuda:0')\n",
            "[-1.0, -0.9, -0.8, -0.7, -0.6, -0.5, -0.3999999999999999, -0.29999999999999993, -0.19999999999999996, -0.09999999999999998, 0.0]\n",
            "tensor(-1.3879, device='cuda:0')\n",
            "tensor(-1.3863, device='cuda:0')\n",
            "tensor(-1.3862, device='cuda:0')\n",
            "tensor(-1.3863, device='cuda:0')\n",
            "tensor(-1.3864, device='cuda:0')\n",
            "[-1.0, -0.9, -0.8, -0.7, -0.6, -0.5, -0.3999999999999999, -0.29999999999999993, -0.19999999999999996, -0.09999999999999998, 0.0, 0.10000000000000009]\n",
            "tensor(-1.3822, device='cuda:0')\n",
            "tensor(-0.3391, device='cuda:0')\n",
            "tensor(-0.0618, device='cuda:0')\n",
            "tensor(-0.0199, device='cuda:0')\n",
            "tensor(-0.0083, device='cuda:0')\n",
            "[-1.0, -0.9, -0.8, -0.7, -0.6, -0.5, -0.3999999999999999, -0.29999999999999993, -0.19999999999999996, -0.09999999999999998, 0.0, 0.10000000000000009, 0.20000000000000018]\n",
            "tensor(-1.3550, device='cuda:0')\n",
            "tensor(-0.1564, device='cuda:0')\n",
            "tensor(-0.0273, device='cuda:0')\n",
            "tensor(-0.0091, device='cuda:0')\n",
            "tensor(-0.0039, device='cuda:0')\n",
            "[-1.0, -0.9, -0.8, -0.7, -0.6, -0.5, -0.3999999999999999, -0.29999999999999993, -0.19999999999999996, -0.09999999999999998, 0.0, 0.10000000000000009, 0.20000000000000018, 0.30000000000000004]\n",
            "tensor(-1.4039, device='cuda:0')\n",
            "tensor(-0.1223, device='cuda:0')\n",
            "tensor(-0.0203, device='cuda:0')\n",
            "tensor(-0.0063, device='cuda:0')\n",
            "tensor(-0.0025, device='cuda:0')\n",
            "[-1.0, -0.9, -0.8, -0.7, -0.6, -0.5, -0.3999999999999999, -0.29999999999999993, -0.19999999999999996, -0.09999999999999998, 0.0, 0.10000000000000009, 0.20000000000000018, 0.30000000000000004, 0.40000000000000013]\n",
            "tensor(-1.3853, device='cuda:0')\n",
            "tensor(-0.0625, device='cuda:0')\n",
            "tensor(-0.0111, device='cuda:0')\n",
            "tensor(-0.0038, device='cuda:0')\n",
            "tensor(-0.0017, device='cuda:0')\n",
            "[-1.0, -0.9, -0.8, -0.7, -0.6, -0.5, -0.3999999999999999, -0.29999999999999993, -0.19999999999999996, -0.09999999999999998, 0.0, 0.10000000000000009, 0.20000000000000018, 0.30000000000000004, 0.40000000000000013, 0.5]\n",
            "tensor(-1.3210, device='cuda:0')\n",
            "tensor(-0.0360, device='cuda:0')\n",
            "tensor(-0.0065, device='cuda:0')\n",
            "tensor(-0.0023, device='cuda:0')\n",
            "tensor(-0.0010, device='cuda:0')\n",
            "[-1.0, -0.9, -0.8, -0.7, -0.6, -0.5, -0.3999999999999999, -0.29999999999999993, -0.19999999999999996, -0.09999999999999998, 0.0, 0.10000000000000009, 0.20000000000000018, 0.30000000000000004, 0.40000000000000013, 0.5, 0.6000000000000001]\n",
            "tensor(-1.4060, device='cuda:0')\n",
            "tensor(-0.0490, device='cuda:0')\n",
            "tensor(-0.0081, device='cuda:0')\n",
            "tensor(-0.0027, device='cuda:0')\n",
            "tensor(-0.0012, device='cuda:0')\n",
            "[-1.0, -0.9, -0.8, -0.7, -0.6, -0.5, -0.3999999999999999, -0.29999999999999993, -0.19999999999999996, -0.09999999999999998, 0.0, 0.10000000000000009, 0.20000000000000018, 0.30000000000000004, 0.40000000000000013, 0.5, 0.6000000000000001, 0.7000000000000002]\n",
            "tensor(-1.3980, device='cuda:0')\n",
            "tensor(-0.0375, device='cuda:0')\n",
            "tensor(-0.0068, device='cuda:0')\n",
            "tensor(-0.0024, device='cuda:0')\n",
            "tensor(-0.0010, device='cuda:0')\n",
            "[-1.0, -0.9, -0.8, -0.7, -0.6, -0.5, -0.3999999999999999, -0.29999999999999993, -0.19999999999999996, -0.09999999999999998, 0.0, 0.10000000000000009, 0.20000000000000018, 0.30000000000000004, 0.40000000000000013, 0.5, 0.6000000000000001, 0.7000000000000002, 0.8]\n",
            "tensor(-1.4550, device='cuda:0')\n",
            "tensor(-0.0463, device='cuda:0')\n",
            "tensor(-0.0088, device='cuda:0')\n",
            "tensor(-0.0030, device='cuda:0')\n",
            "tensor(-0.0012, device='cuda:0')\n",
            "[-1.0, -0.9, -0.8, -0.7, -0.6, -0.5, -0.3999999999999999, -0.29999999999999993, -0.19999999999999996, -0.09999999999999998, 0.0, 0.10000000000000009, 0.20000000000000018, 0.30000000000000004, 0.40000000000000013, 0.5, 0.6000000000000001, 0.7000000000000002, 0.8, 0.9000000000000001]\n",
            "tensor(-1.3422, device='cuda:0')\n",
            "tensor(-0.0219, device='cuda:0')\n",
            "tensor(-0.0045, device='cuda:0')\n",
            "tensor(-0.0016, device='cuda:0')\n",
            "tensor(-0.0007, device='cuda:0')\n",
            "[-1.0, -0.9, -0.8, -0.7, -0.6, -0.5, -0.3999999999999999, -0.29999999999999993, -0.19999999999999996, -0.09999999999999998, 0.0, 0.10000000000000009, 0.20000000000000018, 0.30000000000000004, 0.40000000000000013, 0.5, 0.6000000000000001, 0.7000000000000002, 0.8, 0.9000000000000001, 1.0]\n",
            "tensor(-1.4063, device='cuda:0')\n",
            "tensor(-0.0229, device='cuda:0')\n",
            "tensor(-0.0044, device='cuda:0')\n",
            "tensor(-0.0016, device='cuda:0')\n",
            "tensor(-0.0007, device='cuda:0')\n"
          ],
          "name": "stdout"
        }
      ]
    },
    {
      "cell_type": "code",
      "metadata": {
        "id": "cKmOqnC0kdHL",
        "outputId": "c986e56f-5099-480f-9634-6de6cc4abb0e",
        "colab": {
          "base_uri": "https://localhost:8080/",
          "height": 295
        }
      },
      "source": [
        "plt.plot(thet,a,label = \"DC GAN\")\n",
        "plt.plot(thet,b,label =\"Wasserstein GAN\")\n",
        "plt.xlabel(\"Theta\")\n",
        "plt.ylabel(\"Output\")\n",
        "plt.title(\"Comparison between two gans\")\n",
        "plt.legend(loc = 'lower right')\n",
        "plt.show()"
      ],
      "execution_count": null,
      "outputs": [
        {
          "output_type": "display_data",
          "data": {
            "image/png": "[encoded data removed]",
            "text/plain": [
              "<Figure size 432x288 with 1 Axes>"
            ]
          },
          "metadata": {
            "tags": []
          }
        }
      ]
    },
    {
      "cell_type": "code",
      "metadata": {
        "id": "veTt0WIkAg9N",
        "outputId": "7539e1e3-298e-4971-808f-f5fcee8acb60",
        "colab": {
          "base_uri": "https://localhost:8080/",
          "height": 118
        }
      },
      "source": [
        "for i in range(1):\n",
        "    D = Net().cuda()\n",
        "    thet\n",
        "    thet.append(theta)\n",
        "    p = sm.distribution3()\n",
        "    q = sm.distribution4(batch_size = 512)\n",
        "    dist_p = iter(p)\n",
        "    dist_q = iter(q)\n",
        "#\tdist_q = iter(q)\n",
        "    optimizer = optim.Adam(D.parameters(), lr=1e-3)\n",
        "    print(thet)\n",
        "    for i in range(5000):\n",
        "        D.train()\n",
        "        X = torch.from_numpy(next(dist_p)).float()\n",
        "        Y = torch.from_numpy(next(dist_q)).float()\n",
        "        loss = loss_fn1(D,X,Y)\n",
        "        \n",
        "        D.zero_grad()\n",
        "        if ( i%1000 == True):\n",
        "          print(-loss.data)\n",
        "        loss.backward()\n",
        "        optimizer.step()\n",
        "    D.eval()"
      ],
      "execution_count": null,
      "outputs": [
        {
          "output_type": "stream",
          "text": [
            "[-1.0, -0.9, -0.8, -0.7, -0.6, -1.0, -1.0]\n",
            "tensor(-1.3257, device='cuda:0')\n",
            "tensor(-1.1943, device='cuda:0')\n",
            "tensor(-1.2063, device='cuda:0')\n",
            "tensor(-1.2284, device='cuda:0')\n",
            "tensor(-1.1918, device='cuda:0')\n"
          ],
          "name": "stdout"
        }
      ]
    },
    {
      "cell_type": "code",
      "metadata": {
        "id": "tZR02ALitNuQ",
        "outputId": "c8d08c84-d9c9-478e-8d1d-09e6cc5b791b",
        "colab": {
          "base_uri": "https://localhost:8080/",
          "height": 353
        }
      },
      "source": [
        "from __future__ import print_function\n",
        "import numpy as np\n",
        "import torch \n",
        "import matplotlib.pyplot as plt\n",
        "import samplers as sm\n",
        "import torch\n",
        "import torch.nn as nn\n",
        "import torch.nn.functional as F\n",
        "import torch.optim as optim\n",
        "cuda = torch.cuda.is_available()\n",
        "cuda = False\n",
        "# plot p0 and p1\n",
        "plt.figure()\n",
        "\n",
        "# empirical\n",
        "xx = torch.randn(10000)\n",
        "f = lambda x: torch.tanh(x*2+1) + x*0.75\n",
        "d = lambda x: (1-torch.tanh(x*2+1)**2)*2+0.75\n",
        "plt.hist(f(xx), 100, alpha=0.5, density=1)\n",
        "plt.hist(xx, 100, alpha=0.5, density=1)\n",
        "plt.xlim(-5,5)\n",
        "# exact\n",
        "xx = np.linspace(-5,5,1000)\n",
        "N = lambda x: np.exp(-x**2/2.)/((2*np.pi)**0.5)\n",
        "plt.plot(f(torch.from_numpy(xx)).numpy(), d(torch.from_numpy(xx)).numpy()**(-1)*N(xx))\n",
        "plt.plot(xx, N(xx))\n",
        "\n",
        "\n",
        "############### import the sampler ``samplers.distribution4'' \n",
        "############### train a discriminator on distribution4 and standard gaussian\n",
        "############### estimate the density of distribution4\n",
        "\n",
        "#######--- INSERT YOUR CODE BELOW ---#######\n",
        "def xavier_init(m):\n",
        "    \"\"\" Xavier initialization \"\"\"\n",
        "    if type(m) == nn.Linear:\n",
        "        nn.init.xavier_uniform_(m.weight)\n",
        "        m.bias.data.fill_(0)\n",
        "\n",
        "class WNet(nn.Module):\n",
        "    def __init__(self):\n",
        "        super(WNet,self).__init__()\n",
        "        self.D = nn.Sequential(\n",
        "            nn.Linear(1, 32),\n",
        "            nn.ReLU(),\n",
        "            \n",
        "            nn.Linear(32,1),\n",
        "            nn.Sigmoid(),\n",
        "        )\n",
        "        self.D.apply(xavier_init)\n",
        "    def forward(self,input):\n",
        "        return self.D(input)\n",
        "D = WNet()\n",
        "p = sm.distribution3()\n",
        "q = sm.distribution4(batch_size=512)\n",
        "dist_p = iter(p)\n",
        "dist_q = iter(q)\n",
        "\n",
        "def loss_fn1(Discriminator,x,y):\n",
        "    x = x.to('cpu')\n",
        "    y = y.to('cpu')\n",
        "    real_data = torch.mean(torch.log(1 - Discriminator(x)))\n",
        "    fake_data = torch.mean(torch.log(Discriminator(y)))\n",
        "    return -(real_data+fake_data)\n",
        "\n",
        "optimizer = optim.Adam(D.parameters(), lr=1e-3)\n",
        "\n",
        "for i in range(5000):\n",
        "    D.train()\n",
        "    X = torch.from_numpy(next(dist_p)).float()\n",
        "    Y = torch.from_numpy(next(dist_q)).float()\n",
        "    loss = loss_fn1(D,X,Y)\n",
        "    D.zero_grad()\n",
        "    if ( i%1000 == True):\n",
        "        print(-loss.data)\n",
        "    loss.backward()\n",
        "    optimizer.step()\n",
        "\n"
      ],
      "execution_count": null,
      "outputs": [
        {
          "output_type": "stream",
          "text": [
            "tensor(-1.3180)\n",
            "tensor(-1.2551)\n",
            "tensor(-1.2027)\n",
            "tensor(-1.2237)\n",
            "tensor(-1.2417)\n"
          ],
          "name": "stdout"
        },
        {
          "output_type": "display_data",
          "data": {
            "image/png": "[encoded data removed]",
            "text/plain": [
              "<Figure size 432x288 with 1 Axes>"
            ]
          },
          "metadata": {
            "tags": []
          }
        }
      ]
    },
    {
      "cell_type": "code",
      "metadata": {
        "id": "JFwbw8YztONC"
      },
      "source": [
        "from torch.autograd import Variable\n",
        "D.eval()\n",
        "sm.distribution3()\n",
        "xx = np.linspace(-5,5,1000)\n",
        "N = lambda x: np.exp(-x**2/2.)/((2*np.pi)**0.5)\n",
        "f0_x_tensor = Variable(torch.from_numpy(np.float32(xx.reshape(1000, 1))))\n",
        "#X = torch.from_numpy(next(sm.distribution3(1000))).float().to('cuda')\n",
        "#print(np.size(np.float32(xx)))\n",
        "D_x = D(f0_x_tensor)\n",
        "f1_est = (N(f0_x_tensor) * D_x) / (1 - D_x)"
      ],
      "execution_count": null,
      "outputs": []
    },
    {
      "cell_type": "code",
      "metadata": {
        "id": "Xy4bz4VVwWrA",
        "outputId": "81c1a89c-7d7d-49a1-8e2f-9a63e7593554",
        "colab": {
          "base_uri": "https://localhost:8080/",
          "height": 300
        }
      },
      "source": [
        "# Plot the discriminator output.\n",
        "r = -D_x.detach().numpy() \n",
        "plt.figure(figsize=(8,4))\n",
        "plt.subplot(1,2,1)\n",
        "plt.plot(xx,r)\n",
        "plt.title(r'$D(x)$')\n"
      ],
      "execution_count": null,
      "outputs": [
        {
          "output_type": "execute_result",
          "data": {
            "text/plain": [
              "Text(0.5, 1.0, '$D(x)$')"
            ]
          },
          "metadata": {
            "tags": []
          },
          "execution_count": 29
        },
        {
          "output_type": "display_data",
          "data": {
            "image/png": "[encoded data removed]",
            "text/plain": [
              "<Figure size 576x288 with 1 Axes>"
            ]
          },
          "metadata": {
            "tags": []
          }
        }
      ]
    },
    {
      "cell_type": "code",
      "metadata": {
        "id": "UhnDhuE7vspE",
        "outputId": "96a368c2-89a4-47ff-8c86-47cd7e14e8f4",
        "colab": {
          "base_uri": "https://localhost:8080/",
          "height": 281
        }
      },
      "source": [
        "estimate = f1_est.detach().numpy() \n",
        "plt.subplot(1,2,2)\n",
        "plt.plot(xx,estimate)\n",
        "plt.plot(f(torch.from_numpy(xx)).numpy(), d(torch.from_numpy(xx)).numpy()**(-1)*N(xx))\n",
        "plt.legend(['Estimated','True'])\n",
        "plt.title('Estimated vs True')\n",
        "plt.savefig('Estimated_vs_Exact.png') \n",
        "plt.show()\n"
      ],
      "execution_count": null,
      "outputs": [
        {
          "output_type": "display_data",
          "data": {
            "image/png": "[encoded data removed]",
            "text/plain": [
              "<Figure size 432x288 with 1 Axes>"
            ]
          },
          "metadata": {
            "tags": []
          }
        }
      ]
    },
    {
      "cell_type": "code",
      "metadata": {
        "id": "koPPRykGv5pg"
      },
      "source": [
        ""
      ],
      "execution_count": null,
      "outputs": []
    }
  ]
}
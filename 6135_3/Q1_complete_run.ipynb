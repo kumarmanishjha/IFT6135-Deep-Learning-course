{
  "nbformat": 4,
  "nbformat_minor": 0,
  "metadata": {
    "colab": {
      "name": "Asgn3_P1.ipynb",
      "version": "0.3.2",
      "provenance": [],
      "collapsed_sections": []
    },
    "kernelspec": {
      "name": "python3",
      "display_name": "Python 3"
    },
    "accelerator": "GPU"
  },
  "cells": [
    {
      "metadata": {
        "id": "xuEuG7pXFKyc",
        "colab_type": "code",
        "colab": {}
      },
      "cell_type": "code",
      "source": [
        "def distribution1(x, batch_size=512):\n",
        "    # Distribution defined as (x, U(0,1)). Can be used for question 3\n",
        "    while True:\n",
        "        yield(np.array([(x, random.uniform(0, 1)) for _ in range(batch_size)]))\n",
        "\n",
        "\n",
        "def distribution2(batch_size=512):\n",
        "    # High dimension uniform distribution\n",
        "    while True:\n",
        "        yield(np.random.uniform(0, 1, (batch_size, 2)))\n",
        "\n",
        "\n",
        "def distribution3(batch_size=512):\n",
        "    # 1D gaussian distribution\n",
        "    while True:\n",
        "        yield(np.random.normal(0, 1, (batch_size, 1)))\n",
        "\n",
        "e = lambda x: np.exp(x)\n",
        "tanh = lambda x: (e(x) - e(-x)) / (e(x)+e(-x))\n",
        "def distribution4(batch_size=1):\n",
        "    # arbitrary sampler\n",
        "    f = lambda x: tanh(x*2+1) + x*0.75\n",
        "    while True:\n",
        "        yield(f(np.random.normal(0, 1, (batch_size, 1))))"
      ],
      "execution_count": 0,
      "outputs": []
    },
    {
      "metadata": {
        "id": "mPP-ItBJzmuH",
        "colab_type": "code",
        "colab": {}
      },
      "cell_type": "code",
      "source": [
        "import numpy as np\n",
        "import torch\n",
        "import torch.nn as nn\n",
        "import torch.nn.functional as F\n",
        "import torch.optim as optim\n",
        "import matplotlib as mpl\n",
        "import matplotlib.pyplot as plt\n",
        "import random\n",
        "import math\n",
        "from torch.autograd import Variable,grad"
      ],
      "execution_count": 0,
      "outputs": []
    },
    {
      "metadata": {
        "id": "mJdDDXK6EUGR",
        "colab_type": "code",
        "colab": {}
      },
      "cell_type": "code",
      "source": [
        "cuda = True if torch.cuda.is_available() else False\n",
        "device = torch.device(\"cuda\" if torch.cuda.is_available() else \"cpu\")"
      ],
      "execution_count": 0,
      "outputs": []
    },
    {
      "metadata": {
        "id": "85bhLfHNEdvC",
        "colab_type": "code",
        "colab": {}
      },
      "cell_type": "code",
      "source": [
        "#To initialize weights of network\n",
        "def init_weights(m):\n",
        "    if type(m) == nn.Linear:\n",
        "        nn.init.xavier_uniform_(m.weight)\n",
        "        m.bias.data.fill_(0.0)"
      ],
      "execution_count": 0,
      "outputs": []
    },
    {
      "metadata": {
        "id": "N7WGY2oMgq7N",
        "colab_type": "text"
      },
      "cell_type": "markdown",
      "source": [
        "###Problem 1.1"
      ]
    },
    {
      "metadata": {
        "id": "fO5j7D-2KCEg",
        "colab_type": "code",
        "colab": {}
      },
      "cell_type": "code",
      "source": [
        "#Discriminator for Q1.1\n",
        "class Discriminator(nn.Module):\n",
        "  def __init__(self, input_size, hidden_size, output_size):\n",
        "    super(Discriminator, self).__init__()\n",
        "    self.fc1 = nn.Linear(input_size, hidden_size)\n",
        "    self.fc2 = nn.Linear(hidden_size, hidden_size)\n",
        "    self.fc3 = nn.Linear(hidden_size, output_size)\n",
        "  \n",
        "  def forward(self,x):\n",
        "    x = F.relu(self.fc1(x))\n",
        "    x = F.relu(self.fc2(x))\n",
        "    return torch.sigmoid_(self.fc3(x))"
      ],
      "execution_count": 0,
      "outputs": []
    },
    {
      "metadata": {
        "id": "kVAJ9zfKAKcK",
        "colab_type": "code",
        "colab": {}
      },
      "cell_type": "code",
      "source": [
        "#Q1.1 : Loss function to estimate JS Divergence\n",
        "def js_loss(D, dist1, dist2):\n",
        "  dist1_loss = torch.mean(torch.log(D(dist1)))\n",
        "  dist2_loss = torch.mean(torch.log(1-D(dist2)))\n",
        "  return -(dist1_loss+dist2_loss)"
      ],
      "execution_count": 0,
      "outputs": []
    },
    {
      "metadata": {
        "id": "yLaFcNIW20gU",
        "colab_type": "code",
        "colab": {}
      },
      "cell_type": "code",
      "source": [
        "#Q1.1 : Train function to estimate JS Divergence using js_loss\n",
        "def train_js(_phi = 0):\n",
        "  # Model parameters\n",
        "  d_input_size = 2    \n",
        "  d_hidden_size = 10\n",
        "  d_output_size = 1     \n",
        "  minibatch_size = 512\n",
        "  d_learning_rate = 1e-3\n",
        "  sgd_momentum = 0.9\n",
        "  num_epochs = 3000\n",
        "  print_interval = 500\n",
        "  dist1_sample, dist2_sample= None, None\n",
        "\n",
        "  D = Discriminator(input_size=d_input_size,\n",
        "                      hidden_size=d_hidden_size,\n",
        "                      output_size=d_output_size)\n",
        "  \n",
        "  if cuda:\n",
        "    D.cuda()\n",
        "    \n",
        "  D.apply(init_weights) #Initialize discriminator weights\n",
        "  d_optimizer = optim.SGD(D.parameters(), lr=d_learning_rate, momentum=sgd_momentum) #Optimizer SGD with momentum\n",
        "  \n",
        "  dist1 = iter(distribution1(0, 512)) #Distribution1= (0, Z) iterator where Z~Uniform(0,1)\n",
        "  dist2 = iter(distribution1(_phi, 512)) #Distribution2 = (_phi, Z)iterator where Z~Uniform(0,1)\n",
        "\n",
        "  for epoch in range(num_epochs):\n",
        "    # Initialize grads\n",
        "    D.zero_grad()\n",
        "    \n",
        "    #Generate dist1 data\n",
        "    dist1_sample = next(dist1)\n",
        "    if cuda:\n",
        "      dist1_sample = torch.from_numpy(dist1_sample).float().cuda()\n",
        "      dist1_sample = Variable(dist1_sample)\n",
        "      #print(dist1_sample.shape)\n",
        "\n",
        "    #Generate dist2 data\n",
        "    dist2_sample = next(dist2)\n",
        "    if cuda:\n",
        "      dist2_sample = torch.from_numpy(dist2_sample).float().cuda()\n",
        "      dist2_sample = Variable(dist2_sample)\n",
        "      #print(dist2_sample.shape)\n",
        "\n",
        "    #Calculate loss\n",
        "    loss = js_loss(D, dist1_sample, dist2_sample)\n",
        "    loss.backward()\n",
        "\n",
        "    d_optimizer.step() #  optimizes D's parameters; changes based on stored gradients from backward()\n",
        "    \n",
        "\n",
        "    if epoch % print_interval == 0:\n",
        "      print(\"Epoch %s: D ( JS Loss %s ) \" %(epoch, loss))\n",
        "      \n",
        "    #print(\"Epoch %s: D JS Loss %s  \" %(epoch, loss))\n",
        "   \n",
        "  #Return final loss\n",
        "  return loss"
      ],
      "execution_count": 0,
      "outputs": []
    },
    {
      "metadata": {
        "id": "YSrfhqMcgyZD",
        "colab_type": "text"
      },
      "cell_type": "markdown",
      "source": [
        "###Problem 1.2"
      ]
    },
    {
      "metadata": {
        "id": "YLdS8C65EmxJ",
        "colab_type": "code",
        "colab": {}
      },
      "cell_type": "code",
      "source": [
        "#Q1.2 Critic Network\n",
        "class Critic(nn.Module):\n",
        "  def __init__(self, input_size, hidden_size, output_size):\n",
        "    super(Critic, self).__init__()\n",
        "    self.fc1 = nn.Linear(input_size, hidden_size)\n",
        "    self.fc2 = nn.Linear(hidden_size, hidden_size)\n",
        "    self.fc3 = nn.Linear(hidden_size, output_size)\n",
        "  \n",
        "  def forward(self,x):\n",
        "    x = F.relu(self.fc1(x))\n",
        "    x = F.relu(self.fc2(x))\n",
        "    return self.fc3(x)"
      ],
      "execution_count": 0,
      "outputs": []
    },
    {
      "metadata": {
        "id": "LTHLfFQUvPA2",
        "colab_type": "code",
        "colab": {}
      },
      "cell_type": "code",
      "source": [
        "#Q1.2 Loss function to estimate Wasserstein Distance\n",
        "def wd_loss(critic, dist1_samples, dist2_samples, lamda =10):\n",
        "  dist1_loss = torch.mean(critic(dist1_samples))\n",
        "  dist2_loss = torch.mean(critic(dist2_samples))\n",
        "  a = torch.FloatTensor(512, 1).uniform_(0, 1)\n",
        "  a = a.float().cuda()\n",
        "  z = a * dist1_samples + (1-a)*dist2_samples\n",
        "  z = Variable(z, requires_grad = True)\n",
        "  T_z  = critic(z)\n",
        "  grad_penalty = grad( T_z , z, grad_outputs=torch.ones(T_z.size()).cuda(),create_graph=True, only_inputs=True, retain_graph=True)[0]\n",
        "  grad_penalty = grad_penalty.view(512, -1)\n",
        "  grad_penalty = (grad_penalty.norm(2, dim=1) -1)**2\n",
        "  wd_loss = -(dist1_loss - dist2_loss -  lamda * grad_penalty.mean())\n",
        "  return wd_loss"
      ],
      "execution_count": 0,
      "outputs": []
    },
    {
      "metadata": {
        "id": "L8-3tPdaMXEc",
        "colab_type": "code",
        "colab": {}
      },
      "cell_type": "code",
      "source": [
        "#Q1.2 : Train function to estimate Wasserstein Distance using wd_loss\n",
        "def train_wd(_phi = 0):\n",
        "  # Model parameters\n",
        "  d_input_size = 2    \n",
        "  d_hidden_size = 10   \n",
        "  d_output_size = 1     \n",
        "  minibatch_size = 512\n",
        "  d_learning_rate = 1e-3\n",
        "  sgd_momentum = 0.9\n",
        "  num_epochs = 3000\n",
        "  print_interval = 500\n",
        "  dist1_sample, dist2_sample= None, None\n",
        "\n",
        "  T = Critic(input_size=d_input_size, \n",
        "             hidden_size=d_hidden_size, \n",
        "             output_size=d_output_size)\n",
        "  if cuda:\n",
        "    T.cuda()\n",
        "    \n",
        "  T.apply(init_weights) #Initialize critic\n",
        "  \n",
        "  d_optimizer = optim.SGD(T.parameters(), lr=d_learning_rate, momentum=sgd_momentum)\n",
        "  \n",
        "  dist1 = iter(distribution1(0, 512)) #Distribution1= (0, Z) iterator where Z~Uniform(0,1)\n",
        "  dist2 = iter(distribution1(_phi, 512)) #Distribution2 = (_phi, Z)iterator where Z~Uniform(0,1)\n",
        "  \n",
        "  for epoch in range(num_epochs):\n",
        "    # Initialize grads\n",
        "    T.zero_grad()\n",
        "    \n",
        "    #Generate dist1 data\n",
        "    dist1_sample = next(dist1)\n",
        "    if cuda:\n",
        "      dist1_sample = torch.from_numpy(dist1_sample).float().cuda()\n",
        "      dist1_sample = Variable(dist1_sample)\n",
        "      #print(dist1_sample.shape)\n",
        "\n",
        "    #Generate dist2 data\n",
        "    dist2_sample = next(dist2)\n",
        "    if cuda:\n",
        "      dist2_sample = torch.from_numpy(dist2_sample).float().cuda()\n",
        "      dist2_sample = Variable(dist2_sample)\n",
        "      #print(dist2_sample.shape)\n",
        "\n",
        "    #Calculate loss\n",
        "    loss = wd_loss(T, dist1_sample, dist2_sample)\n",
        "    loss.backward()\n",
        "    \n",
        "    d_optimizer.step() #  optimizes D's parameters; changes based on stored gradients from backward()\n",
        "\n",
        "    if epoch % print_interval == 0:\n",
        "      print(\"Epoch %s: D (%s WD Loss) \" %(epoch, loss))\n",
        "  \n",
        "  #Return final loss\n",
        "  return loss"
      ],
      "execution_count": 0,
      "outputs": []
    },
    {
      "metadata": {
        "id": "6pymmu4JjE4n",
        "colab_type": "text"
      },
      "cell_type": "markdown",
      "source": [
        "###Problem 1.3"
      ]
    },
    {
      "metadata": {
        "id": "IZ7cqV2nQL3V",
        "colab_type": "code",
        "outputId": "d21c7ff3-1892-41d3-ddba-75a57a46d3f3",
        "colab": {
          "base_uri": "https://localhost:8080/",
          "height": 2565
        }
      },
      "cell_type": "code",
      "source": [
        "#Q1.3\n",
        "jsd_loss_list = []\n",
        "for i in np.linspace(-1,1,21):\n",
        "  _phi = i\n",
        "  print('_phi = %s' %_phi)\n",
        "  train_loss = train_js(_phi)\n",
        "  jsd_loss =  np.log(2) - train_loss.item()/2.0 \n",
        "  jsd_loss_list.append(jsd_loss)"
      ],
      "execution_count": 0,
      "outputs": [
        {
          "output_type": "stream",
          "text": [
            "_phi = -1.0\n",
            "Epoch 0: D ( JS Loss tensor(1.3674, device='cuda:0', grad_fn=<NegBackward>) ) \n",
            "Epoch 500: D ( JS Loss tensor(0.2102, device='cuda:0', grad_fn=<NegBackward>) ) \n",
            "Epoch 1000: D ( JS Loss tensor(0.0285, device='cuda:0', grad_fn=<NegBackward>) ) \n",
            "Epoch 1500: D ( JS Loss tensor(0.0119, device='cuda:0', grad_fn=<NegBackward>) ) \n",
            "Epoch 2000: D ( JS Loss tensor(0.0072, device='cuda:0', grad_fn=<NegBackward>) ) \n",
            "Epoch 2500: D ( JS Loss tensor(0.0050, device='cuda:0', grad_fn=<NegBackward>) ) \n",
            "_phi = -0.9\n",
            "Epoch 0: D ( JS Loss tensor(1.4494, device='cuda:0', grad_fn=<NegBackward>) ) \n",
            "Epoch 500: D ( JS Loss tensor(0.1727, device='cuda:0', grad_fn=<NegBackward>) ) \n",
            "Epoch 1000: D ( JS Loss tensor(0.0297, device='cuda:0', grad_fn=<NegBackward>) ) \n",
            "Epoch 1500: D ( JS Loss tensor(0.0133, device='cuda:0', grad_fn=<NegBackward>) ) \n",
            "Epoch 2000: D ( JS Loss tensor(0.0080, device='cuda:0', grad_fn=<NegBackward>) ) \n",
            "Epoch 2500: D ( JS Loss tensor(0.0054, device='cuda:0', grad_fn=<NegBackward>) ) \n",
            "_phi = -0.8\n",
            "Epoch 0: D ( JS Loss tensor(1.3792, device='cuda:0', grad_fn=<NegBackward>) ) \n",
            "Epoch 500: D ( JS Loss tensor(0.4016, device='cuda:0', grad_fn=<NegBackward>) ) \n",
            "Epoch 1000: D ( JS Loss tensor(0.0342, device='cuda:0', grad_fn=<NegBackward>) ) \n",
            "Epoch 1500: D ( JS Loss tensor(0.0129, device='cuda:0', grad_fn=<NegBackward>) ) \n",
            "Epoch 2000: D ( JS Loss tensor(0.0078, device='cuda:0', grad_fn=<NegBackward>) ) \n",
            "Epoch 2500: D ( JS Loss tensor(0.0051, device='cuda:0', grad_fn=<NegBackward>) ) \n",
            "_phi = -0.7\n",
            "Epoch 0: D ( JS Loss tensor(1.2853, device='cuda:0', grad_fn=<NegBackward>) ) \n",
            "Epoch 500: D ( JS Loss tensor(0.2232, device='cuda:0', grad_fn=<NegBackward>) ) \n",
            "Epoch 1000: D ( JS Loss tensor(0.0494, device='cuda:0', grad_fn=<NegBackward>) ) \n",
            "Epoch 1500: D ( JS Loss tensor(0.0209, device='cuda:0', grad_fn=<NegBackward>) ) \n",
            "Epoch 2000: D ( JS Loss tensor(0.0121, device='cuda:0', grad_fn=<NegBackward>) ) \n",
            "Epoch 2500: D ( JS Loss tensor(0.0081, device='cuda:0', grad_fn=<NegBackward>) ) \n",
            "_phi = -0.6\n",
            "Epoch 0: D ( JS Loss tensor(1.2552, device='cuda:0', grad_fn=<NegBackward>) ) \n",
            "Epoch 500: D ( JS Loss tensor(0.1087, device='cuda:0', grad_fn=<NegBackward>) ) \n",
            "Epoch 1000: D ( JS Loss tensor(0.0251, device='cuda:0', grad_fn=<NegBackward>) ) \n",
            "Epoch 1500: D ( JS Loss tensor(0.0127, device='cuda:0', grad_fn=<NegBackward>) ) \n",
            "Epoch 2000: D ( JS Loss tensor(0.0079, device='cuda:0', grad_fn=<NegBackward>) ) \n",
            "Epoch 2500: D ( JS Loss tensor(0.0056, device='cuda:0', grad_fn=<NegBackward>) ) \n",
            "_phi = -0.5\n",
            "Epoch 0: D ( JS Loss tensor(1.3537, device='cuda:0', grad_fn=<NegBackward>) ) \n",
            "Epoch 500: D ( JS Loss tensor(0.1414, device='cuda:0', grad_fn=<NegBackward>) ) \n",
            "Epoch 1000: D ( JS Loss tensor(0.0287, device='cuda:0', grad_fn=<NegBackward>) ) \n",
            "Epoch 1500: D ( JS Loss tensor(0.0135, device='cuda:0', grad_fn=<NegBackward>) ) \n",
            "Epoch 2000: D ( JS Loss tensor(0.0083, device='cuda:0', grad_fn=<NegBackward>) ) \n",
            "Epoch 2500: D ( JS Loss tensor(0.0059, device='cuda:0', grad_fn=<NegBackward>) ) \n",
            "_phi = -0.3999999999999999\n",
            "Epoch 0: D ( JS Loss tensor(1.3888, device='cuda:0', grad_fn=<NegBackward>) ) \n",
            "Epoch 500: D ( JS Loss tensor(0.6272, device='cuda:0', grad_fn=<NegBackward>) ) \n",
            "Epoch 1000: D ( JS Loss tensor(0.0695, device='cuda:0', grad_fn=<NegBackward>) ) \n",
            "Epoch 1500: D ( JS Loss tensor(0.0239, device='cuda:0', grad_fn=<NegBackward>) ) \n",
            "Epoch 2000: D ( JS Loss tensor(0.0133, device='cuda:0', grad_fn=<NegBackward>) ) \n",
            "Epoch 2500: D ( JS Loss tensor(0.0087, device='cuda:0', grad_fn=<NegBackward>) ) \n",
            "_phi = -0.29999999999999993\n",
            "Epoch 0: D ( JS Loss tensor(1.4637, device='cuda:0', grad_fn=<NegBackward>) ) \n",
            "Epoch 500: D ( JS Loss tensor(0.5008, device='cuda:0', grad_fn=<NegBackward>) ) \n",
            "Epoch 1000: D ( JS Loss tensor(0.0757, device='cuda:0', grad_fn=<NegBackward>) ) \n",
            "Epoch 1500: D ( JS Loss tensor(0.0295, device='cuda:0', grad_fn=<NegBackward>) ) \n",
            "Epoch 2000: D ( JS Loss tensor(0.0164, device='cuda:0', grad_fn=<NegBackward>) ) \n",
            "Epoch 2500: D ( JS Loss tensor(0.0107, device='cuda:0', grad_fn=<NegBackward>) ) \n",
            "_phi = -0.19999999999999996\n",
            "Epoch 0: D ( JS Loss tensor(1.4099, device='cuda:0', grad_fn=<NegBackward>) ) \n",
            "Epoch 500: D ( JS Loss tensor(1.2634, device='cuda:0', grad_fn=<NegBackward>) ) \n",
            "Epoch 1000: D ( JS Loss tensor(0.6891, device='cuda:0', grad_fn=<NegBackward>) ) \n",
            "Epoch 1500: D ( JS Loss tensor(0.1302, device='cuda:0', grad_fn=<NegBackward>) ) \n",
            "Epoch 2000: D ( JS Loss tensor(0.0454, device='cuda:0', grad_fn=<NegBackward>) ) \n",
            "Epoch 2500: D ( JS Loss tensor(0.0243, device='cuda:0', grad_fn=<NegBackward>) ) \n",
            "_phi = -0.09999999999999998\n",
            "Epoch 0: D ( JS Loss tensor(1.3839, device='cuda:0', grad_fn=<NegBackward>) ) \n",
            "Epoch 500: D ( JS Loss tensor(1.3611, device='cuda:0', grad_fn=<NegBackward>) ) \n",
            "Epoch 1000: D ( JS Loss tensor(1.3280, device='cuda:0', grad_fn=<NegBackward>) ) \n",
            "Epoch 1500: D ( JS Loss tensor(1.2252, device='cuda:0', grad_fn=<NegBackward>) ) \n",
            "Epoch 2000: D ( JS Loss tensor(0.9290, device='cuda:0', grad_fn=<NegBackward>) ) \n",
            "Epoch 2500: D ( JS Loss tensor(0.3720, device='cuda:0', grad_fn=<NegBackward>) ) \n",
            "_phi = 0.0\n",
            "Epoch 0: D ( JS Loss tensor(1.3891, device='cuda:0', grad_fn=<NegBackward>) ) \n",
            "Epoch 500: D ( JS Loss tensor(1.3861, device='cuda:0', grad_fn=<NegBackward>) ) \n",
            "Epoch 1000: D ( JS Loss tensor(1.3863, device='cuda:0', grad_fn=<NegBackward>) ) \n",
            "Epoch 1500: D ( JS Loss tensor(1.3855, device='cuda:0', grad_fn=<NegBackward>) ) \n",
            "Epoch 2000: D ( JS Loss tensor(1.3857, device='cuda:0', grad_fn=<NegBackward>) ) \n",
            "Epoch 2500: D ( JS Loss tensor(1.3867, device='cuda:0', grad_fn=<NegBackward>) ) \n",
            "_phi = 0.10000000000000009\n",
            "Epoch 0: D ( JS Loss tensor(1.3732, device='cuda:0', grad_fn=<NegBackward>) ) \n",
            "Epoch 500: D ( JS Loss tensor(1.3167, device='cuda:0', grad_fn=<NegBackward>) ) \n",
            "Epoch 1000: D ( JS Loss tensor(1.2111, device='cuda:0', grad_fn=<NegBackward>) ) \n",
            "Epoch 1500: D ( JS Loss tensor(0.8790, device='cuda:0', grad_fn=<NegBackward>) ) \n",
            "Epoch 2000: D ( JS Loss tensor(0.3518, device='cuda:0', grad_fn=<NegBackward>) ) \n",
            "Epoch 2500: D ( JS Loss tensor(0.1234, device='cuda:0', grad_fn=<NegBackward>) ) \n",
            "_phi = 0.20000000000000018\n",
            "Epoch 0: D ( JS Loss tensor(1.3782, device='cuda:0', grad_fn=<NegBackward>) ) \n",
            "Epoch 500: D ( JS Loss tensor(1.2366, device='cuda:0', grad_fn=<NegBackward>) ) \n",
            "Epoch 1000: D ( JS Loss tensor(0.6727, device='cuda:0', grad_fn=<NegBackward>) ) \n",
            "Epoch 1500: D ( JS Loss tensor(0.1336, device='cuda:0', grad_fn=<NegBackward>) ) \n",
            "Epoch 2000: D ( JS Loss tensor(0.0466, device='cuda:0', grad_fn=<NegBackward>) ) \n",
            "Epoch 2500: D ( JS Loss tensor(0.0246, device='cuda:0', grad_fn=<NegBackward>) ) \n",
            "_phi = 0.30000000000000004\n",
            "Epoch 0: D ( JS Loss tensor(1.3329, device='cuda:0', grad_fn=<NegBackward>) ) \n",
            "Epoch 500: D ( JS Loss tensor(0.7658, device='cuda:0', grad_fn=<NegBackward>) ) \n",
            "Epoch 1000: D ( JS Loss tensor(0.1405, device='cuda:0', grad_fn=<NegBackward>) ) \n",
            "Epoch 1500: D ( JS Loss tensor(0.0443, device='cuda:0', grad_fn=<NegBackward>) ) \n",
            "Epoch 2000: D ( JS Loss tensor(0.0224, device='cuda:0', grad_fn=<NegBackward>) ) \n",
            "Epoch 2500: D ( JS Loss tensor(0.0141, device='cuda:0', grad_fn=<NegBackward>) ) \n",
            "_phi = 0.40000000000000013\n",
            "Epoch 0: D ( JS Loss tensor(1.3460, device='cuda:0', grad_fn=<NegBackward>) ) \n",
            "Epoch 500: D ( JS Loss tensor(0.2882, device='cuda:0', grad_fn=<NegBackward>) ) \n",
            "Epoch 1000: D ( JS Loss tensor(0.0455, device='cuda:0', grad_fn=<NegBackward>) ) \n",
            "Epoch 1500: D ( JS Loss tensor(0.0191, device='cuda:0', grad_fn=<NegBackward>) ) \n",
            "Epoch 2000: D ( JS Loss tensor(0.0115, device='cuda:0', grad_fn=<NegBackward>) ) \n",
            "Epoch 2500: D ( JS Loss tensor(0.0077, device='cuda:0', grad_fn=<NegBackward>) ) \n",
            "_phi = 0.5\n",
            "Epoch 0: D ( JS Loss tensor(1.3420, device='cuda:0', grad_fn=<NegBackward>) ) \n",
            "Epoch 500: D ( JS Loss tensor(0.6072, device='cuda:0', grad_fn=<NegBackward>) ) \n",
            "Epoch 1000: D ( JS Loss tensor(0.0817, device='cuda:0', grad_fn=<NegBackward>) ) \n",
            "Epoch 1500: D ( JS Loss tensor(0.0284, device='cuda:0', grad_fn=<NegBackward>) ) \n",
            "Epoch 2000: D ( JS Loss tensor(0.0148, device='cuda:0', grad_fn=<NegBackward>) ) \n",
            "Epoch 2500: D ( JS Loss tensor(0.0098, device='cuda:0', grad_fn=<NegBackward>) ) \n",
            "_phi = 0.6000000000000001\n",
            "Epoch 0: D ( JS Loss tensor(1.3235, device='cuda:0', grad_fn=<NegBackward>) ) \n",
            "Epoch 500: D ( JS Loss tensor(0.3895, device='cuda:0', grad_fn=<NegBackward>) ) \n",
            "Epoch 1000: D ( JS Loss tensor(0.0858, device='cuda:0', grad_fn=<NegBackward>) ) \n",
            "Epoch 1500: D ( JS Loss tensor(0.0364, device='cuda:0', grad_fn=<NegBackward>) ) \n",
            "Epoch 2000: D ( JS Loss tensor(0.0210, device='cuda:0', grad_fn=<NegBackward>) ) \n",
            "Epoch 2500: D ( JS Loss tensor(0.0141, device='cuda:0', grad_fn=<NegBackward>) ) \n",
            "_phi = 0.7000000000000002\n",
            "Epoch 0: D ( JS Loss tensor(1.1829, device='cuda:0', grad_fn=<NegBackward>) ) \n",
            "Epoch 500: D ( JS Loss tensor(0.2230, device='cuda:0', grad_fn=<NegBackward>) ) \n",
            "Epoch 1000: D ( JS Loss tensor(0.0503, device='cuda:0', grad_fn=<NegBackward>) ) \n",
            "Epoch 1500: D ( JS Loss tensor(0.0214, device='cuda:0', grad_fn=<NegBackward>) ) \n",
            "Epoch 2000: D ( JS Loss tensor(0.0122, device='cuda:0', grad_fn=<NegBackward>) ) \n",
            "Epoch 2500: D ( JS Loss tensor(0.0083, device='cuda:0', grad_fn=<NegBackward>) ) \n",
            "_phi = 0.8\n",
            "Epoch 0: D ( JS Loss tensor(1.6027, device='cuda:0', grad_fn=<NegBackward>) ) \n",
            "Epoch 500: D ( JS Loss tensor(0.1230, device='cuda:0', grad_fn=<NegBackward>) ) \n",
            "Epoch 1000: D ( JS Loss tensor(0.0231, device='cuda:0', grad_fn=<NegBackward>) ) \n",
            "Epoch 1500: D ( JS Loss tensor(0.0109, device='cuda:0', grad_fn=<NegBackward>) ) \n",
            "Epoch 2000: D ( JS Loss tensor(0.0067, device='cuda:0', grad_fn=<NegBackward>) ) \n",
            "Epoch 2500: D ( JS Loss tensor(0.0047, device='cuda:0', grad_fn=<NegBackward>) ) \n",
            "_phi = 0.9000000000000001\n",
            "Epoch 0: D ( JS Loss tensor(1.3320, device='cuda:0', grad_fn=<NegBackward>) ) \n",
            "Epoch 500: D ( JS Loss tensor(0.2333, device='cuda:0', grad_fn=<NegBackward>) ) \n",
            "Epoch 1000: D ( JS Loss tensor(0.0667, device='cuda:0', grad_fn=<NegBackward>) ) \n",
            "Epoch 1500: D ( JS Loss tensor(0.0308, device='cuda:0', grad_fn=<NegBackward>) ) \n",
            "Epoch 2000: D ( JS Loss tensor(0.0182, device='cuda:0', grad_fn=<NegBackward>) ) \n",
            "Epoch 2500: D ( JS Loss tensor(0.0123, device='cuda:0', grad_fn=<NegBackward>) ) \n",
            "_phi = 1.0\n",
            "Epoch 0: D ( JS Loss tensor(1.3986, device='cuda:0', grad_fn=<NegBackward>) ) \n",
            "Epoch 500: D ( JS Loss tensor(0.0756, device='cuda:0', grad_fn=<NegBackward>) ) \n",
            "Epoch 1000: D ( JS Loss tensor(0.0184, device='cuda:0', grad_fn=<NegBackward>) ) \n",
            "Epoch 1500: D ( JS Loss tensor(0.0090, device='cuda:0', grad_fn=<NegBackward>) ) \n",
            "Epoch 2000: D ( JS Loss tensor(0.0056, device='cuda:0', grad_fn=<NegBackward>) ) \n",
            "Epoch 2500: D ( JS Loss tensor(0.0040, device='cuda:0', grad_fn=<NegBackward>) ) \n"
          ],
          "name": "stdout"
        }
      ]
    },
    {
      "metadata": {
        "id": "G-PahB2-QMaF",
        "colab_type": "code",
        "outputId": "c4b12302-8aa1-4d2c-aa3f-6da90c6b8b98",
        "colab": {
          "base_uri": "https://localhost:8080/",
          "height": 2565
        }
      },
      "cell_type": "code",
      "source": [
        "#Q1.3\n",
        "wd_loss_list = []\n",
        "for i in np.linspace(-1,1,21):\n",
        "  _phi = i\n",
        "  print('_phi = %s' %_phi)\n",
        "  train_loss = train_wd(_phi)\n",
        "  wd_loss_ =  - train_loss.item() \n",
        "  wd_loss_list.append(wd_loss_)"
      ],
      "execution_count": 0,
      "outputs": [
        {
          "output_type": "stream",
          "text": [
            "_phi = -1.0\n",
            "Epoch 0: D (tensor(4.5138, device='cuda:0', grad_fn=<NegBackward>) WD Loss) \n",
            "Epoch 500: D (tensor(-1.0241, device='cuda:0', grad_fn=<NegBackward>) WD Loss) \n",
            "Epoch 1000: D (tensor(-1.0251, device='cuda:0', grad_fn=<NegBackward>) WD Loss) \n",
            "Epoch 1500: D (tensor(-1.0249, device='cuda:0', grad_fn=<NegBackward>) WD Loss) \n",
            "Epoch 2000: D (tensor(-1.0248, device='cuda:0', grad_fn=<NegBackward>) WD Loss) \n",
            "Epoch 2500: D (tensor(-1.0250, device='cuda:0', grad_fn=<NegBackward>) WD Loss) \n",
            "_phi = -0.9\n",
            "Epoch 0: D (tensor(2.5926, device='cuda:0', grad_fn=<NegBackward>) WD Loss) \n",
            "Epoch 500: D (tensor(-0.9201, device='cuda:0', grad_fn=<NegBackward>) WD Loss) \n",
            "Epoch 1000: D (tensor(-0.9206, device='cuda:0', grad_fn=<NegBackward>) WD Loss) \n",
            "Epoch 1500: D (tensor(-0.9201, device='cuda:0', grad_fn=<NegBackward>) WD Loss) \n",
            "Epoch 2000: D (tensor(-0.9201, device='cuda:0', grad_fn=<NegBackward>) WD Loss) \n",
            "Epoch 2500: D (tensor(-0.9203, device='cuda:0', grad_fn=<NegBackward>) WD Loss) \n",
            "_phi = -0.8\n",
            "Epoch 0: D (tensor(7.8213, device='cuda:0', grad_fn=<NegBackward>) WD Loss) \n",
            "Epoch 500: D (tensor(-0.8162, device='cuda:0', grad_fn=<NegBackward>) WD Loss) \n",
            "Epoch 1000: D (tensor(-0.8159, device='cuda:0', grad_fn=<NegBackward>) WD Loss) \n",
            "Epoch 1500: D (tensor(-0.8160, device='cuda:0', grad_fn=<NegBackward>) WD Loss) \n",
            "Epoch 2000: D (tensor(-0.8160, device='cuda:0', grad_fn=<NegBackward>) WD Loss) \n",
            "Epoch 2500: D (tensor(-0.8159, device='cuda:0', grad_fn=<NegBackward>) WD Loss) \n",
            "_phi = -0.7\n",
            "Epoch 0: D (tensor(8.1243, device='cuda:0', grad_fn=<NegBackward>) WD Loss) \n",
            "Epoch 500: D (tensor(-0.7123, device='cuda:0', grad_fn=<NegBackward>) WD Loss) \n",
            "Epoch 1000: D (tensor(-0.7122, device='cuda:0', grad_fn=<NegBackward>) WD Loss) \n",
            "Epoch 1500: D (tensor(-0.7122, device='cuda:0', grad_fn=<NegBackward>) WD Loss) \n",
            "Epoch 2000: D (tensor(-0.7122, device='cuda:0', grad_fn=<NegBackward>) WD Loss) \n",
            "Epoch 2500: D (tensor(-0.7122, device='cuda:0', grad_fn=<NegBackward>) WD Loss) \n",
            "_phi = -0.6\n",
            "Epoch 0: D (tensor(4.8927, device='cuda:0', grad_fn=<NegBackward>) WD Loss) \n",
            "Epoch 500: D (tensor(-0.6086, device='cuda:0', grad_fn=<NegBackward>) WD Loss) \n",
            "Epoch 1000: D (tensor(-0.6085, device='cuda:0', grad_fn=<NegBackward>) WD Loss) \n",
            "Epoch 1500: D (tensor(-0.6089, device='cuda:0', grad_fn=<NegBackward>) WD Loss) \n",
            "Epoch 2000: D (tensor(-0.6090, device='cuda:0', grad_fn=<NegBackward>) WD Loss) \n",
            "Epoch 2500: D (tensor(-0.6089, device='cuda:0', grad_fn=<NegBackward>) WD Loss) \n",
            "_phi = -0.5\n",
            "Epoch 0: D (tensor(1.6011, device='cuda:0', grad_fn=<NegBackward>) WD Loss) \n",
            "Epoch 500: D (tensor(-0.5059, device='cuda:0', grad_fn=<NegBackward>) WD Loss) \n",
            "Epoch 1000: D (tensor(-0.5062, device='cuda:0', grad_fn=<NegBackward>) WD Loss) \n",
            "Epoch 1500: D (tensor(-0.5063, device='cuda:0', grad_fn=<NegBackward>) WD Loss) \n",
            "Epoch 2000: D (tensor(-0.5062, device='cuda:0', grad_fn=<NegBackward>) WD Loss) \n",
            "Epoch 2500: D (tensor(-0.5063, device='cuda:0', grad_fn=<NegBackward>) WD Loss) \n",
            "_phi = -0.3999999999999999\n",
            "Epoch 0: D (tensor(6.7509, device='cuda:0', grad_fn=<NegBackward>) WD Loss) \n",
            "Epoch 500: D (tensor(-0.4033, device='cuda:0', grad_fn=<NegBackward>) WD Loss) \n",
            "Epoch 1000: D (tensor(-0.4040, device='cuda:0', grad_fn=<NegBackward>) WD Loss) \n",
            "Epoch 1500: D (tensor(-0.4041, device='cuda:0', grad_fn=<NegBackward>) WD Loss) \n",
            "Epoch 2000: D (tensor(-0.4040, device='cuda:0', grad_fn=<NegBackward>) WD Loss) \n",
            "Epoch 2500: D (tensor(-0.4040, device='cuda:0', grad_fn=<NegBackward>) WD Loss) \n",
            "_phi = -0.29999999999999993\n",
            "Epoch 0: D (tensor(4.8309, device='cuda:0', grad_fn=<NegBackward>) WD Loss) \n",
            "Epoch 500: D (tensor(-0.2988, device='cuda:0', grad_fn=<NegBackward>) WD Loss) \n",
            "Epoch 1000: D (tensor(-0.3022, device='cuda:0', grad_fn=<NegBackward>) WD Loss) \n",
            "Epoch 1500: D (tensor(-0.3024, device='cuda:0', grad_fn=<NegBackward>) WD Loss) \n",
            "Epoch 2000: D (tensor(-0.3023, device='cuda:0', grad_fn=<NegBackward>) WD Loss) \n",
            "Epoch 2500: D (tensor(-0.3022, device='cuda:0', grad_fn=<NegBackward>) WD Loss) \n",
            "_phi = -0.19999999999999996\n",
            "Epoch 0: D (tensor(5.0500, device='cuda:0', grad_fn=<NegBackward>) WD Loss) \n",
            "Epoch 500: D (tensor(-0.2010, device='cuda:0', grad_fn=<NegBackward>) WD Loss) \n",
            "Epoch 1000: D (tensor(-0.2007, device='cuda:0', grad_fn=<NegBackward>) WD Loss) \n",
            "Epoch 1500: D (tensor(-0.2010, device='cuda:0', grad_fn=<NegBackward>) WD Loss) \n",
            "Epoch 2000: D (tensor(-0.2010, device='cuda:0', grad_fn=<NegBackward>) WD Loss) \n",
            "Epoch 2500: D (tensor(-0.2010, device='cuda:0', grad_fn=<NegBackward>) WD Loss) \n",
            "_phi = -0.09999999999999998\n",
            "Epoch 0: D (tensor(2.4866, device='cuda:0', grad_fn=<NegBackward>) WD Loss) \n",
            "Epoch 500: D (tensor(-0.1014, device='cuda:0', grad_fn=<NegBackward>) WD Loss) \n",
            "Epoch 1000: D (tensor(-0.1034, device='cuda:0', grad_fn=<NegBackward>) WD Loss) \n",
            "Epoch 1500: D (tensor(-0.1006, device='cuda:0', grad_fn=<NegBackward>) WD Loss) \n",
            "Epoch 2000: D (tensor(-0.0993, device='cuda:0', grad_fn=<NegBackward>) WD Loss) \n",
            "Epoch 2500: D (tensor(-0.1006, device='cuda:0', grad_fn=<NegBackward>) WD Loss) \n",
            "_phi = 0.0\n",
            "Epoch 0: D (tensor(7.0133, device='cuda:0', grad_fn=<NegBackward>) WD Loss) \n",
            "Epoch 500: D (tensor(-0.0051, device='cuda:0', grad_fn=<NegBackward>) WD Loss) \n",
            "Epoch 1000: D (tensor(0.0131, device='cuda:0', grad_fn=<NegBackward>) WD Loss) \n",
            "Epoch 1500: D (tensor(0.0012, device='cuda:0', grad_fn=<NegBackward>) WD Loss) \n",
            "Epoch 2000: D (tensor(0.0360, device='cuda:0', grad_fn=<NegBackward>) WD Loss) \n",
            "Epoch 2500: D (tensor(0.0027, device='cuda:0', grad_fn=<NegBackward>) WD Loss) \n",
            "_phi = 0.10000000000000009\n",
            "Epoch 0: D (tensor(2.9443, device='cuda:0', grad_fn=<NegBackward>) WD Loss) \n",
            "Epoch 500: D (tensor(-0.1015, device='cuda:0', grad_fn=<NegBackward>) WD Loss) \n",
            "Epoch 1000: D (tensor(-0.1001, device='cuda:0', grad_fn=<NegBackward>) WD Loss) \n",
            "Epoch 1500: D (tensor(-0.0999, device='cuda:0', grad_fn=<NegBackward>) WD Loss) \n",
            "Epoch 2000: D (tensor(-0.1007, device='cuda:0', grad_fn=<NegBackward>) WD Loss) \n",
            "Epoch 2500: D (tensor(-0.1002, device='cuda:0', grad_fn=<NegBackward>) WD Loss) \n",
            "_phi = 0.20000000000000018\n",
            "Epoch 0: D (tensor(2.6255, device='cuda:0', grad_fn=<NegBackward>) WD Loss) \n",
            "Epoch 500: D (tensor(-0.1904, device='cuda:0', grad_fn=<NegBackward>) WD Loss) \n",
            "Epoch 1000: D (tensor(-0.2008, device='cuda:0', grad_fn=<NegBackward>) WD Loss) \n",
            "Epoch 1500: D (tensor(-0.2008, device='cuda:0', grad_fn=<NegBackward>) WD Loss) \n",
            "Epoch 2000: D (tensor(-0.2010, device='cuda:0', grad_fn=<NegBackward>) WD Loss) \n",
            "Epoch 2500: D (tensor(-0.2010, device='cuda:0', grad_fn=<NegBackward>) WD Loss) \n",
            "_phi = 0.30000000000000004\n",
            "Epoch 0: D (tensor(7.3392, device='cuda:0', grad_fn=<NegBackward>) WD Loss) \n",
            "Epoch 500: D (tensor(-0.3021, device='cuda:0', grad_fn=<NegBackward>) WD Loss) \n",
            "Epoch 1000: D (tensor(-0.3025, device='cuda:0', grad_fn=<NegBackward>) WD Loss) \n",
            "Epoch 1500: D (tensor(-0.3008, device='cuda:0', grad_fn=<NegBackward>) WD Loss) \n",
            "Epoch 2000: D (tensor(-0.3018, device='cuda:0', grad_fn=<NegBackward>) WD Loss) \n",
            "Epoch 2500: D (tensor(-0.3016, device='cuda:0', grad_fn=<NegBackward>) WD Loss) \n",
            "_phi = 0.40000000000000013\n",
            "Epoch 0: D (tensor(7.4825, device='cuda:0', grad_fn=<NegBackward>) WD Loss) \n",
            "Epoch 500: D (tensor(-0.4034, device='cuda:0', grad_fn=<NegBackward>) WD Loss) \n",
            "Epoch 1000: D (tensor(-0.4040, device='cuda:0', grad_fn=<NegBackward>) WD Loss) \n",
            "Epoch 1500: D (tensor(-0.4039, device='cuda:0', grad_fn=<NegBackward>) WD Loss) \n",
            "Epoch 2000: D (tensor(-0.4040, device='cuda:0', grad_fn=<NegBackward>) WD Loss) \n",
            "Epoch 2500: D (tensor(-0.4040, device='cuda:0', grad_fn=<NegBackward>) WD Loss) \n",
            "_phi = 0.5\n",
            "Epoch 0: D (tensor(8.0937, device='cuda:0', grad_fn=<NegBackward>) WD Loss) \n",
            "Epoch 500: D (tensor(-0.4971, device='cuda:0', grad_fn=<NegBackward>) WD Loss) \n",
            "Epoch 1000: D (tensor(-0.5043, device='cuda:0', grad_fn=<NegBackward>) WD Loss) \n",
            "Epoch 1500: D (tensor(-0.5055, device='cuda:0', grad_fn=<NegBackward>) WD Loss) \n",
            "Epoch 2000: D (tensor(-0.5060, device='cuda:0', grad_fn=<NegBackward>) WD Loss) \n",
            "Epoch 2500: D (tensor(-0.5060, device='cuda:0', grad_fn=<NegBackward>) WD Loss) \n",
            "_phi = 0.6000000000000001\n",
            "Epoch 0: D (tensor(9.1690, device='cuda:0', grad_fn=<NegBackward>) WD Loss) \n",
            "Epoch 500: D (tensor(-0.6090, device='cuda:0', grad_fn=<NegBackward>) WD Loss) \n",
            "Epoch 1000: D (tensor(-0.6089, device='cuda:0', grad_fn=<NegBackward>) WD Loss) \n",
            "Epoch 1500: D (tensor(-0.6091, device='cuda:0', grad_fn=<NegBackward>) WD Loss) \n",
            "Epoch 2000: D (tensor(-0.6090, device='cuda:0', grad_fn=<NegBackward>) WD Loss) \n",
            "Epoch 2500: D (tensor(-0.6090, device='cuda:0', grad_fn=<NegBackward>) WD Loss) \n",
            "_phi = 0.7000000000000002\n",
            "Epoch 0: D (tensor(3.5490, device='cuda:0', grad_fn=<NegBackward>) WD Loss) \n",
            "Epoch 500: D (tensor(-0.7123, device='cuda:0', grad_fn=<NegBackward>) WD Loss) \n",
            "Epoch 1000: D (tensor(-0.7122, device='cuda:0', grad_fn=<NegBackward>) WD Loss) \n",
            "Epoch 1500: D (tensor(-0.7123, device='cuda:0', grad_fn=<NegBackward>) WD Loss) \n",
            "Epoch 2000: D (tensor(-0.7123, device='cuda:0', grad_fn=<NegBackward>) WD Loss) \n",
            "Epoch 2500: D (tensor(-0.7122, device='cuda:0', grad_fn=<NegBackward>) WD Loss) \n",
            "_phi = 0.8\n",
            "Epoch 0: D (tensor(6.0121, device='cuda:0', grad_fn=<NegBackward>) WD Loss) \n",
            "Epoch 500: D (tensor(-0.8148, device='cuda:0', grad_fn=<NegBackward>) WD Loss) \n",
            "Epoch 1000: D (tensor(-0.8145, device='cuda:0', grad_fn=<NegBackward>) WD Loss) \n",
            "Epoch 1500: D (tensor(-0.8161, device='cuda:0', grad_fn=<NegBackward>) WD Loss) \n",
            "Epoch 2000: D (tensor(-0.8165, device='cuda:0', grad_fn=<NegBackward>) WD Loss) \n",
            "Epoch 2500: D (tensor(-0.8158, device='cuda:0', grad_fn=<NegBackward>) WD Loss) \n",
            "_phi = 0.9000000000000001\n",
            "Epoch 0: D (tensor(0.6045, device='cuda:0', grad_fn=<NegBackward>) WD Loss) \n",
            "Epoch 500: D (tensor(-0.9203, device='cuda:0', grad_fn=<NegBackward>) WD Loss) \n",
            "Epoch 1000: D (tensor(-0.9203, device='cuda:0', grad_fn=<NegBackward>) WD Loss) \n",
            "Epoch 1500: D (tensor(-0.9202, device='cuda:0', grad_fn=<NegBackward>) WD Loss) \n",
            "Epoch 2000: D (tensor(-0.9202, device='cuda:0', grad_fn=<NegBackward>) WD Loss) \n",
            "Epoch 2500: D (tensor(-0.9203, device='cuda:0', grad_fn=<NegBackward>) WD Loss) \n",
            "_phi = 1.0\n",
            "Epoch 0: D (tensor(5.7570, device='cuda:0', grad_fn=<NegBackward>) WD Loss) \n",
            "Epoch 500: D (tensor(-1.0250, device='cuda:0', grad_fn=<NegBackward>) WD Loss) \n",
            "Epoch 1000: D (tensor(-1.0253, device='cuda:0', grad_fn=<NegBackward>) WD Loss) \n",
            "Epoch 1500: D (tensor(-1.0252, device='cuda:0', grad_fn=<NegBackward>) WD Loss) \n",
            "Epoch 2000: D (tensor(-1.0252, device='cuda:0', grad_fn=<NegBackward>) WD Loss) \n",
            "Epoch 2500: D (tensor(-1.0250, device='cuda:0', grad_fn=<NegBackward>) WD Loss) \n"
          ],
          "name": "stdout"
        }
      ]
    },
    {
      "metadata": {
        "id": "va491jt3QIFl",
        "colab_type": "code",
        "outputId": "130cef66-2ce4-4288-fd10-1c144ee06609",
        "colab": {
          "base_uri": "https://localhost:8080/",
          "height": 281
        }
      },
      "cell_type": "code",
      "source": [
        "#Q1.3 Plot JS Divergence vs Wasserstein Distance\n",
        "x = np.linspace(-1,1,21)\n",
        "plt.plot(x, jsd_loss_list)\n",
        "plt.plot(x, wd_loss_list)\n",
        "plt.legend(['J-S Divergence','Wasserstein Distance'])\n",
        "plt.title('J-S Divergence vs Wasserstein Distance')\n",
        "plt.show()"
      ],
      "execution_count": 0,
      "outputs": [
        {
          "output_type": "display_data",
          "data": {
            "image/png": "[encoded data removed]",
            "text/plain": [
              "<Figure size 432x288 with 1 Axes>"
            ]
          },
          "metadata": {
            "tags": []
          }
        }
      ]
    },
    {
      "metadata": {
        "id": "UuNNGvWqouPn",
        "colab_type": "text"
      },
      "cell_type": "markdown",
      "source": [
        "### Problem 1.4"
      ]
    },
    {
      "metadata": {
        "id": "81tH9_3no8T_",
        "colab_type": "code",
        "outputId": "6e31cf0e-8768-42f7-d5c5-e17f0d8b9308",
        "colab": {
          "base_uri": "https://localhost:8080/",
          "height": 286
        }
      },
      "cell_type": "code",
      "source": [
        "from __future__ import print_function\n",
        "import numpy as np\n",
        "import torch \n",
        "import matplotlib.pyplot as plt\n",
        "\n",
        "# plot p0 and p1\n",
        "plt.figure()\n",
        "\n",
        "# empirical\n",
        "xx = torch.randn(10000)\n",
        "f = lambda x: torch.tanh(x*2+1) + x*0.75\n",
        "d = lambda x: (1-torch.tanh(x*2+1)**2)*2+0.75\n",
        "plt.hist(f(xx), 100, alpha=0.5, density=1)\n",
        "plt.hist(xx, 100, alpha=0.5, density=1)\n",
        "plt.xlim(-5,5)\n",
        "# exact\n",
        "xx = np.linspace(-5,5,1000)\n",
        "N = lambda x: np.exp(-x**2/2.)/((2*np.pi)**0.5)\n",
        "plt.plot(f(torch.from_numpy(xx)).numpy(), d(torch.from_numpy(xx)).numpy()**(-1)*N(xx))\n",
        "plt.plot(xx, N(xx))\n"
      ],
      "execution_count": 0,
      "outputs": [
        {
          "output_type": "execute_result",
          "data": {
            "text/plain": [
              "[<matplotlib.lines.Line2D at 0x7f0ec187c8d0>]"
            ]
          },
          "metadata": {
            "tags": []
          },
          "execution_count": 5
        },
        {
          "output_type": "display_data",
          "data": {
            "image/png": "[encoded data removed]",
            "text/plain": [
              "<Figure size 432x288 with 1 Axes>"
            ]
          },
          "metadata": {
            "tags": []
          }
        }
      ]
    },
    {
      "metadata": {
        "id": "dVTdlUvcpSCA",
        "colab_type": "code",
        "outputId": "0884529b-b464-46f7-a2c4-7be3f7a5c9b8",
        "colab": {
          "base_uri": "https://localhost:8080/",
          "height": 105
        }
      },
      "cell_type": "code",
      "source": [
        "############### import the sampler ``samplers.distribution4'' \n",
        "############### train a discriminator on distribution4 and standard gaussian\n",
        "############### estimate the density of distribution4\n",
        "\n",
        "#######--- INSERT YOUR CODE BELOW ---#######\n",
        "\n",
        "#Discriminator\n",
        "class Discriminator_1(nn.Module):\n",
        "  def __init__(self, input_size, hidden_size, output_size):\n",
        "    super(Discriminator_1, self).__init__()\n",
        "    self.fc1 = nn.Linear(input_size, hidden_size)\n",
        "    self.fc2 = nn.Linear(hidden_size, hidden_size)\n",
        "    self.fc3 = nn.Linear(hidden_size, output_size)\n",
        "  \n",
        "  def forward(self,x):\n",
        "    x = F.leaky_relu_(self.fc1(x), negative_slope=0.1)\n",
        "    x = F.leaky_relu_(self.fc2(x), negative_slope=0.1)\n",
        "    return  torch.sigmoid(self.fc3(x))\n",
        "  #def forward(self,x):\n",
        "  #  x = torch.sigmoid(self.fc1(x))\n",
        "  #  x = torch.sigmoid(self.fc2(x))\n",
        "  #  return  torch.sigmoid(self.fc3(x))\n",
        "\n",
        "D = Discriminator_1(input_size=1,\n",
        "                  hidden_size=10,\n",
        "                  output_size=1)\n",
        "if cuda:\n",
        "  D.cuda()\n",
        "D.apply(init_weights)\n",
        "\n",
        "d_learning_rate = 1e-3\n",
        "#sgd_momentum = 0.9\n",
        "num_epochs =  5000\n",
        "print_interval = 1000\n",
        "f0_sample, f1_sample= None, None\n",
        "d_optimizer = optim.Adam (D.parameters(), lr=d_learning_rate)#, momentum=sgd_momentum)\n",
        "\n",
        "dist_gaussian = iter(distribution3(512))\n",
        "dist_unknown = iter(distribution4(512))\n",
        "\n",
        "for epoch in range(num_epochs):\n",
        "  # Initialize grads\n",
        "  D.zero_grad()\n",
        "    \n",
        "  #Generate dist1 data\n",
        "  f0_sample = next(dist_gaussian)\n",
        "  if cuda:\n",
        "    f0_sample = torch.from_numpy(f0_sample).float().cuda()\n",
        "    f0_sample = Variable(f0_sample)\n",
        "    #print(f0_sample.shape)\n",
        "\n",
        "  #Generate dist2 data\n",
        "  f1_sample = next(dist_unknown)\n",
        "  if cuda:\n",
        "    f1_sample = torch.from_numpy(f1_sample).float().cuda()\n",
        "    f1_sample = Variable(f1_sample)\n",
        "    #print(f1_sample.shape)\n",
        "    \n",
        "  #Calculate loss\n",
        "  f0_loss = torch.mean(torch.log(1-D(f0_sample)))\n",
        "  f1_loss = torch.mean(torch.log(D(f1_sample)))\n",
        "  loss = -(f0_loss + f1_loss)\n",
        "  loss.backward()\n",
        "\n",
        "  d_optimizer.step() #  optimizes D's parameters; changes based on stored gradients from backward()\n",
        "   \n",
        "  if epoch % print_interval == 0:\n",
        "    print(\"Epoch %s: D ( Loss %0.4f ) \" %(epoch, loss.item()))"
      ],
      "execution_count": 0,
      "outputs": [
        {
          "output_type": "stream",
          "text": [
            "Epoch 0: D ( Loss 1.6499 ) \n",
            "Epoch 1000: D ( Loss 1.2092 ) \n",
            "Epoch 2000: D ( Loss 1.2121 ) \n",
            "Epoch 3000: D ( Loss 1.2405 ) \n",
            "Epoch 4000: D ( Loss 1.1934 ) \n"
          ],
          "name": "stdout"
        }
      ]
    },
    {
      "metadata": {
        "id": "59WN6Kr2vMvP",
        "colab_type": "code",
        "colab": {}
      },
      "cell_type": "code",
      "source": [
        "D.eval()\n",
        "xx = np.linspace(-5,5,1000)\n",
        "xx_tensor = torch.from_numpy(xx).float().cuda()\n",
        "xx_tensor = xx_tensor.view(1000,1)\n",
        "D_xx = D(xx_tensor)  #Output of discriminator\n"
      ],
      "execution_count": 0,
      "outputs": []
    },
    {
      "metadata": {
        "id": "CB9d78EJ4zZK",
        "colab_type": "code",
        "colab": {}
      },
      "cell_type": "code",
      "source": [
        "xx_tensor = xx_tensor.cpu()\n",
        "D_xx = D_xx.cpu()"
      ],
      "execution_count": 0,
      "outputs": []
    },
    {
      "metadata": {
        "id": "jA_rF2Sq4mny",
        "colab_type": "code",
        "outputId": "4d738015-ffe7-4d3f-b59d-9aaaedc6af5b",
        "colab": {
          "base_uri": "https://localhost:8080/",
          "height": 300
        }
      },
      "cell_type": "code",
      "source": [
        "############### plotting things\n",
        "############### (1) plot the output of your trained discriminator \n",
        "r = D_xx.detach().numpy()\n",
        "plt.figure(figsize=(8,4))\n",
        "plt.subplot(1,2,1)\n",
        "plt.plot(xx, r)\n",
        "plt.title(r'$D(x)$')"
      ],
      "execution_count": 0,
      "outputs": [
        {
          "output_type": "execute_result",
          "data": {
            "text/plain": [
              "Text(0.5, 1.0, '$D(x)$')"
            ]
          },
          "metadata": {
            "tags": []
          },
          "execution_count": 100
        },
        {
          "output_type": "display_data",
          "data": {
            "image/png": "[encoded data removed]",
            "text/plain": [
              "<Figure size 576x288 with 1 Axes>"
            ]
          },
          "metadata": {
            "tags": []
          }
        }
      ]
    },
    {
      "metadata": {
        "id": "RC5QfTOzxxdg",
        "colab_type": "code",
        "outputId": "0a75de08-0d7d-455f-dc3f-cdbe66aa55db",
        "colab": {
          "base_uri": "https://localhost:8080/",
          "height": 298
        }
      },
      "cell_type": "code",
      "source": [
        "############### (2) plot the estimated density contrasted with the true density\n",
        "estimated_f1 = N(xx_tensor) * D_xx  / (1-D_xx)\n",
        "estimate = estimated_f1.detach().numpy() \n",
        "#PLot\n",
        "#plt.subplot(1,2,2)\n",
        "plt.plot(xx, estimate)\n",
        "plt.plot(f(torch.from_numpy(xx)).numpy(), d(torch.from_numpy(xx)).numpy()**(-1)*N(xx))\n",
        "plt.legend(['Estimated','True'])\n",
        "plt.title('Estimated vs True')"
      ],
      "execution_count": 0,
      "outputs": [
        {
          "output_type": "execute_result",
          "data": {
            "text/plain": [
              "Text(0.5, 1.0, 'Estimated vs True')"
            ]
          },
          "metadata": {
            "tags": []
          },
          "execution_count": 101
        },
        {
          "output_type": "display_data",
          "data": {
            "image/png": "[encoded data removed]",
            "text/plain": [
              "<Figure size 432x288 with 1 Axes>"
            ]
          },
          "metadata": {
            "tags": []
          }
        }
      ]
    },
    {
      "metadata": {
        "id": "dOpW5kVeKE6N",
        "colab_type": "code",
        "colab": {}
      },
      "cell_type": "code",
      "source": [
        ""
      ],
      "execution_count": 0,
      "outputs": []
    }
  ]
}
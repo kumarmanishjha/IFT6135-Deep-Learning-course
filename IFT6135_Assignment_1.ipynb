{
  "nbformat": 4,
  "nbformat_minor": 0,
  "metadata": {
    "colab": {
      "name": "IFT6135_Assignment_1.ipynb",
      "provenance": []
    },
    "kernelspec": {
      "name": "python3",
      "display_name": "Python 3"
    },
    "accelerator": "GPU"
  },
  "cells": [
    {
      "cell_type": "markdown",
      "metadata": {
        "id": "p3glecRTQK9Q"
      },
      "source": [
        "# IFT 6135 - Assignment 1\n",
        "## Authors: Manish Jha, Shivendra Bhardwaj, Tapopriya Majumdar"
      ]
    },
    {
      "cell_type": "code",
      "metadata": {
        "id": "9vCSbDrmjv0j"
      },
      "source": [
        "# the code is also available at https://github.com/kumarmanishjha/6135_1"
      ],
      "execution_count": null,
      "outputs": []
    },
    {
      "cell_type": "code",
      "metadata": {
        "id": "8fZE8FyYPzRV"
      },
      "source": [
        "import numpy as np\n",
        "import matplotlib.pyplot as plt\n",
        "import gzip\n",
        "import pickle\n",
        "\n",
        "%matplotlib inline"
      ],
      "execution_count": null,
      "outputs": []
    },
    {
      "cell_type": "markdown",
      "metadata": {
        "id": "MZ-rmUYBQcLU"
      },
      "source": [
        "## Question 1\n",
        "\n",
        "Here we implement our version of the MLP. with multiple hidden layers as a class ``NN``. For the MNIST dataset, we choose a network with two hidden layers: $h^1=512$ and $h^2=1024$, so that the total number of parameters is $937482$. The method ``initialize_params`` initializes the weight and bias parameters according to the three options: ``zero``, ``normal`` or ``glorot``."
      ]
    },
    {
      "cell_type": "code",
      "metadata": {
        "id": "zcJ9UxzjPzRk"
      },
      "source": [
        "class NN:\n",
        "    \"\"\"Our implementation of a Neural Network\"\"\"\n",
        "    \n",
        "    def __init__(self, hidden_dims=(1024, 2048), n_hidden=2,\n",
        "                 mode='train', datapath=None, model_path=None):\n",
        "        \"\"\"\n",
        "        Initialize an MLP instance\n",
        "        \"\"\"\n",
        "        # input check\n",
        "        assert len(hidden_dims) == n_hidden, \"Check input data!\"\n",
        "        assert mode in ['train', 'test'], \"Check input data!\"\n",
        "        for d in hidden_dims:\n",
        "            assert isinstance(d, int) & (d > 0), \"Check input data!\"\n",
        "        self.n_hidden = n_hidden\n",
        "        if mode == 'train':\n",
        "            # load the pickled data\n",
        "            with gzip.open(datapath, 'rb') as f:\n",
        "                data = pickle.load(f, encoding='latin-1')\n",
        "            # construct the training, validation \n",
        "            # and test datasets\n",
        "            (self.X_train, self.y_train), \\\n",
        "                (self.X_valid, self.y_valid), \\\n",
        "                (self.X_test, self.y_test) = data\n",
        "\n",
        "            # store the dimensions\n",
        "            self.dims = [self.X_train.shape[1]] + list(hidden_dims) \\\n",
        "                                                + [len(set(self.y_train))]\n",
        "            self.n_classes = self.dims[-1]\n",
        "\n",
        "    def initialize_weights(self, init_method='glorot', seed=False):\n",
        "        \"\"\"\n",
        "        Intialize the weights and biases\n",
        "        according to the initialization method\n",
        "        \"\"\"\n",
        "        assert init_method in ['zero', 'normal', 'glorot'], \\\n",
        "                                                \"Check input data!\"\n",
        "        params = {}  #  dictionary to store weights and biases\n",
        "        n_params = 0  # running counter for parameters\n",
        "        if seed:  # for reproducibility\n",
        "            np.random.seed(seed)\n",
        "        if init_method == 'zero':\n",
        "            for i in range(self.n_hidden+1):\n",
        "                # zero matrices and vectors\n",
        "                W = np.zeros((self.dims[i+1], self.dims[i]))\n",
        "                b = np.zeros((self.dims[i+1], 1))\n",
        "                n_params += W.size + b.size\n",
        "                # params update\n",
        "                params.update({\"W\"+str(i+1): W, \"b\"+str(i+1): b})\n",
        "\n",
        "        elif init_method == 'normal':\n",
        "            for i in range(self.n_hidden+1):\n",
        "                # sample from normal\n",
        "                #W = np.random.normal(size=(self.dims[i+1], self.dims[i]))\n",
        "                W = np.random.randn(self.dims[i+1], self.dims[i])\n",
        "                b = np.zeros((self.dims[i+1], 1))  # zero vector\n",
        "                n_params += W.size + b.size\n",
        "                # params update\n",
        "                params.update({\"W\"+str(i+1): W, \"b\"+str(i+1): b})\n",
        "\n",
        "        elif init_method == 'glorot':\n",
        "            for i in range(self.n_hidden+1):\n",
        "                # sample from uniform [-di, di]\n",
        "                di = np.sqrt(6 /(self.dims[i] + self.dims[i+1]))\n",
        "                W = np.random.uniform(low=-di, high=di,\n",
        "                                      size=(self.dims[i+1], self.dims[i]))\n",
        "                b = np.zeros((self.dims[i+1], 1))  # zero vector\n",
        "                n_params += W.size + b.size\n",
        "                # params update\n",
        "                params.update({\"W\"+str(i+1): W, \"b\"+str(i+1): b})\n",
        "        \n",
        "        # store number of parameters as well\n",
        "        params.update({\"n_params\": n_params})\n",
        "        return params\n",
        "\n",
        "    def activation(self, z, function=\"relu\"):\n",
        "        \"\"\"Computing different activation functions\"\"\"\n",
        "        assert function in [\"relu\", \"sigmoid\", \"tanh\"], \\\n",
        "                                \"Check your activation function!\"\n",
        "            \n",
        "        if function == \"relu\":\n",
        "            return np.maximum(z, 0)\n",
        "        \n",
        "        elif function == \"sigmoid\":\n",
        "            # numerically stable\n",
        "            return np.where(z >= 0, \n",
        "                            1 / (1 + np.exp(-z)), \n",
        "                            np.exp(z) / (1 + np.exp(z)))\n",
        "        \n",
        "        elif function == \"tanh\":\n",
        "            #numerically stable\n",
        "            return np.where(z >= 0, \n",
        "                            (1 - np.exp(-2*z)) / (1 + np.exp(-2*z)), \n",
        "                            (np.exp(2*z) - 1) / (np.exp(2*z) + 1))\n",
        "\n",
        "    def softmax(self, X):\n",
        "        \"\"\"Numerically stable softmax\"\"\"\n",
        "        X_max = np.max(X, axis=0, keepdims=True)\n",
        "        exp_X = np.exp(X - X_max)\n",
        "        return exp_X / np.sum(exp_X, axis=0, keepdims=True)\n",
        "\n",
        "    def loss(self, y, y_hat):\n",
        "        \"\"\"Compute the cross-entropy loss for multiple entries\"\"\"\n",
        "        #print(min(y_hat[y, range(len(y))]), max(y_hat[y, range(len(y))]))\n",
        "        probs = y_hat[y, range(len(y))]\n",
        "        probs[probs == 0] = 1e-3\n",
        "        return -np.log(probs)\n",
        "\n",
        "    def forward(self, X, params, activation_function='relu'):\n",
        "        \"\"\"Forward propagation\"\"\"\n",
        "        cache = {}  # dictionary to store the outputs\n",
        "        # start with the data (transpose for convenience)\n",
        "        Z = X.T\n",
        "        for i in range(self.n_hidden+1):  # hidden layers\n",
        "            # retrieve the relevant parameters\n",
        "            W = params[\"W\"+str(i+1)]\n",
        "            b = params[\"b\"+str(i+1)]\n",
        "            # affine transformation & nonlinearity\n",
        "            A = np.dot(W, Z) + b  \n",
        "            if i != self.n_hidden:\n",
        "                Z = self.activation(A, function=activation_function)\n",
        "            else:\n",
        "                Z = self.softmax(A)\n",
        "            # update the cache\n",
        "            cache.update({\"A\"+str(i+1): A, \"Z\"+str(i+1): Z})\n",
        "        return cache\n",
        "\n",
        "    def backward(self, X, y, params, cache, activation_function=\"relu\"):\n",
        "        \"\"\"Backward Propagation\"\"\"\n",
        "        grads = {}  # store gradients\n",
        "        # gradient wrt the softmax function\n",
        "        eye_mat = np.zeros((self.n_classes, len(y)))\n",
        "        for j in range(len(y)):\n",
        "            eye_mat[y[j], j] = 1\n",
        "        grad_A = cache[\"Z\"+str(self.n_hidden+1)] - eye_mat\n",
        "        # update parameter gradients\n",
        "        for i in range(self.n_hidden+1, 0, -1):\n",
        "            # define Z using cases\n",
        "            Z = cache[\"Z\"+str(i-1)] if i != 1 else X.T \n",
        "            # compute gradients\n",
        "            grad_W = np.dot(grad_A, Z.T)\n",
        "            grad_b = np.sum(grad_A, axis=1, keepdims=True)\n",
        "            # put updated grads in the dictionary\n",
        "            grads.update({\"grad_W\"+str(i): grad_W, \n",
        "                          \"grad_b\"+str(i): grad_b})\n",
        "            # no need to calculate grad_A0\n",
        "            if i == 1:\n",
        "                continue\n",
        "            # derivative of the activation functions\n",
        "            A = cache[\"A\"+str(i-1)]\n",
        "            activation_derivative = \\\n",
        "                (A > 0) * 1 if activation_function == \"relu\" else \\\n",
        "                A * (1 - A) if activation_function == \"sigmoid\" else \\\n",
        "                1 - (A ** 2)  # tanh\n",
        "            # grad_A for the previous layer\n",
        "            grad_Z = np.dot(params[\"W\"+str(i)].T, grad_A)\n",
        "            grad_A =  grad_Z * activation_derivative\n",
        "\n",
        "        return grads\n",
        "\n",
        "    def update(self, y, grads, params, learning_rate=0.01):\n",
        "        \"\"\"Update the weights\"\"\"\n",
        "        # loop over the layers\n",
        "        batch_size = len(y)\n",
        "        #print('batch_size:', batch_size)\n",
        "        for i in range(1, self.n_hidden+2):\n",
        "            # get the parameters & their gradients\n",
        "            W = params[\"W\"+str(i)]\n",
        "            b = params[\"b\"+str(i)]\n",
        "            grad_W = grads[\"grad_W\"+str(i)]\n",
        "            grad_b = grads[\"grad_b\"+str(i)]\n",
        "            # update using gradient descent\n",
        "            W -= (learning_rate / batch_size) * grad_W\n",
        "            b -= (learning_rate / batch_size) * grad_b\n",
        "            # updated the parameters\n",
        "            params.update({\"W\"+str(i): W, \"b\"+str(i): b})\n",
        "\n",
        "        return params\n",
        "\n",
        "    def train(self, X, y, init_method='glorot', seed=False, learning_rate=0.01,\n",
        "              n_epochs=10, batch_size=200, activation_function=\"relu\", verbose=True):\n",
        "        \"\"\"Train the neural network\"\"\"\n",
        "        # encode the labels\n",
        "        #y = np.eye(self.n_classes)[y]\n",
        "        # initialize parms\n",
        "        params = self.initialize_weights(init_method)\n",
        "        # lists to store values for each epoch\n",
        "        avg_losses, train_accs, val_accs = [], [], []\n",
        "        # number of minibatches\n",
        "        n_minibatches = 1 + (len(y) // batch_size)\n",
        "        l = 1\n",
        "        while True:\n",
        "            # check number of epochs\n",
        "            if l > n_epochs:\n",
        "                if verbose:\n",
        "                    print(\"Maximum epochs reached. Exiting...\")\n",
        "                break\n",
        "            # loop over minibatches\n",
        "            losses = []  # losses for the current epoch\n",
        "            for i in range(n_minibatches):\n",
        "                # final batch, if exists\n",
        "                if i*batch_size >= len(y):\n",
        "                    continue\n",
        "                # set the current batch\n",
        "                X_batch = X[i*batch_size:(i+1)*batch_size]\n",
        "                y_batch = y[i*batch_size:(i+1)*batch_size]\n",
        "                # do fprop, bprop and update params\n",
        "                cache = self.forward(X_batch, params, activation_function)\n",
        "                grads = self.backward(X_batch, y_batch, params, cache, activation_function)\n",
        "                params = self.update(y_batch, grads, params, learning_rate)\n",
        "                # add the losses\n",
        "                losses.extend(self.loss(y_batch, cache[\"Z\"+str(self.n_hidden+1)]))\n",
        "            # find average loss over the epoch\n",
        "            avg_losses.append(np.mean(losses))\n",
        "            # training accuracy\n",
        "            train_acc = self.test(self.X_train, self.y_train, params, activation_function)\n",
        "            train_accs.append(train_acc)\n",
        "            # validation accuracy\n",
        "            val_acc = self.test(self.X_valid, self.y_valid, params, activation_function)\n",
        "            val_accs.append(val_acc)\n",
        "            if verbose:\n",
        "                print(\"Epoch %d/%d - loss: %0.4f - acc: %0.4f - val_acc: %0.4f\"\n",
        "                        % (l, n_epochs, avg_losses[-1], train_acc, val_acc))\n",
        "            l += 1 # increase counter\n",
        "\n",
        "        return avg_losses, train_accs, val_accs\n",
        "\n",
        "    def test(self, X, y, params, activation_function='relu'):\n",
        "        \"\"\"Test accuracy\"\"\"\n",
        "        cache = self.forward(X, params, activation_function)\n",
        "        pred = np.argmax(cache[\"Z\"+str(self.n_hidden+1)], axis=0)\n",
        "        \n",
        "        return np.sum(y == pred) / len(y)"
      ],
      "execution_count": null,
      "outputs": []
    },
    {
      "cell_type": "markdown",
      "metadata": {
        "id": "yO8CFGOoSxn5"
      },
      "source": [
        "### Check the total number of parameters"
      ]
    },
    {
      "cell_type": "code",
      "metadata": {
        "id": "xiQy2M35RBcG",
        "outputId": "c0550dc9-a1b5-437f-cead-0959adc9e528",
        "colab": {
          "base_uri": "https://localhost:8080/",
          "height": 34
        }
      },
      "source": [
        "nn = NN(datapath='mnist.pkl.gz', hidden_dims=(512, 1024))\n",
        "params = nn.initialize_weights()\n",
        "params['n_params']"
      ],
      "execution_count": null,
      "outputs": [
        {
          "output_type": "execute_result",
          "data": {
            "text/plain": [
              "937482"
            ]
          },
          "metadata": {
            "tags": []
          },
          "execution_count": 27
        }
      ]
    },
    {
      "cell_type": "markdown",
      "metadata": {
        "id": "oFOOolJWTzsh"
      },
      "source": [
        "### Different Initialization Techniques\n",
        "\n",
        "We compare results after training for $10$ epochs with different initialization methods. We notice that the ``zero`` method does not optimize at all, and ``glorot`` converges faster than ``normal``."
      ]
    },
    {
      "cell_type": "code",
      "metadata": {
        "id": "PsdckSADwJFa",
        "outputId": "2b3b396e-281b-44a1-f6cd-689095949945",
        "colab": {
          "base_uri": "https://localhost:8080/",
          "height": 204
        }
      },
      "source": [
        "nn = NN(datapath='mnist.pkl.gz', hidden_dims=(512, 768))\n",
        "glorot_losses, _, _ = nn.train(nn.X_train, nn.y_train, learning_rate=0.01, init_method='glorot', batch_size=1000)"
      ],
      "execution_count": null,
      "outputs": [
        {
          "output_type": "stream",
          "text": [
            "Epoch 1/10 - loss: 2.1815 - acc: 0.5717 - val_acc: 0.5890\n",
            "Epoch 2/10 - loss: 1.8652 - acc: 0.7138 - val_acc: 0.7308\n",
            "Epoch 3/10 - loss: 1.5412 - acc: 0.7609 - val_acc: 0.7808\n",
            "Epoch 4/10 - loss: 1.2429 - acc: 0.7943 - val_acc: 0.8167\n",
            "Epoch 5/10 - loss: 1.0160 - acc: 0.8181 - val_acc: 0.8408\n",
            "Epoch 6/10 - loss: 0.8589 - acc: 0.8343 - val_acc: 0.8554\n",
            "Epoch 7/10 - loss: 0.7504 - acc: 0.8459 - val_acc: 0.8640\n",
            "Epoch 8/10 - loss: 0.6730 - acc: 0.8541 - val_acc: 0.8724\n",
            "Epoch 9/10 - loss: 0.6156 - acc: 0.8612 - val_acc: 0.8796\n",
            "Epoch 10/10 - loss: 0.5714 - acc: 0.8667 - val_acc: 0.8849\n",
            "Maximum epochs reached. Exiting...\n"
          ],
          "name": "stdout"
        }
      ]
    },
    {
      "cell_type": "code",
      "metadata": {
        "id": "g4132Dls_i5a",
        "outputId": "1f10d58f-e283-4856-9307-3879be611c7d",
        "colab": {
          "base_uri": "https://localhost:8080/",
          "height": 204
        }
      },
      "source": [
        "normal_losses, _, _ = nn.train(nn.X_train, nn.y_train, learning_rate=0.01, init_method='normal', batch_size=1000)"
      ],
      "execution_count": null,
      "outputs": [
        {
          "output_type": "stream",
          "text": [
            "Epoch 1/10 - loss: 36.7634 - acc: 0.8603 - val_acc: 0.8652\n",
            "Epoch 2/10 - loss: 25.4217 - acc: 0.8925 - val_acc: 0.8910\n",
            "Epoch 3/10 - loss: 21.5557 - acc: 0.9071 - val_acc: 0.9011\n",
            "Epoch 4/10 - loss: 18.6824 - acc: 0.9195 - val_acc: 0.9081\n",
            "Epoch 5/10 - loss: 16.8727 - acc: 0.9261 - val_acc: 0.9107\n",
            "Epoch 6/10 - loss: 15.2261 - acc: 0.9306 - val_acc: 0.9128\n",
            "Epoch 7/10 - loss: 13.6288 - acc: 0.9366 - val_acc: 0.9141\n",
            "Epoch 8/10 - loss: 12.4310 - acc: 0.9411 - val_acc: 0.9155\n",
            "Epoch 9/10 - loss: 11.3152 - acc: 0.9456 - val_acc: 0.9179\n",
            "Epoch 10/10 - loss: 10.1651 - acc: 0.9481 - val_acc: 0.9196\n",
            "Maximum epochs reached. Exiting...\n"
          ],
          "name": "stdout"
        }
      ]
    },
    {
      "cell_type": "code",
      "metadata": {
        "id": "lNe9CQOiww04",
        "outputId": "ad35d612-b9e9-40c1-d0d0-f8484eea8fff",
        "colab": {
          "base_uri": "https://localhost:8080/",
          "height": 204
        }
      },
      "source": [
        "zero_losses, _, _ = nn.train(nn.X_train, nn.y_train, learning_rate=0.1, init_method='zero', batch_size=1000)"
      ],
      "execution_count": null,
      "outputs": [
        {
          "output_type": "stream",
          "text": [
            "Epoch 1/10 - loss: 2.3020 - acc: 0.1136 - val_acc: 0.1064\n",
            "Epoch 2/10 - loss: 2.3014 - acc: 0.1136 - val_acc: 0.1064\n",
            "Epoch 3/10 - loss: 2.3012 - acc: 0.1136 - val_acc: 0.1064\n",
            "Epoch 4/10 - loss: 2.3011 - acc: 0.1136 - val_acc: 0.1064\n",
            "Epoch 5/10 - loss: 2.3011 - acc: 0.1136 - val_acc: 0.1064\n",
            "Epoch 6/10 - loss: 2.3010 - acc: 0.1136 - val_acc: 0.1064\n",
            "Epoch 7/10 - loss: 2.3010 - acc: 0.1136 - val_acc: 0.1064\n",
            "Epoch 8/10 - loss: 2.3010 - acc: 0.1136 - val_acc: 0.1064\n",
            "Epoch 9/10 - loss: 2.3010 - acc: 0.1136 - val_acc: 0.1064\n",
            "Epoch 10/10 - loss: 2.3010 - acc: 0.1136 - val_acc: 0.1064\n",
            "Maximum epochs reached. Exiting...\n"
          ],
          "name": "stdout"
        }
      ]
    },
    {
      "cell_type": "code",
      "metadata": {
        "id": "AIb4tS-h6jQC",
        "outputId": "4f775c0f-8d27-4fe7-9bc8-c3f7c2e0942e",
        "colab": {
          "base_uri": "https://localhost:8080/",
          "height": 498
        }
      },
      "source": [
        "plt.figure(figsize=(12,8))\n",
        "plt.title('Initialization Method Comparison')\n",
        "plt.plot(range(1, 11), zero_losses, label='zero')\n",
        "plt.plot(range(1, 11), normal_losses, label='normal')\n",
        "plt.plot(range(1, 11), glorot_losses, label='glorot')\n",
        "plt.legend()\n",
        "plt.show()"
      ],
      "execution_count": null,
      "outputs": [
        {
          "output_type": "display_data",
          "data": {
            "image/png": "[encoded data removed]",
            "text/plain": [
              "<Figure size 864x576 with 1 Axes>"
            ]
          },
          "metadata": {
            "tags": []
          }
        }
      ]
    },
    {
      "cell_type": "markdown",
      "metadata": {
        "id": "bQFdp4IAS7iA"
      },
      "source": [
        "### Hyperparameter search with ``glorot`` initialization\n",
        "\n",
        "We look at a few hyperparaneter combinations, and note that ``relu`` activation with ``learning_rate=0.1`` and ``batch_size=200`` achieves more than $97\\%$ accuracy on the validation set. We also try some other combinations and see that they all achieve more than $90\\%$ validation accuracy."
      ]
    },
    {
      "cell_type": "code",
      "metadata": {
        "id": "OXx200H5PzRz",
        "outputId": "86ef1a90-12c6-4e4b-801a-f6c5862f304e",
        "colab": {
          "base_uri": "https://localhost:8080/",
          "height": 204
        }
      },
      "source": [
        "nn = NN(datapath='mnist.pkl.gz', hidden_dims=(512, 1024))\n",
        "#params = nn.initialize_weights()\n",
        "#params['n_params']\n",
        "out = nn.train(nn.X_train, nn.y_train, learning_rate=0.1, activation_function='relu', batch_size=200)"
      ],
      "execution_count": null,
      "outputs": [
        {
          "output_type": "stream",
          "text": [
            "Epoch 1/10 - loss: 0.5384 - acc: 0.8999 - val_acc: 0.9128\n",
            "Epoch 2/10 - loss: 0.2626 - acc: 0.9296 - val_acc: 0.9352\n",
            "Epoch 3/10 - loss: 0.2066 - acc: 0.9453 - val_acc: 0.9488\n",
            "Epoch 4/10 - loss: 0.1709 - acc: 0.9553 - val_acc: 0.9566\n",
            "Epoch 5/10 - loss: 0.1453 - acc: 0.9622 - val_acc: 0.9612\n",
            "Epoch 6/10 - loss: 0.1258 - acc: 0.9681 - val_acc: 0.9648\n",
            "Epoch 7/10 - loss: 0.1103 - acc: 0.9718 - val_acc: 0.9683\n",
            "Epoch 8/10 - loss: 0.0976 - acc: 0.9753 - val_acc: 0.9703\n",
            "Epoch 9/10 - loss: 0.0870 - acc: 0.9779 - val_acc: 0.9708\n",
            "Epoch 10/10 - loss: 0.0779 - acc: 0.9804 - val_acc: 0.9719\n",
            "Maximum epochs reached. Exiting...\n"
          ],
          "name": "stdout"
        }
      ]
    },
    {
      "cell_type": "code",
      "metadata": {
        "id": "VhKrIP_LKt6p",
        "outputId": "176eb06d-11c2-45ae-c36d-6cc4e05c98ed",
        "colab": {
          "base_uri": "https://localhost:8080/",
          "height": 204
        }
      },
      "source": [
        "out = nn.train(nn.X_train, nn.y_train, learning_rate=0.05, activation_function='relu', batch_size=200)"
      ],
      "execution_count": null,
      "outputs": [
        {
          "output_type": "stream",
          "text": [
            "Epoch 1/10 - loss: 0.7128 - acc: 0.8926 - val_acc: 0.9049\n",
            "Epoch 2/10 - loss: 0.3247 - acc: 0.9151 - val_acc: 0.9239\n",
            "Epoch 3/10 - loss: 0.2709 - acc: 0.9288 - val_acc: 0.9337\n",
            "Epoch 4/10 - loss: 0.2370 - acc: 0.9375 - val_acc: 0.9429\n",
            "Epoch 5/10 - loss: 0.2113 - acc: 0.9443 - val_acc: 0.9486\n",
            "Epoch 6/10 - loss: 0.1904 - acc: 0.9492 - val_acc: 0.9529\n",
            "Epoch 7/10 - loss: 0.1729 - acc: 0.9535 - val_acc: 0.9559\n",
            "Epoch 8/10 - loss: 0.1581 - acc: 0.9572 - val_acc: 0.9589\n",
            "Epoch 9/10 - loss: 0.1453 - acc: 0.9604 - val_acc: 0.9610\n",
            "Epoch 10/10 - loss: 0.1342 - acc: 0.9634 - val_acc: 0.9637\n",
            "Maximum epochs reached. Exiting...\n"
          ],
          "name": "stdout"
        }
      ]
    },
    {
      "cell_type": "code",
      "metadata": {
        "id": "2Tm_ox3KLrDu",
        "outputId": "505ff082-e506-443b-ebc7-bcf4beee9ceb",
        "colab": {
          "base_uri": "https://localhost:8080/",
          "height": 204
        }
      },
      "source": [
        "out = nn.train(nn.X_train, nn.y_train, learning_rate=0.01, activation_function='tanh', batch_size=200)"
      ],
      "execution_count": null,
      "outputs": [
        {
          "output_type": "stream",
          "text": [
            "Epoch 1/10 - loss: 1.0775 - acc: 0.8489 - val_acc: 0.8684\n",
            "Epoch 2/10 - loss: 0.5411 - acc: 0.8750 - val_acc: 0.8885\n",
            "Epoch 3/10 - loss: 0.4447 - acc: 0.8862 - val_acc: 0.8995\n",
            "Epoch 4/10 - loss: 0.4008 - acc: 0.8933 - val_acc: 0.9053\n",
            "Epoch 5/10 - loss: 0.3745 - acc: 0.8987 - val_acc: 0.9086\n",
            "Epoch 6/10 - loss: 0.3564 - acc: 0.9021 - val_acc: 0.9129\n",
            "Epoch 7/10 - loss: 0.3428 - acc: 0.9050 - val_acc: 0.9144\n",
            "Epoch 8/10 - loss: 0.3320 - acc: 0.9077 - val_acc: 0.9167\n",
            "Epoch 9/10 - loss: 0.3230 - acc: 0.9097 - val_acc: 0.9178\n",
            "Epoch 10/10 - loss: 0.3152 - acc: 0.9115 - val_acc: 0.9189\n",
            "Maximum epochs reached. Exiting...\n"
          ],
          "name": "stdout"
        }
      ]
    },
    {
      "cell_type": "code",
      "metadata": {
        "id": "ylJlS_g_OgF2",
        "outputId": "f6badd79-78e0-4d85-983a-5ce33296ce14",
        "colab": {
          "base_uri": "https://localhost:8080/",
          "height": 204
        }
      },
      "source": [
        "out = nn.train(nn.X_train, nn.y_train, learning_rate=0.1, activation_function='relu', batch_size=400)"
      ],
      "execution_count": null,
      "outputs": [
        {
          "output_type": "stream",
          "text": [
            "Epoch 1/10 - loss: 0.7303 - acc: 0.8899 - val_acc: 0.9047\n",
            "Epoch 2/10 - loss: 0.3289 - acc: 0.9143 - val_acc: 0.9233\n",
            "Epoch 3/10 - loss: 0.2717 - acc: 0.9296 - val_acc: 0.9356\n",
            "Epoch 4/10 - loss: 0.2360 - acc: 0.9390 - val_acc: 0.9441\n",
            "Epoch 5/10 - loss: 0.2092 - acc: 0.9460 - val_acc: 0.9500\n",
            "Epoch 6/10 - loss: 0.1879 - acc: 0.9510 - val_acc: 0.9540\n",
            "Epoch 7/10 - loss: 0.1703 - acc: 0.9550 - val_acc: 0.9574\n",
            "Epoch 8/10 - loss: 0.1555 - acc: 0.9590 - val_acc: 0.9599\n",
            "Epoch 9/10 - loss: 0.1428 - acc: 0.9625 - val_acc: 0.9631\n",
            "Epoch 10/10 - loss: 0.1319 - acc: 0.9653 - val_acc: 0.9650\n",
            "Maximum epochs reached. Exiting...\n"
          ],
          "name": "stdout"
        }
      ]
    },
    {
      "cell_type": "code",
      "metadata": {
        "id": "Aci12wJKdCEm",
        "outputId": "84303853-0e34-4a3b-e156-2e0b04d5f25c",
        "colab": {
          "base_uri": "https://localhost:8080/",
          "height": 204
        }
      },
      "source": [
        "out = nn.train(nn.X_train, nn.y_train, learning_rate=0.01, activation_function='tanh', batch_size=400)"
      ],
      "execution_count": null,
      "outputs": [
        {
          "output_type": "stream",
          "text": [
            "Epoch 1/10 - loss: 1.3997 - acc: 0.8100 - val_acc: 0.8367\n",
            "Epoch 2/10 - loss: 0.7443 - acc: 0.8484 - val_acc: 0.8697\n",
            "Epoch 3/10 - loss: 0.5800 - acc: 0.8649 - val_acc: 0.8816\n",
            "Epoch 4/10 - loss: 0.5045 - acc: 0.8741 - val_acc: 0.8884\n",
            "Epoch 5/10 - loss: 0.4602 - acc: 0.8803 - val_acc: 0.8945\n",
            "Epoch 6/10 - loss: 0.4307 - acc: 0.8857 - val_acc: 0.8989\n",
            "Epoch 7/10 - loss: 0.4094 - acc: 0.8896 - val_acc: 0.9006\n",
            "Epoch 8/10 - loss: 0.3931 - acc: 0.8929 - val_acc: 0.9016\n",
            "Epoch 9/10 - loss: 0.3801 - acc: 0.8956 - val_acc: 0.9045\n",
            "Epoch 10/10 - loss: 0.3695 - acc: 0.8979 - val_acc: 0.9056\n",
            "Maximum epochs reached. Exiting...\n"
          ],
          "name": "stdout"
        }
      ]
    },
    {
      "cell_type": "markdown",
      "metadata": {
        "id": "Du-VWHYtXTsx"
      },
      "source": [
        "### Validate gradients with finite gradient check\n",
        "\n",
        "We compute finite difference gradients and check how well they approximate the gradients for a random data point. From the plot, we check see that our finite difference gradients are pretty good approximations."
      ]
    },
    {
      "cell_type": "code",
      "metadata": {
        "id": "spvi8Bl4ZsLv",
        "outputId": "79f8dcce-5486-4399-cc19-5e1151b4c8dc",
        "colab": {
          "base_uri": "https://localhost:8080/",
          "height": 34
        }
      },
      "source": [
        "np.random.choice([k*10**i for i in range(6) for k in [1,5]],\n",
        "                      5, replace=False)"
      ],
      "execution_count": null,
      "outputs": [
        {
          "output_type": "execute_result",
          "data": {
            "text/plain": [
              "array([  1000, 500000,     50,  50000,  10000])"
            ]
          },
          "metadata": {
            "tags": []
          },
          "execution_count": 37
        }
      ]
    },
    {
      "cell_type": "code",
      "metadata": {
        "id": "Og9qD-H-TVvz"
      },
      "source": [
        "# load the model\n",
        "nn = NN(datapath='mnist.pkl.gz', hidden_dims=(512, 768))\n",
        "# values of N\n",
        "Ns = sorted(np.random.choice([k*10**i for i in range(6) for k in [1,5]], 5, replace=False))\n",
        "# obtain one random datapoint\n",
        "np.random.seed(0)\n",
        "i = np.random.randint(0, nn.X_train.shape[0])\n",
        "X, y = nn.X_train[i:(i+1)], nn.y_train[i:(i+1)]\n",
        "# compute forward and backward prop and the gradient\n",
        "params = nn.initialize_weights()\n",
        "cache = nn.forward(X, params)\n",
        "grads = nn.backward(X, y, params, cache)\n",
        "# take the first 10 parameters \n",
        "grad_theta = grads['grad_W2'][:10, 0]\n",
        "differences = []\n",
        "for N in Ns:\n",
        "    eps = 1 / N\n",
        "    grad_diff = np.zeros(10)\n",
        "    for i in range(10):\n",
        "        # compute finite difference\n",
        "        params['W2'][i, 0] += eps\n",
        "        cache = nn.forward(X, params)\n",
        "        # add epsilon \n",
        "        l_pos = nn.loss(y, cache[\"Z\"+str(nn.n_hidden+1)])\n",
        "        # subtract epsilon\n",
        "        params['W2'][i, 0] -= 2 * eps\n",
        "        cache = nn.forward(X, params)\n",
        "        l_neg = nn.loss(y, cache[\"Z\"+str(nn.n_hidden+1)])\n",
        "        # reset value\n",
        "        params['W2'][i, 0] += eps\n",
        "        # Finite Diff\n",
        "        grad_diff[i] = (l_pos - l_neg) / (2 * eps)\n",
        "    differences.append(np.max(np.abs(grad_theta - grad_diff)))"
      ],
      "execution_count": null,
      "outputs": []
    },
    {
      "cell_type": "code",
      "metadata": {
        "id": "i_W6s0gnfgp-",
        "outputId": "06e2a094-7df8-4d31-d17c-0d9e125f24b0",
        "colab": {
          "base_uri": "https://localhost:8080/",
          "height": 119
        }
      },
      "source": [
        "Ns, differences"
      ],
      "execution_count": null,
      "outputs": [
        {
          "output_type": "execute_result",
          "data": {
            "text/plain": [
              "([10, 50, 5000, 50000, 500000],\n",
              " [0.01071417955257601,\n",
              "  1.252289438813392e-09,\n",
              "  9.091642369507547e-13,\n",
              "  1.473225361148245e-11,\n",
              "  1.1899492242256615e-10])"
            ]
          },
          "metadata": {
            "tags": []
          },
          "execution_count": 50
        }
      ]
    },
    {
      "cell_type": "code",
      "metadata": {
        "id": "QkayFCOhfviZ",
        "outputId": "eb94b956-2c16-43fe-fcda-46cd327c60db",
        "colab": {
          "base_uri": "https://localhost:8080/",
          "height": 294
        }
      },
      "source": [
        "plt.plot(range(5), differences, 'k.', markersize=20)\n",
        "plt.xlabel('N')\n",
        "plt.ylabel('Difference')\n",
        "plt.xticks([])\n",
        "plt.title('Gradient Difference')"
      ],
      "execution_count": null,
      "outputs": [
        {
          "output_type": "execute_result",
          "data": {
            "text/plain": [
              "Text(0.5, 1.0, 'Gradient Difference')"
            ]
          },
          "metadata": {
            "tags": []
          },
          "execution_count": 65
        },
        {
          "output_type": "display_data",
          "data": {
            "image/png": "[encoded data removed]",
            "text/plain": [
              "<Figure size 432x288 with 1 Axes>"
            ]
          },
          "metadata": {
            "tags": []
          }
        }
      ]
    }
  ]
}
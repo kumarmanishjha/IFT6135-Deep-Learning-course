{
  "nbformat": 4,
  "nbformat_minor": 0,
  "metadata": {
    "colab": {
      "name": "2.cnn_mnist.ipynb",
      "version": "0.3.2",
      "provenance": [],
      "collapsed_sections": []
    },
    "kernelspec": {
      "name": "python3",
      "display_name": "Python 3"
    },
    "accelerator": "GPU"
  },
  "cells": [
    {
      "metadata": {
        "id": "bvGqE6eSOMem",
        "colab_type": "code",
        "colab": {}
      },
      "cell_type": "code",
      "source": [
        "import time\n",
        "import numpy as np\n",
        "from __future__ import print_function"
      ],
      "execution_count": 0,
      "outputs": []
    },
    {
      "metadata": {
        "id": "IIEAftGwPV3S",
        "colab_type": "code",
        "colab": {}
      },
      "cell_type": "code",
      "source": [
        "import torch\n",
        "import torch.nn as nn\n",
        "import torch.optim as optim\n",
        "import torch.nn.init as init\n",
        "import torch.nn.functional as F\n",
        "from torch.autograd import Variable\n",
        "from torchsummary import summary"
      ],
      "execution_count": 0,
      "outputs": []
    },
    {
      "metadata": {
        "id": "qWoXJr8IPhva",
        "colab_type": "code",
        "colab": {}
      },
      "cell_type": "code",
      "source": [
        "import torchvision\n",
        "import torchvision.transforms"
      ],
      "execution_count": 0,
      "outputs": []
    },
    {
      "metadata": {
        "id": "g7ZaSDiNPnVK",
        "colab_type": "code",
        "colab": {}
      },
      "cell_type": "code",
      "source": [
        "import matplotlib.pyplot as plt"
      ],
      "execution_count": 0,
      "outputs": []
    },
    {
      "metadata": {
        "id": "8Q5vEZRtPwAY",
        "colab_type": "text"
      },
      "cell_type": "markdown",
      "source": [
        "#Define image transformations and initialize datasets"
      ]
    },
    {
      "metadata": {
        "id": "OSzNLJuOPpyK",
        "colab_type": "code",
        "colab": {}
      },
      "cell_type": "code",
      "source": [
        "mnist_transforms =  torchvision.transforms.Compose([torchvision.transforms.ToTensor()])\n",
        "mnist_train = torchvision.datasets.MNIST(root = './data', train = True, transform = mnist_transforms, download = True)\n",
        "mnist_test = torchvision.datasets.MNIST(root = './data', train = False, transform = mnist_transforms, download = True)"
      ],
      "execution_count": 0,
      "outputs": []
    },
    {
      "metadata": {
        "id": "mNjxBo_QQe8c",
        "colab_type": "text"
      },
      "cell_type": "markdown",
      "source": [
        "#Create multi threaded dataloaders (Multi processor iterators over dataset given batch_size)"
      ]
    },
    {
      "metadata": {
        "id": "dpLhgrRnQZ_u",
        "colab_type": "code",
        "colab": {}
      },
      "cell_type": "code",
      "source": [
        "trainloader = torch.utils.data.DataLoader(mnist_train, batch_size=64, shuffle=True, num_workers = 2)\n",
        "testloader = torch.utils.data.DataLoader(mnist_test, batch_size =64, shuffle = True, num_workers = 2)"
      ],
      "execution_count": 0,
      "outputs": []
    },
    {
      "metadata": {
        "id": "DX1SwdRJRXcW",
        "colab_type": "text"
      },
      "cell_type": "markdown",
      "source": [
        "#Classifier"
      ]
    },
    {
      "metadata": {
        "id": "f8C5TKa9RTDJ",
        "colab_type": "code",
        "colab": {}
      },
      "cell_type": "code",
      "source": [
        "class Classifier(nn.Module):\n",
        "    \"\"\"Convnet Classifier\"\"\"\n",
        "    def __init__(self):\n",
        "        super(Classifier, self).__init__()\n",
        "        self.conv = nn.Sequential(\n",
        "            # Layer 1\n",
        "            nn.Conv2d(in_channels=1, out_channels=16, kernel_size=(3, 3), padding=2),\n",
        "            #nn.Dropout(p=0.5),\n",
        "            nn.ReLU(),\n",
        "            nn.MaxPool2d(kernel_size=(2, 2), stride=2),\n",
        "            \n",
        "            # Layer 2\n",
        "            nn.Conv2d(in_channels=16, out_channels=32, kernel_size=(3, 3), padding=2),\n",
        "            #nn.Dropout(p=0.5),\n",
        "            nn.ReLU(),\n",
        "            nn.MaxPool2d(kernel_size=(2, 2), stride=2),\n",
        "            \n",
        "            # Layer 3\n",
        "            nn.Conv2d(in_channels=32, out_channels=64, kernel_size=(3, 3), padding=1),\n",
        "            #nn.Dropout(p=0.5),\n",
        "            nn.ReLU(),\n",
        "            nn.MaxPool2d(kernel_size=(2, 2), stride=2),\n",
        "            \n",
        "            # Layer 4\n",
        "            nn.Conv2d(in_channels=64, out_channels=128, kernel_size=(3, 3), padding=1),\n",
        "            #nn.Dropout(p=0.5),\n",
        "            nn.ReLU(),\n",
        "            nn.MaxPool2d(kernel_size=(2, 2), stride=2),\n",
        "            \n",
        "            # Layer 4\n",
        "            nn.Conv2d(in_channels=128, out_channels=256, kernel_size=(3, 3), padding=1),\n",
        "            #nn.Dropout(p=0.5),\n",
        "            nn.ReLU(),\n",
        "            nn.MaxPool2d(kernel_size=(2, 2), stride=2)\n",
        "        )\n",
        "        # Logistic Regression\n",
        "        self.clf = nn.Linear(256, 10)\n",
        "\n",
        "    def forward(self, x):\n",
        "        return self.clf(self.conv(x).squeeze())"
      ],
      "execution_count": 0,
      "outputs": []
    },
    {
      "metadata": {
        "id": "Wc5YF1-rWM4p",
        "colab_type": "code",
        "colab": {}
      },
      "cell_type": "code",
      "source": [
        "clf = Classifier()\n",
        "if  torch.cuda.is_available():\n",
        "    clf = clf.cuda()\n",
        "optimizer = torch.optim.Adam(clf.parameters(), lr=1e-4)\n",
        "criterion = nn.CrossEntropyLoss()"
      ],
      "execution_count": 0,
      "outputs": []
    },
    {
      "metadata": {
        "id": "1xQrJ1IqIrR5",
        "colab_type": "text"
      },
      "cell_type": "markdown",
      "source": [
        "# Count number of parameters:\n"
      ]
    },
    {
      "metadata": {
        "id": "ymHxjmPMAJi2",
        "colab_type": "code",
        "colab": {}
      },
      "cell_type": "code",
      "source": [
        "def count_parameters(model):\n",
        "    return sum(p.numel() for p in model.parameters() if p.requires_grad)"
      ],
      "execution_count": 0,
      "outputs": []
    },
    {
      "metadata": {
        "id": "l35a9PO7BDyR",
        "colab_type": "code",
        "outputId": "97301e1c-6c5f-4d75-b49c-2b8cbbd89125",
        "colab": {
          "base_uri": "https://localhost:8080/",
          "height": 34
        }
      },
      "cell_type": "code",
      "source": [
        "count_parameters(clf)"
      ],
      "execution_count": 0,
      "outputs": [
        {
          "output_type": "execute_result",
          "data": {
            "text/plain": [
              "394890"
            ]
          },
          "metadata": {
            "tags": []
          },
          "execution_count": 10
        }
      ]
    },
    {
      "metadata": {
        "id": "1n592cWVGBME",
        "colab_type": "code",
        "outputId": "8192311a-5500-47ae-b853-67e6c4a79ed8",
        "colab": {
          "base_uri": "https://localhost:8080/",
          "height": 588
        }
      },
      "cell_type": "code",
      "source": [
        "from torchsummary import summary\n",
        "summary(clf, (1, 28, 28))\n"
      ],
      "execution_count": 0,
      "outputs": [
        {
          "output_type": "stream",
          "text": [
            "----------------------------------------------------------------\n",
            "        Layer (type)               Output Shape         Param #\n",
            "================================================================\n",
            "            Conv2d-1           [-1, 16, 30, 30]             160\n",
            "           Dropout-2           [-1, 16, 30, 30]               0\n",
            "              ReLU-3           [-1, 16, 30, 30]               0\n",
            "         MaxPool2d-4           [-1, 16, 15, 15]               0\n",
            "            Conv2d-5           [-1, 32, 17, 17]           4,640\n",
            "           Dropout-6           [-1, 32, 17, 17]               0\n",
            "              ReLU-7           [-1, 32, 17, 17]               0\n",
            "         MaxPool2d-8             [-1, 32, 8, 8]               0\n",
            "            Conv2d-9             [-1, 64, 8, 8]          18,496\n",
            "          Dropout-10             [-1, 64, 8, 8]               0\n",
            "             ReLU-11             [-1, 64, 8, 8]               0\n",
            "        MaxPool2d-12             [-1, 64, 4, 4]               0\n",
            "           Conv2d-13            [-1, 128, 4, 4]          73,856\n",
            "          Dropout-14            [-1, 128, 4, 4]               0\n",
            "             ReLU-15            [-1, 128, 4, 4]               0\n",
            "        MaxPool2d-16            [-1, 128, 2, 2]               0\n",
            "           Conv2d-17            [-1, 256, 2, 2]         295,168\n",
            "          Dropout-18            [-1, 256, 2, 2]               0\n",
            "             ReLU-19            [-1, 256, 2, 2]               0\n",
            "        MaxPool2d-20            [-1, 256, 1, 1]               0\n",
            "           Linear-21                   [-1, 10]           2,570\n",
            "================================================================\n",
            "Total params: 394,890\n",
            "Trainable params: 394,890\n",
            "Non-trainable params: 0\n",
            "----------------------------------------------------------------\n",
            "Input size (MB): 0.00\n",
            "Forward/backward pass size (MB): 0.76\n",
            "Params size (MB): 1.51\n",
            "Estimated Total Size (MB): 2.27\n",
            "----------------------------------------------------------------\n"
          ],
          "name": "stdout"
        }
      ]
    },
    {
      "metadata": {
        "id": "m2IlU8Q7WgoC",
        "colab_type": "code",
        "outputId": "5727efc5-be7e-4318-e873-4afcb8b8e23e",
        "colab": {
          "base_uri": "https://localhost:8080/",
          "height": 538
        }
      },
      "cell_type": "code",
      "source": [
        "ls_train = []\n",
        "err_train = []\n",
        "err_val = []\n",
        "ls_val = []\n",
        "\n",
        "for epoch in range(10):\n",
        "    losses_train = []    \n",
        "    total_train = 0\n",
        "    correct_train =0\n",
        "    \n",
        "\n",
        "    # Train\n",
        "    for batch_idx, (inputs, targets) in enumerate(trainloader):\n",
        "        if torch.cuda.is_available():\n",
        "            inputs, targets = inputs.cuda(), targets.cuda()\n",
        "\n",
        "        optimizer.zero_grad()\n",
        "        inputs, targets = Variable(inputs), Variable(targets)\n",
        "        outputs = clf(inputs)\n",
        "        loss_train = criterion(outputs, targets)\n",
        "        loss_train.backward()\n",
        "        optimizer.step()\n",
        "        _, predicted_train = torch.max(outputs.data, 1)\n",
        "        total_train += targets.size(0)\n",
        "        correct_train += predicted_train.eq(targets.data).cpu().sum()\n",
        "        losses_train.append(loss_train.data)\n",
        "\n",
        "    print('Epoch : %d  Train Acc : %.3f Loss : %.3f ' % (epoch,100.0*correct_train.item()/total_train, torch.mean(torch.stack(losses_train))))\n",
        "    ls_train.append(np.mean(torch.stack(losses_train).cpu().numpy()))\n",
        "    err_train.append(1.0 - correct_train.item()/total_train)\n",
        "    \n",
        "    # Evaluate\n",
        "    losses_val = []\n",
        "    clf.eval()\n",
        "    total = 0\n",
        "    correct = 0\n",
        "    for batch_idx, (inputs, targets) in enumerate(testloader):\n",
        "        if torch.cuda.is_available():\n",
        "            inputs, targets = inputs.cuda(), targets.cuda()\n",
        "\n",
        "        inputs, targets = Variable(inputs, volatile=True), Variable(targets, volatile=True)\n",
        "        outputs = clf(inputs)\n",
        "        _, predicted = torch.max(outputs.data, 1)\n",
        "        total += targets.size(0)\n",
        "        correct += predicted.eq(targets.data).cpu().sum()\n",
        "        loss_val = criterion(outputs, targets)\n",
        "        losses_val.append(loss_val.data)\n",
        "        \n",
        "\n",
        "    print('Epoch : %d Test Acc : %.3f Test loss : %.3f' % (epoch, 100.0*correct.item()/total, torch.mean(torch.stack(losses_val)) ))\n",
        "    ls_val.append(np.mean(torch.stack(losses_val).cpu().numpy()))\n",
        "    err_val.append(1.0 - correct.item()/total)\n",
        "    print('--------------------------------------------------------------')"
      ],
      "execution_count": 0,
      "outputs": [
        {
          "output_type": "stream",
          "text": [
            "Epoch : 0  Train Acc : 60.507 Loss : 1.130 \n"
          ],
          "name": "stdout"
        },
        {
          "output_type": "stream",
          "text": [
            "/usr/local/lib/python3.6/dist-packages/ipykernel_launcher.py:41: UserWarning: volatile was removed and now has no effect. Use `with torch.no_grad():` instead.\n"
          ],
          "name": "stderr"
        },
        {
          "output_type": "stream",
          "text": [
            "Epoch : 0 Test Acc : 92.040 Test loss : 1.528\n",
            "--------------------------------------------------------------\n",
            "Epoch : 1  Train Acc : 92.558 Loss : 0.347 \n",
            "Epoch : 1 Test Acc : 95.320 Test loss : 0.160\n",
            "--------------------------------------------------------------\n",
            "Epoch : 2  Train Acc : 95.718 Loss : 0.143 \n",
            "Epoch : 2 Test Acc : 95.600 Test loss : 0.136\n",
            "--------------------------------------------------------------\n",
            "Epoch : 3  Train Acc : 96.753 Loss : 0.105 \n",
            "Epoch : 3 Test Acc : 97.380 Test loss : 0.082\n",
            "--------------------------------------------------------------\n",
            "Epoch : 4  Train Acc : 97.358 Loss : 0.085 \n",
            "Epoch : 4 Test Acc : 97.860 Test loss : 0.065\n",
            "--------------------------------------------------------------\n",
            "Epoch : 5  Train Acc : 97.665 Loss : 0.073 \n",
            "Epoch : 5 Test Acc : 97.970 Test loss : 0.058\n",
            "--------------------------------------------------------------\n",
            "Epoch : 6  Train Acc : 98.045 Loss : 0.062 \n",
            "Epoch : 6 Test Acc : 98.410 Test loss : 0.046\n",
            "--------------------------------------------------------------\n",
            "Epoch : 7  Train Acc : 98.285 Loss : 0.055 \n",
            "Epoch : 7 Test Acc : 98.560 Test loss : 0.044\n",
            "--------------------------------------------------------------\n",
            "Epoch : 8  Train Acc : 98.475 Loss : 0.048 \n",
            "Epoch : 8 Test Acc : 98.260 Test loss : 0.052\n",
            "--------------------------------------------------------------\n",
            "Epoch : 9  Train Acc : 98.642 Loss : 0.044 \n",
            "Epoch : 9 Test Acc : 98.560 Test loss : 0.044\n",
            "--------------------------------------------------------------\n"
          ],
          "name": "stdout"
        }
      ]
    },
    {
      "metadata": {
        "id": "xO4Hqq7GJ-mo",
        "colab_type": "code",
        "outputId": "a9aa6172-5dd2-4224-972c-c3a0e5617cd4",
        "colab": {
          "base_uri": "https://localhost:8080/",
          "height": 393
        }
      },
      "cell_type": "code",
      "source": [
        "import matplotlib.pyplot as plt\n",
        "import numpy as np\n",
        "import pylab \n",
        "\n",
        "plt.title('Training and Validation Error')\n",
        "plt.xlabel('Number of Epochs')\n",
        "pylab.plot(err_val , label = 'Error on Validation')\n",
        "pylab.plot(err_train , label = 'Error on Train')\n",
        "pylab.legend(loc='upper right')"
      ],
      "execution_count": 0,
      "outputs": [
        {
          "output_type": "execute_result",
          "data": {
            "text/plain": [
              "<matplotlib.legend.Legend at 0x7fd518b66ef0>"
            ]
          },
          "metadata": {
            "tags": []
          },
          "execution_count": 16
        },
        {
          "output_type": "display_data",
          "data": {
            "image/png": "[encoded data removed]",
            "text/plain": [
              "<Figure size 576x396 with 1 Axes>"
            ]
          },
          "metadata": {
            "tags": []
          }
        }
      ]
    },
    {
      "metadata": {
        "id": "Arl42iVjW8MD",
        "colab_type": "code",
        "outputId": "8e72fd52-6c1d-4cbd-ea00-e6088df4a8ab",
        "colab": {
          "base_uri": "https://localhost:8080/",
          "height": 393
        }
      },
      "cell_type": "code",
      "source": [
        "plt.title('Training and Validation Loss')\n",
        "plt.xlabel('Number of Epochs')\n",
        "pylab.plot(ls_val , label = 'Loss on Validation')\n",
        "pylab.plot(ls_train , label = 'Loss on Train')\n",
        "pylab.legend(loc='upper right')"
      ],
      "execution_count": 0,
      "outputs": [
        {
          "output_type": "execute_result",
          "data": {
            "text/plain": [
              "<matplotlib.legend.Legend at 0x7fd5169a4c18>"
            ]
          },
          "metadata": {
            "tags": []
          },
          "execution_count": 17
        },
        {
          "output_type": "display_data",
          "data": {
            "image/png": "[encoded data removed]",
            "text/plain": [
              "<Figure size 576x396 with 1 Axes>"
            ]
          },
          "metadata": {
            "tags": []
          }
        }
      ]
    }
  ]
}
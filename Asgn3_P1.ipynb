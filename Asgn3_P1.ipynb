{
  "nbformat": 4,
  "nbformat_minor": 0,
  "metadata": {
    "colab": {
      "name": "Asgn3_P1.ipynb",
      "provenance": [],
      "collapsed_sections": []
    },
    "kernelspec": {
      "name": "python3",
      "display_name": "Python 3"
    },
    "accelerator": "GPU"
  },
  "cells": [
    {
      "cell_type": "code",
      "metadata": {
        "id": "xuEuG7pXFKyc"
      },
      "source": [
        "def distribution1(x, batch_size=512):\n",
        "    # Distribution defined as (x, U(0,1)). Can be used for question 3\n",
        "    while True:\n",
        "        yield(np.array([(x, random.uniform(0, 1)) for _ in range(batch_size)]))\n",
        "\n",
        "\n",
        "def distribution2(batch_size=512):\n",
        "    # High dimension uniform distribution\n",
        "    while True:\n",
        "        yield(np.random.uniform(0, 1, (batch_size, 2)))\n",
        "\n",
        "\n",
        "def distribution3(batch_size=512):\n",
        "    # 1D gaussian distribution\n",
        "    while True:\n",
        "        yield(np.random.normal(0, 1, (batch_size, 1)))\n",
        "\n",
        "e = lambda x: np.exp(x)\n",
        "tanh = lambda x: (e(x) - e(-x)) / (e(x)+e(-x))\n",
        "def distribution4(batch_size=1):\n",
        "    # arbitrary sampler\n",
        "    f = lambda x: tanh(x*2+1) + x*0.75\n",
        "    while True:\n",
        "        yield(f(np.random.normal(0, 1, (batch_size, 1))))"
      ],
      "execution_count": null,
      "outputs": []
    },
    {
      "cell_type": "code",
      "metadata": {
        "id": "mPP-ItBJzmuH"
      },
      "source": [
        "import numpy as np\n",
        "import torch\n",
        "import torch.nn as nn\n",
        "import torch.nn.functional as F\n",
        "import torch.optim as optim\n",
        "import matplotlib as mpl\n",
        "import matplotlib.pyplot as plt\n",
        "import random\n",
        "import math\n",
        "from torch.autograd import Variable,grad"
      ],
      "execution_count": null,
      "outputs": []
    },
    {
      "cell_type": "code",
      "metadata": {
        "id": "mJdDDXK6EUGR"
      },
      "source": [
        "cuda = True if torch.cuda.is_available() else False\n",
        "device = torch.device(\"cuda\" if torch.cuda.is_available() else \"cpu\")"
      ],
      "execution_count": null,
      "outputs": []
    },
    {
      "cell_type": "code",
      "metadata": {
        "id": "85bhLfHNEdvC"
      },
      "source": [
        "#To initialize weights of network\n",
        "def init_weights(m):\n",
        "    if type(m) == nn.Linear:\n",
        "        nn.init.xavier_uniform_(m.weight)\n",
        "        m.bias.data.fill_(0.0)"
      ],
      "execution_count": null,
      "outputs": []
    },
    {
      "cell_type": "markdown",
      "metadata": {
        "id": "N7WGY2oMgq7N"
      },
      "source": [
        "###Problem 1.1"
      ]
    },
    {
      "cell_type": "code",
      "metadata": {
        "id": "fO5j7D-2KCEg"
      },
      "source": [
        "#Discriminator for Q1.1\n",
        "class Discriminator(nn.Module):\n",
        "  def __init__(self, input_size, hidden_size, output_size):\n",
        "    super(Discriminator, self).__init__()\n",
        "    self.fc1 = nn.Linear(input_size, hidden_size)\n",
        "    self.fc2 = nn.Linear(hidden_size, hidden_size)\n",
        "    self.fc3 = nn.Linear(hidden_size, output_size)\n",
        "  \n",
        "  def forward(self,x):\n",
        "    x = F.relu(self.fc1(x))\n",
        "    x = F.relu(self.fc2(x))\n",
        "    return torch.sigmoid_(self.fc3(x))"
      ],
      "execution_count": null,
      "outputs": []
    },
    {
      "cell_type": "code",
      "metadata": {
        "id": "kVAJ9zfKAKcK"
      },
      "source": [
        "#Q1.1 : Loss function to estimate JS Divergence\n",
        "def js_loss(D, dist1, dist2):\n",
        "  dist1_loss = torch.mean(torch.log(D(dist1)))\n",
        "  dist2_loss = torch.mean(torch.log(1-D(dist2)))\n",
        "  return -(dist1_loss+dist2_loss)"
      ],
      "execution_count": null,
      "outputs": []
    },
    {
      "cell_type": "code",
      "metadata": {
        "id": "yLaFcNIW20gU"
      },
      "source": [
        "#Q1.1 : Train function to estimate JS Divergence using js_loss\n",
        "def train_js(_phi = 0):\n",
        "  # Model parameters\n",
        "  d_input_size = 2    \n",
        "  d_hidden_size = 10\n",
        "  d_output_size = 1     \n",
        "  minibatch_size = 512\n",
        "  d_learning_rate = 1e-3\n",
        "  sgd_momentum = 0.9\n",
        "  num_epochs = 3000\n",
        "  print_interval = 500\n",
        "  dist1_sample, dist2_sample= None, None\n",
        "\n",
        "  D = Discriminator(input_size=d_input_size,\n",
        "                      hidden_size=d_hidden_size,\n",
        "                      output_size=d_output_size)\n",
        "  \n",
        "  if cuda:\n",
        "    D.cuda()\n",
        "    \n",
        "  D.apply(init_weights) #Initialize discriminator weights\n",
        "  d_optimizer = optim.SGD(D.parameters(), lr=d_learning_rate, momentum=sgd_momentum) #Optimizer SGD with momentum\n",
        "  \n",
        "  dist1 = iter(distribution1(0, 512)) #Distribution1= (0, Z) iterator where Z~Uniform(0,1)\n",
        "  dist2 = iter(distribution1(_phi, 512)) #Distribution2 = (_phi, Z)iterator where Z~Uniform(0,1)\n",
        "\n",
        "  for epoch in range(num_epochs):\n",
        "    # Initialize grads\n",
        "    D.zero_grad()\n",
        "    \n",
        "    #Generate dist1 data\n",
        "    dist1_sample = next(dist1)\n",
        "    if cuda:\n",
        "      dist1_sample = torch.from_numpy(dist1_sample).float().cuda()\n",
        "      dist1_sample = Variable(dist1_sample)\n",
        "      #print(dist1_sample.shape)\n",
        "\n",
        "    #Generate dist2 data\n",
        "    dist2_sample = next(dist2)\n",
        "    if cuda:\n",
        "      dist2_sample = torch.from_numpy(dist2_sample).float().cuda()\n",
        "      dist2_sample = Variable(dist2_sample)\n",
        "      #print(dist2_sample.shape)\n",
        "\n",
        "    #Calculate loss\n",
        "    loss = js_loss(D, dist1_sample, dist2_sample)\n",
        "    loss.backward()\n",
        "\n",
        "    d_optimizer.step() #  optimizes D's parameters; changes based on stored gradients from backward()\n",
        "    \n",
        "\n",
        "    if epoch % print_interval == 0:\n",
        "      print(\"Epoch %s: D ( JS Loss %s ) \" %(epoch, loss))\n",
        "      \n",
        "    #print(\"Epoch %s: D JS Loss %s  \" %(epoch, loss))\n",
        "   \n",
        "  #Return final loss\n",
        "  return loss"
      ],
      "execution_count": null,
      "outputs": []
    },
    {
      "cell_type": "markdown",
      "metadata": {
        "id": "YSrfhqMcgyZD"
      },
      "source": [
        "###Problem 1.2"
      ]
    },
    {
      "cell_type": "code",
      "metadata": {
        "id": "YLdS8C65EmxJ"
      },
      "source": [
        "#Q1.2 Critic Network\n",
        "class Critic(nn.Module):\n",
        "  def __init__(self, input_size, hidden_size, output_size):\n",
        "    super(Critic, self).__init__()\n",
        "    self.fc1 = nn.Linear(input_size, hidden_size)\n",
        "    self.fc2 = nn.Linear(hidden_size, hidden_size)\n",
        "    self.fc3 = nn.Linear(hidden_size, output_size)\n",
        "  \n",
        "  def forward(self,x):\n",
        "    x = F.relu(self.fc1(x))\n",
        "    x = F.relu(self.fc2(x))\n",
        "    return self.fc3(x)"
      ],
      "execution_count": null,
      "outputs": []
    },
    {
      "cell_type": "code",
      "metadata": {
        "id": "LTHLfFQUvPA2"
      },
      "source": [
        "#Q1.2 Loss function to estimate Wasserstein Distance\n",
        "def wd_loss(critic, dist1_samples, dist2_samples, lamda =10):\n",
        "  dist1_loss = torch.mean(critic(dist1_samples))\n",
        "  dist2_loss = torch.mean(critic(dist2_samples))\n",
        "  a = torch.FloatTensor(512, 1).uniform_(0, 1)\n",
        "  a = a.float().cuda()\n",
        "  z = a * dist1_samples + (1-a)*dist2_samples\n",
        "  z = Variable(z, requires_grad = True)\n",
        "  T_z  = critic(z)\n",
        "  grad_penalty = grad( T_z , z, grad_outputs=torch.ones(T_z.size()).cuda(),create_graph=True, only_inputs=True, retain_graph=True)[0]\n",
        "  grad_penalty = grad_penalty.view(512, -1)\n",
        "  grad_penalty = (grad_penalty.norm(2, dim=1) -1)**2\n",
        "  wd_loss = -(dist1_loss - dist2_loss -  lamda * grad_penalty.mean())\n",
        "  return wd_loss"
      ],
      "execution_count": null,
      "outputs": []
    },
    {
      "cell_type": "code",
      "metadata": {
        "id": "L8-3tPdaMXEc"
      },
      "source": [
        "#Q1.2 : Train function to estimate Wasserstein Distance using wd_loss\n",
        "def train_wd(_phi = 0):\n",
        "  # Model parameters\n",
        "  d_input_size = 2    \n",
        "  d_hidden_size = 10   \n",
        "  d_output_size = 1     \n",
        "  minibatch_size = 512\n",
        "  d_learning_rate = 1e-3\n",
        "  sgd_momentum = 0.9\n",
        "  num_epochs = 3000\n",
        "  print_interval = 500\n",
        "  dist1_sample, dist2_sample= None, None\n",
        "\n",
        "  T = Critic(input_size=d_input_size, \n",
        "             hidden_size=d_hidden_size, \n",
        "             output_size=d_output_size)\n",
        "  if cuda:\n",
        "    T.cuda()\n",
        "    \n",
        "  T.apply(init_weights) #Initialize critic\n",
        "  \n",
        "  d_optimizer = optim.SGD(T.parameters(), lr=d_learning_rate, momentum=sgd_momentum)\n",
        "  \n",
        "  dist1 = iter(distribution1(0, 512)) #Distribution1= (0, Z) iterator where Z~Uniform(0,1)\n",
        "  dist2 = iter(distribution1(_phi, 512)) #Distribution2 = (_phi, Z)iterator where Z~Uniform(0,1)\n",
        "  \n",
        "  for epoch in range(num_epochs):\n",
        "    # Initialize grads\n",
        "    T.zero_grad()\n",
        "    \n",
        "    #Generate dist1 data\n",
        "    dist1_sample = next(dist1)\n",
        "    if cuda:\n",
        "      dist1_sample = torch.from_numpy(dist1_sample).float().cuda()\n",
        "      dist1_sample = Variable(dist1_sample)\n",
        "      #print(dist1_sample.shape)\n",
        "\n",
        "    #Generate dist2 data\n",
        "    dist2_sample = next(dist2)\n",
        "    if cuda:\n",
        "      dist2_sample = torch.from_numpy(dist2_sample).float().cuda()\n",
        "      dist2_sample = Variable(dist2_sample)\n",
        "      #print(dist2_sample.shape)\n",
        "\n",
        "    #Calculate loss\n",
        "    loss = wd_loss(T, dist1_sample, dist2_sample)\n",
        "    loss.backward()\n",
        "    \n",
        "    d_optimizer.step() #  optimizes D's parameters; changes based on stored gradients from backward()\n",
        "\n",
        "    if epoch % print_interval == 0:\n",
        "      print(\"Epoch %s: D (%s WD Loss) \" %(epoch, loss))\n",
        "  \n",
        "  #Return final loss\n",
        "  return loss"
      ],
      "execution_count": null,
      "outputs": []
    },
    {
      "cell_type": "markdown",
      "metadata": {
        "id": "6pymmu4JjE4n"
      },
      "source": [
        "###Problem 1.3"
      ]
    },
    {
      "cell_type": "code",
      "metadata": {
        "id": "IZ7cqV2nQL3V",
        "outputId": "0107aabe-7697-42cb-d4ea-80e8b7a9e513",
        "colab": {
          "base_uri": "https://localhost:8080/",
          "height": 2516
        }
      },
      "source": [
        "#Q1.3\n",
        "jsd_loss_list = []\n",
        "for i in np.linspace(-1,1,21):\n",
        "  _phi = i\n",
        "  print('_phi = %s' %_phi)\n",
        "  train_loss = train_js(_phi)\n",
        "  jsd_loss =  np.log(2) - train_loss.item()/2.0 \n",
        "  jsd_loss_list.append(jsd_loss)"
      ],
      "execution_count": null,
      "outputs": [
        {
          "output_type": "stream",
          "text": [
            "_phi = -1.0\n",
            "Epoch 0: D ( JS Loss tensor(1.3766, device='cuda:0', grad_fn=<NegBackward>) ) \n",
            "Epoch 500: D ( JS Loss tensor(0.2391, device='cuda:0', grad_fn=<NegBackward>) ) \n",
            "Epoch 1000: D ( JS Loss tensor(0.0457, device='cuda:0', grad_fn=<NegBackward>) ) \n",
            "Epoch 1500: D ( JS Loss tensor(0.0187, device='cuda:0', grad_fn=<NegBackward>) ) \n",
            "Epoch 2000: D ( JS Loss tensor(0.0109, device='cuda:0', grad_fn=<NegBackward>) ) \n",
            "Epoch 2500: D ( JS Loss tensor(0.0072, device='cuda:0', grad_fn=<NegBackward>) ) \n",
            "_phi = -0.9\n",
            "Epoch 0: D ( JS Loss tensor(1.4716, device='cuda:0', grad_fn=<NegBackward>) ) \n",
            "Epoch 500: D ( JS Loss tensor(0.9222, device='cuda:0', grad_fn=<NegBackward>) ) \n",
            "Epoch 1000: D ( JS Loss tensor(0.0651, device='cuda:0', grad_fn=<NegBackward>) ) \n",
            "Epoch 1500: D ( JS Loss tensor(0.0186, device='cuda:0', grad_fn=<NegBackward>) ) \n",
            "Epoch 2000: D ( JS Loss tensor(0.0098, device='cuda:0', grad_fn=<NegBackward>) ) \n",
            "Epoch 2500: D ( JS Loss tensor(0.0062, device='cuda:0', grad_fn=<NegBackward>) ) \n",
            "_phi = -0.8\n",
            "Epoch 0: D ( JS Loss tensor(1.3411, device='cuda:0', grad_fn=<NegBackward>) ) \n",
            "Epoch 500: D ( JS Loss tensor(0.4221, device='cuda:0', grad_fn=<NegBackward>) ) \n",
            "Epoch 1000: D ( JS Loss tensor(0.0489, device='cuda:0', grad_fn=<NegBackward>) ) \n",
            "Epoch 1500: D ( JS Loss tensor(0.0167, device='cuda:0', grad_fn=<NegBackward>) ) \n",
            "Epoch 2000: D ( JS Loss tensor(0.0093, device='cuda:0', grad_fn=<NegBackward>) ) \n",
            "Epoch 2500: D ( JS Loss tensor(0.0059, device='cuda:0', grad_fn=<NegBackward>) ) \n",
            "_phi = -0.7\n",
            "Epoch 0: D ( JS Loss tensor(1.3998, device='cuda:0', grad_fn=<NegBackward>) ) \n",
            "Epoch 500: D ( JS Loss tensor(0.5725, device='cuda:0', grad_fn=<NegBackward>) ) \n",
            "Epoch 1000: D ( JS Loss tensor(0.0490, device='cuda:0', grad_fn=<NegBackward>) ) \n",
            "Epoch 1500: D ( JS Loss tensor(0.0170, device='cuda:0', grad_fn=<NegBackward>) ) \n",
            "Epoch 2000: D ( JS Loss tensor(0.0091, device='cuda:0', grad_fn=<NegBackward>) ) \n",
            "Epoch 2500: D ( JS Loss tensor(0.0061, device='cuda:0', grad_fn=<NegBackward>) ) \n",
            "_phi = -0.6\n",
            "Epoch 0: D ( JS Loss tensor(1.4693, device='cuda:0', grad_fn=<NegBackward>) ) \n",
            "Epoch 500: D ( JS Loss tensor(0.5125, device='cuda:0', grad_fn=<NegBackward>) ) \n",
            "Epoch 1000: D ( JS Loss tensor(0.0576, device='cuda:0', grad_fn=<NegBackward>) ) \n",
            "Epoch 1500: D ( JS Loss tensor(0.0225, device='cuda:0', grad_fn=<NegBackward>) ) \n",
            "Epoch 2000: D ( JS Loss tensor(0.0121, device='cuda:0', grad_fn=<NegBackward>) ) \n",
            "Epoch 2500: D ( JS Loss tensor(0.0077, device='cuda:0', grad_fn=<NegBackward>) ) \n",
            "_phi = -0.5\n",
            "Epoch 0: D ( JS Loss tensor(1.3982, device='cuda:0', grad_fn=<NegBackward>) ) \n",
            "Epoch 500: D ( JS Loss tensor(0.6488, device='cuda:0', grad_fn=<NegBackward>) ) \n",
            "Epoch 1000: D ( JS Loss tensor(0.0589, device='cuda:0', grad_fn=<NegBackward>) ) \n",
            "Epoch 1500: D ( JS Loss tensor(0.0204, device='cuda:0', grad_fn=<NegBackward>) ) \n",
            "Epoch 2000: D ( JS Loss tensor(0.0113, device='cuda:0', grad_fn=<NegBackward>) ) \n",
            "Epoch 2500: D ( JS Loss tensor(0.0073, device='cuda:0', grad_fn=<NegBackward>) ) \n",
            "_phi = -0.3999999999999999\n",
            "Epoch 0: D ( JS Loss tensor(1.4266, device='cuda:0', grad_fn=<NegBackward>) ) \n",
            "Epoch 500: D ( JS Loss tensor(1.1709, device='cuda:0', grad_fn=<NegBackward>) ) \n",
            "Epoch 1000: D ( JS Loss tensor(0.2448, device='cuda:0', grad_fn=<NegBackward>) ) \n",
            "Epoch 1500: D ( JS Loss tensor(0.0475, device='cuda:0', grad_fn=<NegBackward>) ) \n",
            "Epoch 2000: D ( JS Loss tensor(0.0207, device='cuda:0', grad_fn=<NegBackward>) ) \n",
            "Epoch 2500: D ( JS Loss tensor(0.0123, device='cuda:0', grad_fn=<NegBackward>) ) \n",
            "_phi = -0.29999999999999993\n",
            "Epoch 0: D ( JS Loss tensor(1.3808, device='cuda:0', grad_fn=<NegBackward>) ) \n",
            "Epoch 500: D ( JS Loss tensor(0.7314, device='cuda:0', grad_fn=<NegBackward>) ) \n",
            "Epoch 1000: D ( JS Loss tensor(0.0990, device='cuda:0', grad_fn=<NegBackward>) ) \n",
            "Epoch 1500: D ( JS Loss tensor(0.0327, device='cuda:0', grad_fn=<NegBackward>) ) \n",
            "Epoch 2000: D ( JS Loss tensor(0.0173, device='cuda:0', grad_fn=<NegBackward>) ) \n",
            "Epoch 2500: D ( JS Loss tensor(0.0109, device='cuda:0', grad_fn=<NegBackward>) ) \n",
            "_phi = -0.19999999999999996\n",
            "Epoch 0: D ( JS Loss tensor(1.3699, device='cuda:0', grad_fn=<NegBackward>) ) \n",
            "Epoch 500: D ( JS Loss tensor(1.2469, device='cuda:0', grad_fn=<NegBackward>) ) \n",
            "Epoch 1000: D ( JS Loss tensor(0.7079, device='cuda:0', grad_fn=<NegBackward>) ) \n",
            "Epoch 1500: D ( JS Loss tensor(0.1927, device='cuda:0', grad_fn=<NegBackward>) ) \n",
            "Epoch 2000: D ( JS Loss tensor(0.0685, device='cuda:0', grad_fn=<NegBackward>) ) \n",
            "Epoch 2500: D ( JS Loss tensor(0.0350, device='cuda:0', grad_fn=<NegBackward>) ) \n",
            "_phi = -0.09999999999999998\n",
            "Epoch 0: D ( JS Loss tensor(1.3834, device='cuda:0', grad_fn=<NegBackward>) ) \n",
            "Epoch 500: D ( JS Loss tensor(1.3724, device='cuda:0', grad_fn=<NegBackward>) ) \n",
            "Epoch 1000: D ( JS Loss tensor(1.3594, device='cuda:0', grad_fn=<NegBackward>) ) \n",
            "Epoch 1500: D ( JS Loss tensor(1.3302, device='cuda:0', grad_fn=<NegBackward>) ) \n",
            "Epoch 2000: D ( JS Loss tensor(1.2518, device='cuda:0', grad_fn=<NegBackward>) ) \n",
            "Epoch 2500: D ( JS Loss tensor(1.0186, device='cuda:0', grad_fn=<NegBackward>) ) \n",
            "_phi = 0.0\n",
            "Epoch 0: D ( JS Loss tensor(1.3864, device='cuda:0', grad_fn=<NegBackward>) ) \n",
            "Epoch 500: D ( JS Loss tensor(1.3869, device='cuda:0', grad_fn=<NegBackward>) ) \n",
            "Epoch 1000: D ( JS Loss tensor(1.3859, device='cuda:0', grad_fn=<NegBackward>) ) \n",
            "Epoch 1500: D ( JS Loss tensor(1.3869, device='cuda:0', grad_fn=<NegBackward>) ) \n",
            "Epoch 2000: D ( JS Loss tensor(1.3861, device='cuda:0', grad_fn=<NegBackward>) ) \n",
            "Epoch 2500: D ( JS Loss tensor(1.3861, device='cuda:0', grad_fn=<NegBackward>) ) \n",
            "_phi = 0.10000000000000009\n",
            "Epoch 0: D ( JS Loss tensor(1.3607, device='cuda:0', grad_fn=<NegBackward>) ) \n",
            "Epoch 500: D ( JS Loss tensor(1.3159, device='cuda:0', grad_fn=<NegBackward>) ) \n",
            "Epoch 1000: D ( JS Loss tensor(1.1881, device='cuda:0', grad_fn=<NegBackward>) ) \n",
            "Epoch 1500: D ( JS Loss tensor(0.8380, device='cuda:0', grad_fn=<NegBackward>) ) \n",
            "Epoch 2000: D ( JS Loss tensor(0.3550, device='cuda:0', grad_fn=<NegBackward>) ) \n",
            "Epoch 2500: D ( JS Loss tensor(0.1401, device='cuda:0', grad_fn=<NegBackward>) ) \n",
            "_phi = 0.20000000000000018\n",
            "Epoch 0: D ( JS Loss tensor(1.4429, device='cuda:0', grad_fn=<NegBackward>) ) \n",
            "Epoch 500: D ( JS Loss tensor(1.3746, device='cuda:0', grad_fn=<NegBackward>) ) \n",
            "Epoch 1000: D ( JS Loss tensor(1.3352, device='cuda:0', grad_fn=<NegBackward>) ) \n",
            "Epoch 1500: D ( JS Loss tensor(1.1758, device='cuda:0', grad_fn=<NegBackward>) ) \n",
            "Epoch 2000: D ( JS Loss tensor(0.4980, device='cuda:0', grad_fn=<NegBackward>) ) \n",
            "Epoch 2500: D ( JS Loss tensor(0.1048, device='cuda:0', grad_fn=<NegBackward>) ) \n",
            "_phi = 0.30000000000000004\n",
            "Epoch 0: D ( JS Loss tensor(1.3852, device='cuda:0', grad_fn=<NegBackward>) ) \n",
            "Epoch 500: D ( JS Loss tensor(1.3145, device='cuda:0', grad_fn=<NegBackward>) ) \n",
            "Epoch 1000: D ( JS Loss tensor(0.8146, device='cuda:0', grad_fn=<NegBackward>) ) \n",
            "Epoch 1500: D ( JS Loss tensor(0.1122, device='cuda:0', grad_fn=<NegBackward>) ) \n",
            "Epoch 2000: D ( JS Loss tensor(0.0348, device='cuda:0', grad_fn=<NegBackward>) ) \n",
            "Epoch 2500: D ( JS Loss tensor(0.0179, device='cuda:0', grad_fn=<NegBackward>) ) \n",
            "_phi = 0.40000000000000013\n",
            "Epoch 0: D ( JS Loss tensor(1.3989, device='cuda:0', grad_fn=<NegBackward>) ) \n",
            "Epoch 500: D ( JS Loss tensor(0.7354, device='cuda:0', grad_fn=<NegBackward>) ) \n",
            "Epoch 1000: D ( JS Loss tensor(0.0797, device='cuda:0', grad_fn=<NegBackward>) ) \n",
            "Epoch 1500: D ( JS Loss tensor(0.0262, device='cuda:0', grad_fn=<NegBackward>) ) \n",
            "Epoch 2000: D ( JS Loss tensor(0.0138, device='cuda:0', grad_fn=<NegBackward>) ) \n",
            "Epoch 2500: D ( JS Loss tensor(0.0090, device='cuda:0', grad_fn=<NegBackward>) ) \n",
            "_phi = 0.5\n",
            "Epoch 0: D ( JS Loss tensor(1.4133, device='cuda:0', grad_fn=<NegBackward>) ) \n",
            "Epoch 500: D ( JS Loss tensor(0.2571, device='cuda:0', grad_fn=<NegBackward>) ) \n",
            "Epoch 1000: D ( JS Loss tensor(0.0416, device='cuda:0', grad_fn=<NegBackward>) ) \n",
            "Epoch 1500: D ( JS Loss tensor(0.0179, device='cuda:0', grad_fn=<NegBackward>) ) \n",
            "Epoch 2000: D ( JS Loss tensor(0.0105, device='cuda:0', grad_fn=<NegBackward>) ) \n",
            "Epoch 2500: D ( JS Loss tensor(0.0074, device='cuda:0', grad_fn=<NegBackward>) ) \n",
            "_phi = 0.6000000000000001\n",
            "Epoch 0: D ( JS Loss tensor(1.4969, device='cuda:0', grad_fn=<NegBackward>) ) \n",
            "Epoch 500: D ( JS Loss tensor(0.5591, device='cuda:0', grad_fn=<NegBackward>) ) \n",
            "Epoch 1000: D ( JS Loss tensor(0.0650, device='cuda:0', grad_fn=<NegBackward>) ) \n",
            "Epoch 1500: D ( JS Loss tensor(0.0249, device='cuda:0', grad_fn=<NegBackward>) ) \n",
            "Epoch 2000: D ( JS Loss tensor(0.0141, device='cuda:0', grad_fn=<NegBackward>) ) \n",
            "Epoch 2500: D ( JS Loss tensor(0.0095, device='cuda:0', grad_fn=<NegBackward>) ) \n",
            "_phi = 0.7000000000000002\n",
            "Epoch 0: D ( JS Loss tensor(1.3078, device='cuda:0', grad_fn=<NegBackward>) ) \n",
            "Epoch 500: D ( JS Loss tensor(0.2998, device='cuda:0', grad_fn=<NegBackward>) ) \n",
            "Epoch 1000: D ( JS Loss tensor(0.0628, device='cuda:0', grad_fn=<NegBackward>) ) \n",
            "Epoch 1500: D ( JS Loss tensor(0.0249, device='cuda:0', grad_fn=<NegBackward>) ) \n",
            "Epoch 2000: D ( JS Loss tensor(0.0140, device='cuda:0', grad_fn=<NegBackward>) ) \n",
            "Epoch 2500: D ( JS Loss tensor(0.0091, device='cuda:0', grad_fn=<NegBackward>) ) \n",
            "_phi = 0.8\n",
            "Epoch 0: D ( JS Loss tensor(1.3552, device='cuda:0', grad_fn=<NegBackward>) ) \n",
            "Epoch 500: D ( JS Loss tensor(0.1968, device='cuda:0', grad_fn=<NegBackward>) ) \n",
            "Epoch 1000: D ( JS Loss tensor(0.0347, device='cuda:0', grad_fn=<NegBackward>) ) \n",
            "Epoch 1500: D ( JS Loss tensor(0.0158, device='cuda:0', grad_fn=<NegBackward>) ) \n",
            "Epoch 2000: D ( JS Loss tensor(0.0090, device='cuda:0', grad_fn=<NegBackward>) ) \n",
            "Epoch 2500: D ( JS Loss tensor(0.0063, device='cuda:0', grad_fn=<NegBackward>) ) \n",
            "_phi = 0.9000000000000001\n",
            "Epoch 0: D ( JS Loss tensor(1.3131, device='cuda:0', grad_fn=<NegBackward>) ) \n",
            "Epoch 500: D ( JS Loss tensor(0.0804, device='cuda:0', grad_fn=<NegBackward>) ) \n",
            "Epoch 1000: D ( JS Loss tensor(0.0228, device='cuda:0', grad_fn=<NegBackward>) ) \n",
            "Epoch 1500: D ( JS Loss tensor(0.0110, device='cuda:0', grad_fn=<NegBackward>) ) \n",
            "Epoch 2000: D ( JS Loss tensor(0.0073, device='cuda:0', grad_fn=<NegBackward>) ) \n",
            "Epoch 2500: D ( JS Loss tensor(0.0052, device='cuda:0', grad_fn=<NegBackward>) ) \n",
            "_phi = 1.0\n",
            "Epoch 0: D ( JS Loss tensor(1.2918, device='cuda:0', grad_fn=<NegBackward>) ) \n",
            "Epoch 500: D ( JS Loss tensor(0.1721, device='cuda:0', grad_fn=<NegBackward>) ) \n",
            "Epoch 1000: D ( JS Loss tensor(0.0338, device='cuda:0', grad_fn=<NegBackward>) ) \n",
            "Epoch 1500: D ( JS Loss tensor(0.0147, device='cuda:0', grad_fn=<NegBackward>) ) \n",
            "Epoch 2000: D ( JS Loss tensor(0.0089, device='cuda:0', grad_fn=<NegBackward>) ) \n",
            "Epoch 2500: D ( JS Loss tensor(0.0061, device='cuda:0', grad_fn=<NegBackward>) ) \n"
          ],
          "name": "stdout"
        }
      ]
    },
    {
      "cell_type": "code",
      "metadata": {
        "id": "G-PahB2-QMaF",
        "outputId": "0804ce6d-03cd-4919-f6e3-e94564fd0b87",
        "colab": {
          "base_uri": "https://localhost:8080/",
          "height": 2516
        }
      },
      "source": [
        "#Q1.3\n",
        "wd_loss_list = []\n",
        "for i in np.linspace(-1,1,21):\n",
        "  _phi = i\n",
        "  print('_phi = %s' %_phi)\n",
        "  train_loss = train_wd(_phi)\n",
        "  wd_loss_ =  - train_loss.item() \n",
        "  wd_loss_list.append(wd_loss_)"
      ],
      "execution_count": null,
      "outputs": [
        {
          "output_type": "stream",
          "text": [
            "_phi = -1.0\n",
            "Epoch 0: D (tensor(4.0349, device='cuda:0', grad_fn=<NegBackward>) WD Loss) \n",
            "Epoch 500: D (tensor(-1.0229, device='cuda:0', grad_fn=<NegBackward>) WD Loss) \n",
            "Epoch 1000: D (tensor(-1.0240, device='cuda:0', grad_fn=<NegBackward>) WD Loss) \n",
            "Epoch 1500: D (tensor(-1.0246, device='cuda:0', grad_fn=<NegBackward>) WD Loss) \n",
            "Epoch 2000: D (tensor(-1.0248, device='cuda:0', grad_fn=<NegBackward>) WD Loss) \n",
            "Epoch 2500: D (tensor(-1.0248, device='cuda:0', grad_fn=<NegBackward>) WD Loss) \n",
            "_phi = -0.9\n",
            "Epoch 0: D (tensor(3.6358, device='cuda:0', grad_fn=<NegBackward>) WD Loss) \n",
            "Epoch 500: D (tensor(-0.9185, device='cuda:0', grad_fn=<NegBackward>) WD Loss) \n",
            "Epoch 1000: D (tensor(-0.9187, device='cuda:0', grad_fn=<NegBackward>) WD Loss) \n",
            "Epoch 1500: D (tensor(-0.9197, device='cuda:0', grad_fn=<NegBackward>) WD Loss) \n",
            "Epoch 2000: D (tensor(-0.9199, device='cuda:0', grad_fn=<NegBackward>) WD Loss) \n",
            "Epoch 2500: D (tensor(-0.9198, device='cuda:0', grad_fn=<NegBackward>) WD Loss) \n",
            "_phi = -0.8\n",
            "Epoch 0: D (tensor(7.8091, device='cuda:0', grad_fn=<NegBackward>) WD Loss) \n",
            "Epoch 500: D (tensor(-0.8146, device='cuda:0', grad_fn=<NegBackward>) WD Loss) \n",
            "Epoch 1000: D (tensor(-0.8152, device='cuda:0', grad_fn=<NegBackward>) WD Loss) \n",
            "Epoch 1500: D (tensor(-0.8151, device='cuda:0', grad_fn=<NegBackward>) WD Loss) \n",
            "Epoch 2000: D (tensor(-0.8156, device='cuda:0', grad_fn=<NegBackward>) WD Loss) \n",
            "Epoch 2500: D (tensor(-0.8149, device='cuda:0', grad_fn=<NegBackward>) WD Loss) \n",
            "_phi = -0.7\n",
            "Epoch 0: D (tensor(2.1432, device='cuda:0', grad_fn=<NegBackward>) WD Loss) \n",
            "Epoch 500: D (tensor(-0.7128, device='cuda:0', grad_fn=<NegBackward>) WD Loss) \n",
            "Epoch 1000: D (tensor(-0.7122, device='cuda:0', grad_fn=<NegBackward>) WD Loss) \n",
            "Epoch 1500: D (tensor(-0.7122, device='cuda:0', grad_fn=<NegBackward>) WD Loss) \n",
            "Epoch 2000: D (tensor(-0.7122, device='cuda:0', grad_fn=<NegBackward>) WD Loss) \n",
            "Epoch 2500: D (tensor(-0.7123, device='cuda:0', grad_fn=<NegBackward>) WD Loss) \n",
            "_phi = -0.6\n",
            "Epoch 0: D (tensor(3.3723, device='cuda:0', grad_fn=<NegBackward>) WD Loss) \n",
            "Epoch 500: D (tensor(-0.6090, device='cuda:0', grad_fn=<NegBackward>) WD Loss) \n",
            "Epoch 1000: D (tensor(-0.6090, device='cuda:0', grad_fn=<NegBackward>) WD Loss) \n",
            "Epoch 1500: D (tensor(-0.6090, device='cuda:0', grad_fn=<NegBackward>) WD Loss) \n",
            "Epoch 2000: D (tensor(-0.6090, device='cuda:0', grad_fn=<NegBackward>) WD Loss) \n",
            "Epoch 2500: D (tensor(-0.6090, device='cuda:0', grad_fn=<NegBackward>) WD Loss) \n",
            "_phi = -0.5\n",
            "Epoch 0: D (tensor(6.7474, device='cuda:0', grad_fn=<NegBackward>) WD Loss) \n",
            "Epoch 500: D (tensor(-0.5049, device='cuda:0', grad_fn=<NegBackward>) WD Loss) \n",
            "Epoch 1000: D (tensor(-0.5064, device='cuda:0', grad_fn=<NegBackward>) WD Loss) \n",
            "Epoch 1500: D (tensor(-0.5063, device='cuda:0', grad_fn=<NegBackward>) WD Loss) \n",
            "Epoch 2000: D (tensor(-0.5062, device='cuda:0', grad_fn=<NegBackward>) WD Loss) \n",
            "Epoch 2500: D (tensor(-0.5061, device='cuda:0', grad_fn=<NegBackward>) WD Loss) \n",
            "_phi = -0.3999999999999999\n",
            "Epoch 0: D (tensor(8.1258, device='cuda:0', grad_fn=<NegBackward>) WD Loss) \n",
            "Epoch 500: D (tensor(-0.4020, device='cuda:0', grad_fn=<NegBackward>) WD Loss) \n",
            "Epoch 1000: D (tensor(-0.4037, device='cuda:0', grad_fn=<NegBackward>) WD Loss) \n",
            "Epoch 1500: D (tensor(-0.4040, device='cuda:0', grad_fn=<NegBackward>) WD Loss) \n",
            "Epoch 2000: D (tensor(-0.4040, device='cuda:0', grad_fn=<NegBackward>) WD Loss) \n",
            "Epoch 2500: D (tensor(-0.4040, device='cuda:0', grad_fn=<NegBackward>) WD Loss) \n",
            "_phi = -0.29999999999999993\n",
            "Epoch 0: D (tensor(8.4660, device='cuda:0', grad_fn=<NegBackward>) WD Loss) \n",
            "Epoch 500: D (tensor(-0.3015, device='cuda:0', grad_fn=<NegBackward>) WD Loss) \n",
            "Epoch 1000: D (tensor(-0.3022, device='cuda:0', grad_fn=<NegBackward>) WD Loss) \n",
            "Epoch 1500: D (tensor(-0.3023, device='cuda:0', grad_fn=<NegBackward>) WD Loss) \n",
            "Epoch 2000: D (tensor(-0.3022, device='cuda:0', grad_fn=<NegBackward>) WD Loss) \n",
            "Epoch 2500: D (tensor(-0.3022, device='cuda:0', grad_fn=<NegBackward>) WD Loss) \n",
            "_phi = -0.19999999999999996\n",
            "Epoch 0: D (tensor(7.5816, device='cuda:0', grad_fn=<NegBackward>) WD Loss) \n",
            "Epoch 500: D (tensor(-0.1984, device='cuda:0', grad_fn=<NegBackward>) WD Loss) \n",
            "Epoch 1000: D (tensor(-0.2005, device='cuda:0', grad_fn=<NegBackward>) WD Loss) \n",
            "Epoch 1500: D (tensor(-0.2010, device='cuda:0', grad_fn=<NegBackward>) WD Loss) \n",
            "Epoch 2000: D (tensor(-0.2010, device='cuda:0', grad_fn=<NegBackward>) WD Loss) \n",
            "Epoch 2500: D (tensor(-0.2010, device='cuda:0', grad_fn=<NegBackward>) WD Loss) \n",
            "_phi = -0.09999999999999998\n",
            "Epoch 0: D (tensor(5.8634, device='cuda:0', grad_fn=<NegBackward>) WD Loss) \n",
            "Epoch 500: D (tensor(-0.0756, device='cuda:0', grad_fn=<NegBackward>) WD Loss) \n",
            "Epoch 1000: D (tensor(-0.1044, device='cuda:0', grad_fn=<NegBackward>) WD Loss) \n",
            "Epoch 1500: D (tensor(-0.0978, device='cuda:0', grad_fn=<NegBackward>) WD Loss) \n",
            "Epoch 2000: D (tensor(-0.1008, device='cuda:0', grad_fn=<NegBackward>) WD Loss) \n",
            "Epoch 2500: D (tensor(-0.1003, device='cuda:0', grad_fn=<NegBackward>) WD Loss) \n",
            "_phi = 0.0\n",
            "Epoch 0: D (tensor(1.1023, device='cuda:0', grad_fn=<NegBackward>) WD Loss) \n",
            "Epoch 500: D (tensor(-0.0076, device='cuda:0', grad_fn=<NegBackward>) WD Loss) \n",
            "Epoch 1000: D (tensor(-0.0098, device='cuda:0', grad_fn=<NegBackward>) WD Loss) \n",
            "Epoch 1500: D (tensor(0.0144, device='cuda:0', grad_fn=<NegBackward>) WD Loss) \n",
            "Epoch 2000: D (tensor(0.0023, device='cuda:0', grad_fn=<NegBackward>) WD Loss) \n",
            "Epoch 2500: D (tensor(-0.0071, device='cuda:0', grad_fn=<NegBackward>) WD Loss) \n",
            "_phi = 0.10000000000000009\n",
            "Epoch 0: D (tensor(3.7650, device='cuda:0', grad_fn=<NegBackward>) WD Loss) \n",
            "Epoch 500: D (tensor(-0.0893, device='cuda:0', grad_fn=<NegBackward>) WD Loss) \n",
            "Epoch 1000: D (tensor(-0.0910, device='cuda:0', grad_fn=<NegBackward>) WD Loss) \n",
            "Epoch 1500: D (tensor(-0.0980, device='cuda:0', grad_fn=<NegBackward>) WD Loss) \n",
            "Epoch 2000: D (tensor(-0.1013, device='cuda:0', grad_fn=<NegBackward>) WD Loss) \n",
            "Epoch 2500: D (tensor(-0.0980, device='cuda:0', grad_fn=<NegBackward>) WD Loss) \n",
            "_phi = 0.20000000000000018\n",
            "Epoch 0: D (tensor(4.6666, device='cuda:0', grad_fn=<NegBackward>) WD Loss) \n",
            "Epoch 500: D (tensor(-0.1033, device='cuda:0', grad_fn=<NegBackward>) WD Loss) \n",
            "Epoch 1000: D (tensor(-0.1936, device='cuda:0', grad_fn=<NegBackward>) WD Loss) \n",
            "Epoch 1500: D (tensor(-0.2006, device='cuda:0', grad_fn=<NegBackward>) WD Loss) \n",
            "Epoch 2000: D (tensor(-0.2014, device='cuda:0', grad_fn=<NegBackward>) WD Loss) \n",
            "Epoch 2500: D (tensor(-0.2008, device='cuda:0', grad_fn=<NegBackward>) WD Loss) \n",
            "_phi = 0.30000000000000004\n",
            "Epoch 0: D (tensor(7.8553, device='cuda:0', grad_fn=<NegBackward>) WD Loss) \n",
            "Epoch 500: D (tensor(-0.2980, device='cuda:0', grad_fn=<NegBackward>) WD Loss) \n",
            "Epoch 1000: D (tensor(-0.3023, device='cuda:0', grad_fn=<NegBackward>) WD Loss) \n",
            "Epoch 1500: D (tensor(-0.3018, device='cuda:0', grad_fn=<NegBackward>) WD Loss) \n",
            "Epoch 2000: D (tensor(-0.3019, device='cuda:0', grad_fn=<NegBackward>) WD Loss) \n",
            "Epoch 2500: D (tensor(-0.3021, device='cuda:0', grad_fn=<NegBackward>) WD Loss) \n",
            "_phi = 0.40000000000000013\n",
            "Epoch 0: D (tensor(4.1822, device='cuda:0', grad_fn=<NegBackward>) WD Loss) \n",
            "Epoch 500: D (tensor(-0.4034, device='cuda:0', grad_fn=<NegBackward>) WD Loss) \n",
            "Epoch 1000: D (tensor(-0.4040, device='cuda:0', grad_fn=<NegBackward>) WD Loss) \n",
            "Epoch 1500: D (tensor(-0.4041, device='cuda:0', grad_fn=<NegBackward>) WD Loss) \n",
            "Epoch 2000: D (tensor(-0.4040, device='cuda:0', grad_fn=<NegBackward>) WD Loss) \n",
            "Epoch 2500: D (tensor(-0.4040, device='cuda:0', grad_fn=<NegBackward>) WD Loss) \n",
            "_phi = 0.5\n",
            "Epoch 0: D (tensor(6.2853, device='cuda:0', grad_fn=<NegBackward>) WD Loss) \n",
            "Epoch 500: D (tensor(-0.5058, device='cuda:0', grad_fn=<NegBackward>) WD Loss) \n",
            "Epoch 1000: D (tensor(-0.5063, device='cuda:0', grad_fn=<NegBackward>) WD Loss) \n",
            "Epoch 1500: D (tensor(-0.5063, device='cuda:0', grad_fn=<NegBackward>) WD Loss) \n",
            "Epoch 2000: D (tensor(-0.5062, device='cuda:0', grad_fn=<NegBackward>) WD Loss) \n",
            "Epoch 2500: D (tensor(-0.5063, device='cuda:0', grad_fn=<NegBackward>) WD Loss) \n",
            "_phi = 0.6000000000000001\n",
            "Epoch 0: D (tensor(6.3812, device='cuda:0', grad_fn=<NegBackward>) WD Loss) \n",
            "Epoch 500: D (tensor(-0.6089, device='cuda:0', grad_fn=<NegBackward>) WD Loss) \n",
            "Epoch 1000: D (tensor(-0.6090, device='cuda:0', grad_fn=<NegBackward>) WD Loss) \n",
            "Epoch 1500: D (tensor(-0.6090, device='cuda:0', grad_fn=<NegBackward>) WD Loss) \n",
            "Epoch 2000: D (tensor(-0.6090, device='cuda:0', grad_fn=<NegBackward>) WD Loss) \n",
            "Epoch 2500: D (tensor(-0.6090, device='cuda:0', grad_fn=<NegBackward>) WD Loss) \n",
            "_phi = 0.7000000000000002\n",
            "Epoch 0: D (tensor(8.4697, device='cuda:0', grad_fn=<NegBackward>) WD Loss) \n",
            "Epoch 500: D (tensor(-0.7125, device='cuda:0', grad_fn=<NegBackward>) WD Loss) \n",
            "Epoch 1000: D (tensor(-0.7117, device='cuda:0', grad_fn=<NegBackward>) WD Loss) \n",
            "Epoch 1500: D (tensor(-0.7121, device='cuda:0', grad_fn=<NegBackward>) WD Loss) \n",
            "Epoch 2000: D (tensor(-0.7124, device='cuda:0', grad_fn=<NegBackward>) WD Loss) \n",
            "Epoch 2500: D (tensor(-0.7123, device='cuda:0', grad_fn=<NegBackward>) WD Loss) \n",
            "_phi = 0.8\n",
            "Epoch 0: D (tensor(4.8292, device='cuda:0', grad_fn=<NegBackward>) WD Loss) \n",
            "Epoch 500: D (tensor(-0.8149, device='cuda:0', grad_fn=<NegBackward>) WD Loss) \n",
            "Epoch 1000: D (tensor(-0.8169, device='cuda:0', grad_fn=<NegBackward>) WD Loss) \n",
            "Epoch 1500: D (tensor(-0.8151, device='cuda:0', grad_fn=<NegBackward>) WD Loss) \n",
            "Epoch 2000: D (tensor(-0.8162, device='cuda:0', grad_fn=<NegBackward>) WD Loss) \n",
            "Epoch 2500: D (tensor(-0.8161, device='cuda:0', grad_fn=<NegBackward>) WD Loss) \n",
            "_phi = 0.9000000000000001\n",
            "Epoch 0: D (tensor(8.5862, device='cuda:0', grad_fn=<NegBackward>) WD Loss) \n",
            "Epoch 500: D (tensor(-0.9203, device='cuda:0', grad_fn=<NegBackward>) WD Loss) \n",
            "Epoch 1000: D (tensor(-0.9201, device='cuda:0', grad_fn=<NegBackward>) WD Loss) \n",
            "Epoch 1500: D (tensor(-0.9202, device='cuda:0', grad_fn=<NegBackward>) WD Loss) \n",
            "Epoch 2000: D (tensor(-0.9199, device='cuda:0', grad_fn=<NegBackward>) WD Loss) \n",
            "Epoch 2500: D (tensor(-0.9201, device='cuda:0', grad_fn=<NegBackward>) WD Loss) \n",
            "_phi = 1.0\n",
            "Epoch 0: D (tensor(5.2754, device='cuda:0', grad_fn=<NegBackward>) WD Loss) \n",
            "Epoch 500: D (tensor(-1.0249, device='cuda:0', grad_fn=<NegBackward>) WD Loss) \n",
            "Epoch 1000: D (tensor(-1.0250, device='cuda:0', grad_fn=<NegBackward>) WD Loss) \n",
            "Epoch 1500: D (tensor(-1.0249, device='cuda:0', grad_fn=<NegBackward>) WD Loss) \n",
            "Epoch 2000: D (tensor(-1.0249, device='cuda:0', grad_fn=<NegBackward>) WD Loss) \n",
            "Epoch 2500: D (tensor(-1.0250, device='cuda:0', grad_fn=<NegBackward>) WD Loss) \n"
          ],
          "name": "stdout"
        }
      ]
    },
    {
      "cell_type": "code",
      "metadata": {
        "id": "va491jt3QIFl",
        "outputId": "79d059fe-d8a1-42b0-ccbe-1e9682384ac0",
        "colab": {
          "base_uri": "https://localhost:8080/",
          "height": 281
        }
      },
      "source": [
        "#Q1.3 Plot JS Divergence vs Wasserstein Distance\n",
        "x = np.linspace(-1,1,21)\n",
        "plt.plot(x, jsd_loss_list)\n",
        "plt.plot(x, wd_loss_list)\n",
        "plt.legend(['J-S Divergence','Wasserstein Distance'])\n",
        "plt.title('J-S Divergence vs Wasserstein Distance')\n",
        "plt.show()"
      ],
      "execution_count": null,
      "outputs": [
        {
          "output_type": "display_data",
          "data": {
            "image/png": "[encoded data removed]",
            "text/plain": [
              "<Figure size 432x288 with 1 Axes>"
            ]
          },
          "metadata": {
            "tags": []
          }
        }
      ]
    },
    {
      "cell_type": "markdown",
      "metadata": {
        "id": "UuNNGvWqouPn"
      },
      "source": [
        "### Problem 1.4"
      ]
    },
    {
      "cell_type": "code",
      "metadata": {
        "id": "81tH9_3no8T_",
        "outputId": "f3d62b43-23e7-430f-c5d6-fb159d0ef929",
        "colab": {
          "base_uri": "https://localhost:8080/",
          "height": 286
        }
      },
      "source": [
        "from __future__ import print_function\n",
        "import numpy as np\n",
        "import torch \n",
        "import matplotlib.pyplot as plt\n",
        "\n",
        "# plot p0 and p1\n",
        "plt.figure()\n",
        "\n",
        "# empirical\n",
        "xx = torch.randn(10000)\n",
        "f = lambda x: torch.tanh(x*2+1) + x*0.75\n",
        "d = lambda x: (1-torch.tanh(x*2+1)**2)*2+0.75\n",
        "plt.hist(f(xx), 100, alpha=0.5, density=1)\n",
        "plt.hist(xx, 100, alpha=0.5, density=1)\n",
        "plt.xlim(-5,5)\n",
        "# exact\n",
        "xx = np.linspace(-5,5,1000)\n",
        "N = lambda x: np.exp(-x**2/2.)/((2*np.pi)**0.5)\n",
        "plt.plot(f(torch.from_numpy(xx)).numpy(), d(torch.from_numpy(xx)).numpy()**(-1)*N(xx))\n",
        "plt.plot(xx, N(xx))\n"
      ],
      "execution_count": null,
      "outputs": [
        {
          "output_type": "execute_result",
          "data": {
            "text/plain": [
              "[<matplotlib.lines.Line2D at 0x7f9816582f60>]"
            ]
          },
          "metadata": {
            "tags": []
          },
          "execution_count": 14
        },
        {
          "output_type": "display_data",
          "data": {
            "image/png": "[encoded data removed]",
            "text/plain": [
              "<Figure size 432x288 with 1 Axes>"
            ]
          },
          "metadata": {
            "tags": []
          }
        }
      ]
    },
    {
      "cell_type": "code",
      "metadata": {
        "id": "dVTdlUvcpSCA",
        "outputId": "a712c724-1c28-4685-d7ed-a68cd10a0443",
        "colab": {
          "base_uri": "https://localhost:8080/",
          "height": 102
        }
      },
      "source": [
        "############### import the sampler ``samplers.distribution4'' \n",
        "############### train a discriminator on distribution4 and standard gaussian\n",
        "############### estimate the density of distribution4\n",
        "\n",
        "#######--- INSERT YOUR CODE BELOW ---#######\n",
        "\n",
        "#Discriminator\n",
        "class Discriminator_1(nn.Module):\n",
        "  def __init__(self, input_size, hidden_size, output_size):\n",
        "    super(Discriminator_1, self).__init__()\n",
        "    self.fc1 = nn.Linear(input_size, hidden_size)\n",
        "    self.fc2 = nn.Linear(hidden_size, hidden_size)\n",
        "    self.fc3 = nn.Linear(hidden_size, output_size)\n",
        "  \n",
        "  def forward(self,x):\n",
        "    x = F.leaky_relu_(self.fc1(x), negative_slope=0.1)\n",
        "    x = F.leaky_relu_(self.fc2(x), negative_slope=0.1)\n",
        "    return  torch.sigmoid(self.fc3(x))\n",
        "  #def forward(self,x):\n",
        "  #  x = torch.sigmoid(self.fc1(x))\n",
        "  #  x = torch.sigmoid(self.fc2(x))\n",
        "  #  return  torch.sigmoid(self.fc3(x))\n",
        "\n",
        "D = Discriminator_1(input_size=1,\n",
        "                  hidden_size=10,\n",
        "                  output_size=1)\n",
        "if cuda:\n",
        "  D.cuda()\n",
        "D.apply(init_weights)\n",
        "\n",
        "d_learning_rate = 1e-3\n",
        "#sgd_momentum = 0.9\n",
        "num_epochs =  5000\n",
        "print_interval = 1000\n",
        "f0_sample, f1_sample= None, None\n",
        "d_optimizer = optim.Adam (D.parameters(), lr=d_learning_rate)#, momentum=sgd_momentum)\n",
        "\n",
        "dist_gaussian = iter(distribution3(512))\n",
        "dist_unknown = iter(distribution4(512))\n",
        "\n",
        "for epoch in range(num_epochs):\n",
        "  # Initialize grads\n",
        "  D.zero_grad()\n",
        "    \n",
        "  #Generate dist1 data\n",
        "  f0_sample = next(dist_gaussian)\n",
        "  if cuda:\n",
        "    f0_sample = torch.from_numpy(f0_sample).float().cuda()\n",
        "    f0_sample = Variable(f0_sample)\n",
        "    #print(f0_sample.shape)\n",
        "\n",
        "  #Generate dist2 data\n",
        "  f1_sample = next(dist_unknown)\n",
        "  if cuda:\n",
        "    f1_sample = torch.from_numpy(f1_sample).float().cuda()\n",
        "    f1_sample = Variable(f1_sample)\n",
        "    #print(f1_sample.shape)\n",
        "    \n",
        "  #Calculate loss\n",
        "  f0_loss = torch.mean(torch.log(1-D(f0_sample)))\n",
        "  f1_loss = torch.mean(torch.log(D(f1_sample)))\n",
        "  loss = -(f0_loss + f1_loss)\n",
        "  loss.backward()\n",
        "\n",
        "  d_optimizer.step() #  optimizes D's parameters; changes based on stored gradients from backward()\n",
        "   \n",
        "  if epoch % print_interval == 0:\n",
        "    print(\"Epoch %s: D ( Loss %0.4f ) \" %(epoch, loss.item()))"
      ],
      "execution_count": null,
      "outputs": [
        {
          "output_type": "stream",
          "text": [
            "Epoch 0: D ( Loss 1.4516 ) \n",
            "Epoch 1000: D ( Loss 1.2427 ) \n",
            "Epoch 2000: D ( Loss 1.2041 ) \n",
            "Epoch 3000: D ( Loss 1.2059 ) \n",
            "Epoch 4000: D ( Loss 1.2056 ) \n"
          ],
          "name": "stdout"
        }
      ]
    },
    {
      "cell_type": "code",
      "metadata": {
        "id": "59WN6Kr2vMvP"
      },
      "source": [
        "D.eval()\n",
        "xx = np.linspace(-5,5,1000)\n",
        "xx_tensor = torch.from_numpy(xx).float().cuda()\n",
        "xx_tensor = xx_tensor.view(1000,1)\n",
        "D_xx = D(xx_tensor)  #Output of discriminator\n"
      ],
      "execution_count": null,
      "outputs": []
    },
    {
      "cell_type": "code",
      "metadata": {
        "id": "CB9d78EJ4zZK"
      },
      "source": [
        "xx_tensor = xx_tensor.cpu()\n",
        "D_xx = D_xx.cpu()"
      ],
      "execution_count": null,
      "outputs": []
    },
    {
      "cell_type": "code",
      "metadata": {
        "id": "jA_rF2Sq4mny",
        "outputId": "92423124-5c2b-44cc-ace6-0c56de5aa35c",
        "colab": {
          "base_uri": "https://localhost:8080/",
          "height": 300
        }
      },
      "source": [
        "############### plotting things\n",
        "############### (1) plot the output of your trained discriminator \n",
        "r = D_xx.detach().numpy()\n",
        "plt.figure(figsize=(8,4))\n",
        "plt.subplot(1,2,1)\n",
        "plt.plot(xx, r)\n",
        "plt.title(r'$D(x)$')"
      ],
      "execution_count": null,
      "outputs": [
        {
          "output_type": "execute_result",
          "data": {
            "text/plain": [
              "Text(0.5, 1.0, '$D(x)$')"
            ]
          },
          "metadata": {
            "tags": []
          },
          "execution_count": 18
        },
        {
          "output_type": "display_data",
          "data": {
            "image/png": "[encoded data removed]",
            "text/plain": [
              "<Figure size 576x288 with 1 Axes>"
            ]
          },
          "metadata": {
            "tags": []
          }
        }
      ]
    },
    {
      "cell_type": "code",
      "metadata": {
        "id": "RC5QfTOzxxdg",
        "outputId": "a22366c3-b34e-4471-c33c-a2d383543b9f",
        "colab": {
          "base_uri": "https://localhost:8080/",
          "height": 298
        }
      },
      "source": [
        "############### (2) plot the estimated density contrasted with the true density\n",
        "estimated_f1 = N(xx_tensor) * D_xx  / (1-D_xx)\n",
        "estimate = estimated_f1.detach().numpy() \n",
        "#PLot\n",
        "#plt.subplot(1,2,2)\n",
        "plt.plot(xx, estimate)\n",
        "plt.plot(f(torch.from_numpy(xx)).numpy(), d(torch.from_numpy(xx)).numpy()**(-1)*N(xx))\n",
        "plt.legend(['Estimated','True'])\n",
        "plt.title('Estimated vs True')"
      ],
      "execution_count": null,
      "outputs": [
        {
          "output_type": "execute_result",
          "data": {
            "text/plain": [
              "Text(0.5, 1.0, 'Estimated vs True')"
            ]
          },
          "metadata": {
            "tags": []
          },
          "execution_count": 19
        },
        {
          "output_type": "display_data",
          "data": {
            "image/png": "[encoded data removed]",
            "text/plain": [
              "<Figure size 432x288 with 1 Axes>"
            ]
          },
          "metadata": {
            "tags": []
          }
        }
      ]
    },
    {
      "cell_type": "code",
      "metadata": {
        "id": "dOpW5kVeKE6N"
      },
      "source": [
        ""
      ],
      "execution_count": null,
      "outputs": []
    }
  ]
}